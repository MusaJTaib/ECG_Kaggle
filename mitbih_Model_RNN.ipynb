{
 "cells": [
  {
   "cell_type": "code",
   "execution_count": 288,
   "metadata": {},
   "outputs": [],
   "source": [
    "import pandas as pd\n",
    "from imblearn.over_sampling import RandomOverSampler\n",
    "from imblearn.under_sampling import RandomUnderSampler\n",
    "from sklearn.model_selection import cross_val_score\n",
    "from sklearn.model_selection import train_test_split\n",
    "from sklearn.linear_model import LogisticRegression\n",
    "import matplotlib.pyplot as plt\n",
    "from tslearn.clustering import KShape\n",
    "import numpy as np\n",
    "from sklearn import tree"
   ]
  },
  {
   "cell_type": "code",
   "execution_count": 289,
   "metadata": {},
   "outputs": [],
   "source": [
    "Restriction = '3-SD'\n",
    "numberOfFeatures2 = numberOfWindows = 10\n",
    "ep = 175\n",
    "ep_es = 25"
   ]
  },
  {
   "cell_type": "code",
   "execution_count": 290,
   "metadata": {},
   "outputs": [],
   "source": [
    "FeatureSetB1 = pd.read_csv('Windows/mitbih_10Ws.csv')\n",
    "FeatureSetB1.drop(\"Unnamed: 0\",axis=1,inplace = True)\n",
    "FeatureSetB1 = FeatureSetB1.drop('index', axis=1)\n",
    "tree = tree.DecisionTreeClassifier()"
   ]
  },
  {
   "cell_type": "code",
   "execution_count": 291,
   "metadata": {},
   "outputs": [],
   "source": [
    "FeatureSetB2 = FeatureSetB1.sample(frac=1)"
   ]
  },
  {
   "cell_type": "code",
   "execution_count": 292,
   "metadata": {},
   "outputs": [],
   "source": [
    "import pandas as pd\n",
    "import numpy as np\n",
    "\n",
    "B_class_0 = FeatureSetB2[FeatureSetB2['Class'] == 0]\n",
    "B_class_1 = FeatureSetB2[FeatureSetB2['Class'] == 1]\n",
    "B_class_2 = FeatureSetB2[FeatureSetB2['Class'] == 2]\n",
    "B_class_3 = FeatureSetB2[FeatureSetB2['Class'] == 3]\n",
    "B_class_4 = FeatureSetB2[FeatureSetB2['Class'] == 4]\n",
    "\n",
    "\n",
    "# Calculate the Z-scores for each feature\n",
    "z_score_0 = (B_class_0 - B_class_0.mean()) / B_class_0.std()\n",
    "z_score_1 = (B_class_1 - B_class_1.mean()) / B_class_1.std()\n",
    "z_score_2 = (B_class_2 - B_class_2.mean()) / B_class_2.std()\n",
    "z_score_3 = (B_class_3 - B_class_3.mean()) / B_class_3.std()\n",
    "z_score_4 = (B_class_4 - B_class_4.mean()) / B_class_4.std()\n",
    "\n",
    "# Set a threshold for the Z-score\n",
    "threshold_0 = 2\n",
    "threshold_1 = 2.75\n",
    "threshold_2 = 2.75\n",
    "threshold_3 = 2.75\n",
    "threshold_4 = 2.75\n",
    "\n",
    "# Identify the outliers based on the threshold\n",
    "outliers_0 = np.abs(z_score_0) > threshold_0\n",
    "outliers_1 = np.abs(z_score_1) > threshold_1\n",
    "outliers_2 = np.abs(z_score_2) > threshold_2\n",
    "outliers_3 = np.abs(z_score_3) > threshold_3\n",
    "outliers_4 = np.abs(z_score_4) > threshold_4\n",
    "\n",
    "# Remove the outliers from the dataset\n",
    "B_class_0 = B_class_0[~outliers_0.any(axis=1)]\n",
    "B_class_1 = B_class_1[~outliers_1.any(axis=1)]\n",
    "B_class_2 = B_class_2[~outliers_2.any(axis=1)]\n",
    "B_class_3 = B_class_3[~outliers_3.any(axis=1)]\n",
    "B_class_4 = B_class_4[~outliers_4.any(axis=1)]\n",
    "\n",
    "# Split the dataset into two classes and perform clustering as described in the previous answer\n",
    "merged_df = pd.concat([B_class_0,B_class_1,B_class_2,B_class_3,B_class_4])\n",
    "merged_df = merged_df.sample(frac=1)"
   ]
  },
  {
   "cell_type": "code",
   "execution_count": 293,
   "metadata": {},
   "outputs": [],
   "source": [
    "X = FeatureSetB2.iloc[:, :-2]\n",
    "y = FeatureSetB2[['Class']]"
   ]
  },
  {
   "cell_type": "code",
   "execution_count": 294,
   "metadata": {},
   "outputs": [],
   "source": [
    "# Calculate the number of samples in the majority class\n",
    "sampling_strategy = {1: 20000, 2: 20000, 3: 20000, 4:20000}\n",
    "\n",
    "ros = RandomOverSampler(sampling_strategy=sampling_strategy)\n",
    "ros2 = RandomUnderSampler(sampling_strategy= {0:40000})\n",
    "\n",
    "# X,y = ros.fit_resample(X,y)\n",
    "# x,y = ros2.fit_resample(X,y)"
   ]
  },
  {
   "cell_type": "code",
   "execution_count": 295,
   "metadata": {},
   "outputs": [],
   "source": [
    "X_train1, X_test, y_train1, y_test = train_test_split(X,y, test_size=0.2, random_state=1, stratify=y, shuffle=True)\n",
    "\n",
    "X_train1,y_train1 = ros.fit_resample(X_train1,y_train1)\n",
    "x,y = ros2.fit_resample(X_train1,y_train1)\n",
    "\n",
    "X_train2, X_val, y_train2, y_val = train_test_split(x,y, test_size=0.2, random_state=1, stratify=y, shuffle=True)\n"
   ]
  },
  {
   "cell_type": "code",
   "execution_count": null,
   "metadata": {},
   "outputs": [],
   "source": []
  },
  {
   "attachments": {},
   "cell_type": "markdown",
   "metadata": {},
   "source": [
    "Rye - Artificial Neural Network "
   ]
  },
  {
   "cell_type": "code",
   "execution_count": 296,
   "metadata": {},
   "outputs": [],
   "source": [
    "import keras\n",
    "from keras.models import Sequential\n",
    "from keras.layers import Dense, Dropout,Flatten, Activation\n",
    "from sklearn import metrics\n",
    "from keras.layers import LSTM\n",
    "import tensorflow as tf\n",
    "import sys\n",
    "mod=sys.modules[__name__]"
   ]
  },
  {
   "cell_type": "code",
   "execution_count": 297,
   "metadata": {},
   "outputs": [],
   "source": [
    "import numpy as np\n",
    "from sklearn.metrics import f1_score\n",
    "from sklearn.metrics import precision_score\n",
    "from sklearn.metrics import recall_score\n",
    "from sklearn.preprocessing import OneHotEncoder\n",
    "from sklearn.metrics import accuracy_score\n",
    "from tensorflow.keras.utils import to_categorical\n",
    "\n",
    "import warnings\n",
    "warnings.filterwarnings(\"ignore\")\n",
    "\n",
    "from sklearn import preprocessing\n",
    "from sklearn.preprocessing import LabelEncoder\n",
    "from sklearn.utils import class_weight\n",
    "\n",
    "stop_early = tf.keras.callbacks.EarlyStopping(monitor='val_loss', patience = ep_es, mode='min',restore_best_weights=True)\n",
    "\n",
    "acc_score = []\n",
    "re_score = []\n",
    "pre_score = []\n",
    "history_1 = []\n",
    "f_score = []\n",
    "auroc_score = []\n",
    "auprc_score = []"
   ]
  },
  {
   "cell_type": "code",
   "execution_count": 298,
   "metadata": {},
   "outputs": [
    {
     "name": "stdout",
     "output_type": "stream",
     "text": [
      "Model: \"sequential_17\"\n",
      "_________________________________________________________________\n",
      " Layer (type)                Output Shape              Param #   \n",
      "=================================================================\n",
      " dense_57 (Dense)            (None, 128)               1408      \n",
      "                                                                 \n",
      " activation_40 (Activation)  (None, 128)               0         \n",
      "                                                                 \n",
      " dense_58 (Dense)            (None, 64)                8256      \n",
      "                                                                 \n",
      " activation_41 (Activation)  (None, 64)                0         \n",
      "                                                                 \n",
      " dense_59 (Dense)            (None, 5)                 325       \n",
      "                                                                 \n",
      "=================================================================\n",
      "Total params: 9,989\n",
      "Trainable params: 9,989\n",
      "Non-trainable params: 0\n",
      "_________________________________________________________________\n",
      "Epoch 1/175\n"
     ]
    },
    {
     "name": "stderr",
     "output_type": "stream",
     "text": [
      "2023-03-20 19:27:45.069859: I tensorflow/core/grappler/optimizers/custom_graph_optimizer_registry.cc:113] Plugin optimizer for device_type GPU is enabled.\n"
     ]
    },
    {
     "name": "stdout",
     "output_type": "stream",
     "text": [
      "93/94 [============================>.] - ETA: 0s - loss: 0.9209 - accuracy: 0.6524"
     ]
    },
    {
     "name": "stderr",
     "output_type": "stream",
     "text": [
      "2023-03-20 19:27:46.715300: I tensorflow/core/grappler/optimizers/custom_graph_optimizer_registry.cc:113] Plugin optimizer for device_type GPU is enabled.\n"
     ]
    },
    {
     "name": "stdout",
     "output_type": "stream",
     "text": [
      "94/94 [==============================] - 2s 20ms/step - loss: 0.9193 - accuracy: 0.6530 - val_loss: 0.6728 - val_accuracy: 0.7562\n",
      "Epoch 2/175\n",
      "94/94 [==============================] - 2s 18ms/step - loss: 0.6252 - accuracy: 0.7737 - val_loss: 0.5694 - val_accuracy: 0.7935\n",
      "Epoch 3/175\n",
      "94/94 [==============================] - 2s 17ms/step - loss: 0.5596 - accuracy: 0.7970 - val_loss: 0.5330 - val_accuracy: 0.8051\n",
      "Epoch 4/175\n",
      "94/94 [==============================] - 1s 15ms/step - loss: 0.5250 - accuracy: 0.8106 - val_loss: 0.5283 - val_accuracy: 0.8074\n",
      "Epoch 5/175\n",
      "94/94 [==============================] - 1s 15ms/step - loss: 0.5011 - accuracy: 0.8183 - val_loss: 0.5411 - val_accuracy: 0.8074\n",
      "Epoch 6/175\n",
      "94/94 [==============================] - 1s 15ms/step - loss: 0.4950 - accuracy: 0.8213 - val_loss: 0.4765 - val_accuracy: 0.8296\n",
      "Epoch 7/175\n",
      "94/94 [==============================] - 1s 16ms/step - loss: 0.4743 - accuracy: 0.8273 - val_loss: 0.4514 - val_accuracy: 0.8389\n",
      "Epoch 8/175\n",
      "94/94 [==============================] - 2s 17ms/step - loss: 0.4577 - accuracy: 0.8339 - val_loss: 0.4517 - val_accuracy: 0.8420\n",
      "Epoch 9/175\n",
      "94/94 [==============================] - 2s 17ms/step - loss: 0.4496 - accuracy: 0.8381 - val_loss: 0.4566 - val_accuracy: 0.8331\n",
      "Epoch 10/175\n",
      "94/94 [==============================] - 2s 18ms/step - loss: 0.4408 - accuracy: 0.8400 - val_loss: 0.4602 - val_accuracy: 0.8347\n",
      "Epoch 11/175\n",
      "94/94 [==============================] - 2s 19ms/step - loss: 0.4456 - accuracy: 0.8376 - val_loss: 0.4510 - val_accuracy: 0.8352\n",
      "Epoch 12/175\n",
      "94/94 [==============================] - 2s 19ms/step - loss: 0.4376 - accuracy: 0.8414 - val_loss: 0.4335 - val_accuracy: 0.8445\n",
      "Epoch 13/175\n",
      "94/94 [==============================] - 1s 16ms/step - loss: 0.4296 - accuracy: 0.8433 - val_loss: 0.4353 - val_accuracy: 0.8411\n",
      "Epoch 14/175\n",
      "94/94 [==============================] - 1s 16ms/step - loss: 0.4244 - accuracy: 0.8451 - val_loss: 0.4346 - val_accuracy: 0.8420\n",
      "Epoch 15/175\n",
      "94/94 [==============================] - 2s 17ms/step - loss: 0.4179 - accuracy: 0.8475 - val_loss: 0.4415 - val_accuracy: 0.8378\n",
      "Epoch 16/175\n",
      "94/94 [==============================] - 1s 15ms/step - loss: 0.4141 - accuracy: 0.8489 - val_loss: 0.4025 - val_accuracy: 0.8543\n",
      "Epoch 17/175\n",
      "94/94 [==============================] - 1s 14ms/step - loss: 0.4124 - accuracy: 0.8493 - val_loss: 0.4166 - val_accuracy: 0.8485\n",
      "Epoch 18/175\n",
      "94/94 [==============================] - 1s 14ms/step - loss: 0.4119 - accuracy: 0.8498 - val_loss: 0.4039 - val_accuracy: 0.8545\n",
      "Epoch 19/175\n",
      "94/94 [==============================] - 1s 14ms/step - loss: 0.4140 - accuracy: 0.8506 - val_loss: 0.4157 - val_accuracy: 0.8474\n",
      "Epoch 20/175\n",
      "94/94 [==============================] - 1s 16ms/step - loss: 0.4002 - accuracy: 0.8538 - val_loss: 0.4348 - val_accuracy: 0.8453\n",
      "Epoch 21/175\n",
      "94/94 [==============================] - 1s 14ms/step - loss: 0.3987 - accuracy: 0.8527 - val_loss: 0.4326 - val_accuracy: 0.8447\n",
      "Epoch 22/175\n",
      "94/94 [==============================] - 1s 15ms/step - loss: 0.4012 - accuracy: 0.8526 - val_loss: 0.4117 - val_accuracy: 0.8503\n",
      "Epoch 23/175\n",
      "94/94 [==============================] - 1s 14ms/step - loss: 0.3949 - accuracy: 0.8553 - val_loss: 0.3909 - val_accuracy: 0.8609\n",
      "Epoch 24/175\n",
      "94/94 [==============================] - 1s 14ms/step - loss: 0.3935 - accuracy: 0.8558 - val_loss: 0.3800 - val_accuracy: 0.8630\n",
      "Epoch 25/175\n",
      "94/94 [==============================] - 1s 14ms/step - loss: 0.3869 - accuracy: 0.8582 - val_loss: 0.3804 - val_accuracy: 0.8624\n",
      "Epoch 26/175\n",
      "94/94 [==============================] - 1s 14ms/step - loss: 0.3871 - accuracy: 0.8596 - val_loss: 0.4035 - val_accuracy: 0.8529\n",
      "Epoch 27/175\n",
      "94/94 [==============================] - 1s 15ms/step - loss: 0.3937 - accuracy: 0.8569 - val_loss: 0.3835 - val_accuracy: 0.8621\n",
      "Epoch 28/175\n",
      "94/94 [==============================] - 1s 15ms/step - loss: 0.3865 - accuracy: 0.8587 - val_loss: 0.3821 - val_accuracy: 0.8607\n",
      "Epoch 29/175\n",
      "94/94 [==============================] - 1s 15ms/step - loss: 0.3773 - accuracy: 0.8608 - val_loss: 0.4007 - val_accuracy: 0.8487\n",
      "Epoch 30/175\n",
      "94/94 [==============================] - 1s 15ms/step - loss: 0.3841 - accuracy: 0.8609 - val_loss: 0.4095 - val_accuracy: 0.8550\n",
      "Epoch 31/175\n",
      "94/94 [==============================] - 1s 15ms/step - loss: 0.3852 - accuracy: 0.8597 - val_loss: 0.3824 - val_accuracy: 0.8593\n",
      "Epoch 32/175\n",
      "94/94 [==============================] - 1s 15ms/step - loss: 0.3823 - accuracy: 0.8604 - val_loss: 0.3846 - val_accuracy: 0.8615\n",
      "Epoch 33/175\n",
      "94/94 [==============================] - 1s 15ms/step - loss: 0.3748 - accuracy: 0.8625 - val_loss: 0.3684 - val_accuracy: 0.8676\n",
      "Epoch 34/175\n",
      "94/94 [==============================] - 1s 15ms/step - loss: 0.3788 - accuracy: 0.8614 - val_loss: 0.3796 - val_accuracy: 0.8642\n",
      "Epoch 35/175\n",
      "94/94 [==============================] - 1s 15ms/step - loss: 0.3712 - accuracy: 0.8647 - val_loss: 0.3727 - val_accuracy: 0.8643\n",
      "Epoch 36/175\n",
      "94/94 [==============================] - 1s 15ms/step - loss: 0.3695 - accuracy: 0.8650 - val_loss: 0.3650 - val_accuracy: 0.8700\n",
      "Epoch 37/175\n",
      "94/94 [==============================] - 1s 16ms/step - loss: 0.3675 - accuracy: 0.8660 - val_loss: 0.3852 - val_accuracy: 0.8641\n",
      "Epoch 38/175\n",
      "94/94 [==============================] - 1s 15ms/step - loss: 0.3692 - accuracy: 0.8655 - val_loss: 0.3695 - val_accuracy: 0.8627\n",
      "Epoch 39/175\n",
      "94/94 [==============================] - 1s 15ms/step - loss: 0.3729 - accuracy: 0.8645 - val_loss: 0.3711 - val_accuracy: 0.8685\n",
      "Epoch 40/175\n",
      "94/94 [==============================] - 1s 14ms/step - loss: 0.3636 - accuracy: 0.8681 - val_loss: 0.3922 - val_accuracy: 0.8612\n",
      "Epoch 41/175\n",
      "94/94 [==============================] - 1s 14ms/step - loss: 0.3672 - accuracy: 0.8670 - val_loss: 0.3693 - val_accuracy: 0.8727\n",
      "Epoch 42/175\n",
      "94/94 [==============================] - 1s 14ms/step - loss: 0.3647 - accuracy: 0.8666 - val_loss: 0.3715 - val_accuracy: 0.8653\n",
      "Epoch 43/175\n",
      "94/94 [==============================] - 1s 15ms/step - loss: 0.3640 - accuracy: 0.8677 - val_loss: 0.3739 - val_accuracy: 0.8652\n",
      "Epoch 44/175\n",
      "94/94 [==============================] - 1s 15ms/step - loss: 0.3587 - accuracy: 0.8697 - val_loss: 0.3640 - val_accuracy: 0.8684\n",
      "Epoch 45/175\n",
      "94/94 [==============================] - 1s 16ms/step - loss: 0.3659 - accuracy: 0.8678 - val_loss: 0.3852 - val_accuracy: 0.8579\n",
      "Epoch 46/175\n",
      "94/94 [==============================] - 1s 14ms/step - loss: 0.3736 - accuracy: 0.8649 - val_loss: 0.3635 - val_accuracy: 0.8693\n",
      "Epoch 47/175\n",
      "94/94 [==============================] - 1s 15ms/step - loss: 0.3591 - accuracy: 0.8693 - val_loss: 0.3727 - val_accuracy: 0.8660\n",
      "Epoch 48/175\n",
      "94/94 [==============================] - 1s 15ms/step - loss: 0.3560 - accuracy: 0.8708 - val_loss: 0.3569 - val_accuracy: 0.8711\n",
      "Epoch 49/175\n",
      "94/94 [==============================] - 1s 15ms/step - loss: 0.3594 - accuracy: 0.8693 - val_loss: 0.3537 - val_accuracy: 0.8695\n",
      "Epoch 50/175\n",
      "94/94 [==============================] - 1s 14ms/step - loss: 0.3587 - accuracy: 0.8692 - val_loss: 0.3753 - val_accuracy: 0.8635\n",
      "Epoch 51/175\n",
      "94/94 [==============================] - 1s 14ms/step - loss: 0.3618 - accuracy: 0.8683 - val_loss: 0.3859 - val_accuracy: 0.8577\n",
      "Epoch 52/175\n",
      "94/94 [==============================] - 1s 15ms/step - loss: 0.3572 - accuracy: 0.8704 - val_loss: 0.3711 - val_accuracy: 0.8628\n",
      "Epoch 53/175\n",
      "94/94 [==============================] - 1s 16ms/step - loss: 0.3582 - accuracy: 0.8702 - val_loss: 0.3509 - val_accuracy: 0.8715\n",
      "Epoch 54/175\n",
      "94/94 [==============================] - 1s 14ms/step - loss: 0.3541 - accuracy: 0.8712 - val_loss: 0.3653 - val_accuracy: 0.8666\n",
      "Epoch 55/175\n",
      "94/94 [==============================] - 1s 14ms/step - loss: 0.3532 - accuracy: 0.8712 - val_loss: 0.3729 - val_accuracy: 0.8697\n",
      "Epoch 56/175\n",
      "94/94 [==============================] - 1s 15ms/step - loss: 0.3491 - accuracy: 0.8743 - val_loss: 0.3496 - val_accuracy: 0.8722\n",
      "Epoch 57/175\n",
      "94/94 [==============================] - 1s 15ms/step - loss: 0.3507 - accuracy: 0.8730 - val_loss: 0.3599 - val_accuracy: 0.8717\n",
      "Epoch 58/175\n",
      "94/94 [==============================] - 1s 15ms/step - loss: 0.3572 - accuracy: 0.8715 - val_loss: 0.3732 - val_accuracy: 0.8620\n",
      "Epoch 59/175\n",
      "94/94 [==============================] - 1s 15ms/step - loss: 0.3589 - accuracy: 0.8708 - val_loss: 0.3601 - val_accuracy: 0.8685\n",
      "Epoch 60/175\n",
      "94/94 [==============================] - 1s 16ms/step - loss: 0.3578 - accuracy: 0.8689 - val_loss: 0.3674 - val_accuracy: 0.8687\n",
      "Epoch 61/175\n",
      "94/94 [==============================] - 1s 15ms/step - loss: 0.3490 - accuracy: 0.8724 - val_loss: 0.3491 - val_accuracy: 0.8778\n",
      "Epoch 62/175\n",
      "94/94 [==============================] - 1s 15ms/step - loss: 0.3523 - accuracy: 0.8722 - val_loss: 0.3470 - val_accuracy: 0.8760\n",
      "Epoch 63/175\n",
      "94/94 [==============================] - 1s 15ms/step - loss: 0.3506 - accuracy: 0.8727 - val_loss: 0.3889 - val_accuracy: 0.8586\n",
      "Epoch 64/175\n",
      "94/94 [==============================] - 1s 14ms/step - loss: 0.3487 - accuracy: 0.8735 - val_loss: 0.3562 - val_accuracy: 0.8737\n",
      "Epoch 65/175\n",
      "94/94 [==============================] - 1s 15ms/step - loss: 0.3514 - accuracy: 0.8730 - val_loss: 0.3745 - val_accuracy: 0.8619\n",
      "Epoch 66/175\n",
      "94/94 [==============================] - 1s 15ms/step - loss: 0.3476 - accuracy: 0.8745 - val_loss: 0.3617 - val_accuracy: 0.8701\n",
      "Epoch 67/175\n",
      "94/94 [==============================] - 1s 15ms/step - loss: 0.3490 - accuracy: 0.8737 - val_loss: 0.3721 - val_accuracy: 0.8660\n",
      "Epoch 68/175\n",
      "94/94 [==============================] - 1s 16ms/step - loss: 0.3544 - accuracy: 0.8710 - val_loss: 0.3515 - val_accuracy: 0.8741\n",
      "Epoch 69/175\n",
      "94/94 [==============================] - 1s 15ms/step - loss: 0.3380 - accuracy: 0.8771 - val_loss: 0.3957 - val_accuracy: 0.8571\n",
      "Epoch 70/175\n",
      "94/94 [==============================] - 1s 15ms/step - loss: 0.3473 - accuracy: 0.8743 - val_loss: 0.3411 - val_accuracy: 0.8762\n",
      "Epoch 71/175\n",
      "94/94 [==============================] - 1s 15ms/step - loss: 0.3400 - accuracy: 0.8775 - val_loss: 0.3439 - val_accuracy: 0.8763\n",
      "Epoch 72/175\n",
      "94/94 [==============================] - 1s 15ms/step - loss: 0.3388 - accuracy: 0.8784 - val_loss: 0.3543 - val_accuracy: 0.8741\n",
      "Epoch 73/175\n",
      "94/94 [==============================] - 1s 15ms/step - loss: 0.3415 - accuracy: 0.8759 - val_loss: 0.3395 - val_accuracy: 0.8757\n",
      "Epoch 74/175\n",
      "94/94 [==============================] - 1s 15ms/step - loss: 0.3424 - accuracy: 0.8765 - val_loss: 0.3549 - val_accuracy: 0.8721\n",
      "Epoch 75/175\n",
      "94/94 [==============================] - 1s 15ms/step - loss: 0.3395 - accuracy: 0.8779 - val_loss: 0.3687 - val_accuracy: 0.8660\n",
      "Epoch 76/175\n",
      "94/94 [==============================] - 1s 16ms/step - loss: 0.3419 - accuracy: 0.8767 - val_loss: 0.3422 - val_accuracy: 0.8786\n",
      "Epoch 77/175\n",
      "94/94 [==============================] - 1s 15ms/step - loss: 0.3389 - accuracy: 0.8773 - val_loss: 0.3587 - val_accuracy: 0.8671\n",
      "Epoch 78/175\n",
      "94/94 [==============================] - 1s 15ms/step - loss: 0.3366 - accuracy: 0.8783 - val_loss: 0.3641 - val_accuracy: 0.8701\n",
      "Epoch 79/175\n",
      "94/94 [==============================] - 1s 15ms/step - loss: 0.3480 - accuracy: 0.8749 - val_loss: 0.3416 - val_accuracy: 0.8780\n",
      "Epoch 80/175\n",
      "94/94 [==============================] - 1s 15ms/step - loss: 0.3362 - accuracy: 0.8780 - val_loss: 0.3592 - val_accuracy: 0.8700\n",
      "Epoch 81/175\n",
      "94/94 [==============================] - 1s 14ms/step - loss: 0.3325 - accuracy: 0.8803 - val_loss: 0.3431 - val_accuracy: 0.8755\n",
      "Epoch 82/175\n",
      "94/94 [==============================] - 1s 15ms/step - loss: 0.3353 - accuracy: 0.8785 - val_loss: 0.3540 - val_accuracy: 0.8741\n",
      "Epoch 83/175\n",
      "94/94 [==============================] - 2s 18ms/step - loss: 0.3397 - accuracy: 0.8791 - val_loss: 0.3554 - val_accuracy: 0.8742\n",
      "Epoch 84/175\n",
      "94/94 [==============================] - 1s 15ms/step - loss: 0.3436 - accuracy: 0.8763 - val_loss: 0.3407 - val_accuracy: 0.8784\n",
      "Epoch 85/175\n",
      "94/94 [==============================] - 1s 16ms/step - loss: 0.3327 - accuracy: 0.8809 - val_loss: 0.3398 - val_accuracy: 0.8750\n",
      "Epoch 86/175\n",
      "94/94 [==============================] - 2s 16ms/step - loss: 0.3369 - accuracy: 0.8787 - val_loss: 0.3501 - val_accuracy: 0.8751\n",
      "Epoch 87/175\n",
      "94/94 [==============================] - 1s 16ms/step - loss: 0.3336 - accuracy: 0.8802 - val_loss: 0.3321 - val_accuracy: 0.8795\n",
      "Epoch 88/175\n",
      "94/94 [==============================] - 1s 15ms/step - loss: 0.3289 - accuracy: 0.8815 - val_loss: 0.3337 - val_accuracy: 0.8850\n",
      "Epoch 89/175\n",
      "94/94 [==============================] - 1s 16ms/step - loss: 0.3321 - accuracy: 0.8803 - val_loss: 0.3360 - val_accuracy: 0.8785\n",
      "Epoch 90/175\n",
      "94/94 [==============================] - 2s 16ms/step - loss: 0.3351 - accuracy: 0.8791 - val_loss: 0.3620 - val_accuracy: 0.8693\n",
      "Epoch 91/175\n",
      "94/94 [==============================] - 1s 15ms/step - loss: 0.3368 - accuracy: 0.8789 - val_loss: 0.3377 - val_accuracy: 0.8783\n",
      "Epoch 92/175\n",
      "94/94 [==============================] - 1s 15ms/step - loss: 0.3357 - accuracy: 0.8780 - val_loss: 0.3713 - val_accuracy: 0.8692\n",
      "Epoch 93/175\n",
      "94/94 [==============================] - 2s 17ms/step - loss: 0.3344 - accuracy: 0.8800 - val_loss: 0.3345 - val_accuracy: 0.8787\n",
      "Epoch 94/175\n",
      "94/94 [==============================] - 2s 16ms/step - loss: 0.3322 - accuracy: 0.8809 - val_loss: 0.3385 - val_accuracy: 0.8811\n",
      "Epoch 95/175\n",
      "94/94 [==============================] - 1s 15ms/step - loss: 0.3293 - accuracy: 0.8819 - val_loss: 0.3212 - val_accuracy: 0.8867\n",
      "Epoch 96/175\n",
      "94/94 [==============================] - 1s 15ms/step - loss: 0.3304 - accuracy: 0.8806 - val_loss: 0.3446 - val_accuracy: 0.8749\n",
      "Epoch 97/175\n",
      "94/94 [==============================] - 1s 15ms/step - loss: 0.3344 - accuracy: 0.8796 - val_loss: 0.3420 - val_accuracy: 0.8788\n",
      "Epoch 98/175\n",
      "94/94 [==============================] - 1s 16ms/step - loss: 0.3241 - accuracy: 0.8834 - val_loss: 0.3410 - val_accuracy: 0.8736\n",
      "Epoch 99/175\n",
      "94/94 [==============================] - 1s 15ms/step - loss: 0.3285 - accuracy: 0.8811 - val_loss: 0.3395 - val_accuracy: 0.8766\n",
      "Epoch 100/175\n",
      "94/94 [==============================] - 1s 16ms/step - loss: 0.3291 - accuracy: 0.8807 - val_loss: 0.3425 - val_accuracy: 0.8779\n",
      "Epoch 101/175\n",
      "94/94 [==============================] - 1s 16ms/step - loss: 0.3299 - accuracy: 0.8811 - val_loss: 0.3378 - val_accuracy: 0.8768\n",
      "Epoch 102/175\n",
      "94/94 [==============================] - 1s 15ms/step - loss: 0.3221 - accuracy: 0.8822 - val_loss: 0.3371 - val_accuracy: 0.8798\n",
      "Epoch 103/175\n",
      "94/94 [==============================] - 2s 16ms/step - loss: 0.3295 - accuracy: 0.8811 - val_loss: 0.3290 - val_accuracy: 0.8802\n",
      "Epoch 104/175\n",
      "94/94 [==============================] - 1s 15ms/step - loss: 0.3245 - accuracy: 0.8834 - val_loss: 0.3787 - val_accuracy: 0.8630\n",
      "Epoch 105/175\n",
      "94/94 [==============================] - 1s 15ms/step - loss: 0.3338 - accuracy: 0.8794 - val_loss: 0.3348 - val_accuracy: 0.8828\n",
      "Epoch 106/175\n",
      "94/94 [==============================] - 2s 17ms/step - loss: 0.3247 - accuracy: 0.8826 - val_loss: 0.3284 - val_accuracy: 0.8777\n",
      "Epoch 107/175\n",
      "94/94 [==============================] - 2s 18ms/step - loss: 0.3258 - accuracy: 0.8822 - val_loss: 0.3469 - val_accuracy: 0.8715\n",
      "Epoch 108/175\n",
      "94/94 [==============================] - 2s 17ms/step - loss: 0.3293 - accuracy: 0.8807 - val_loss: 0.3453 - val_accuracy: 0.8775\n",
      "Epoch 109/175\n",
      "94/94 [==============================] - 1s 16ms/step - loss: 0.3275 - accuracy: 0.8813 - val_loss: 0.3503 - val_accuracy: 0.8740\n",
      "Epoch 110/175\n",
      "94/94 [==============================] - 1s 15ms/step - loss: 0.3234 - accuracy: 0.8835 - val_loss: 0.3412 - val_accuracy: 0.8815\n",
      "Epoch 111/175\n",
      "94/94 [==============================] - 1s 16ms/step - loss: 0.3231 - accuracy: 0.8839 - val_loss: 0.3451 - val_accuracy: 0.8777\n",
      "Epoch 112/175\n",
      "94/94 [==============================] - 2s 17ms/step - loss: 0.3329 - accuracy: 0.8800 - val_loss: 0.3429 - val_accuracy: 0.8748\n",
      "Epoch 113/175\n",
      "94/94 [==============================] - 1s 15ms/step - loss: 0.3235 - accuracy: 0.8838 - val_loss: 0.3267 - val_accuracy: 0.8875\n",
      "Epoch 114/175\n",
      "94/94 [==============================] - 1s 16ms/step - loss: 0.3217 - accuracy: 0.8837 - val_loss: 0.3215 - val_accuracy: 0.8852\n",
      "Epoch 115/175\n",
      "94/94 [==============================] - 1s 15ms/step - loss: 0.3255 - accuracy: 0.8818 - val_loss: 0.3328 - val_accuracy: 0.8792\n",
      "Epoch 116/175\n",
      "94/94 [==============================] - 1s 15ms/step - loss: 0.3298 - accuracy: 0.8812 - val_loss: 0.3577 - val_accuracy: 0.8666\n",
      "Epoch 117/175\n",
      "94/94 [==============================] - 1s 15ms/step - loss: 0.3271 - accuracy: 0.8814 - val_loss: 0.3271 - val_accuracy: 0.8818\n",
      "Epoch 118/175\n",
      "94/94 [==============================] - 1s 15ms/step - loss: 0.3202 - accuracy: 0.8850 - val_loss: 0.3396 - val_accuracy: 0.8773\n",
      "Epoch 119/175\n",
      "94/94 [==============================] - 1s 15ms/step - loss: 0.3185 - accuracy: 0.8855 - val_loss: 0.3393 - val_accuracy: 0.8828\n",
      "Epoch 120/175\n",
      "94/94 [==============================] - 1s 15ms/step - loss: 0.3220 - accuracy: 0.8837 - val_loss: 0.3452 - val_accuracy: 0.8783\n"
     ]
    }
   ],
   "source": [
    "model = Sequential()\n",
    "model.add(tf.keras.Input(shape=(numberOfFeatures2,))) #(numberOfFeatures,)\n",
    "\n",
    "model.add(Dense(128))\n",
    "#model.add(Dropout(0.8))\n",
    "model.add(Activation('relu'))\n",
    "\n",
    "model.add(Dense(64))\n",
    "#model.add(Dropout(0.5))\n",
    "model.add(Activation('relu'))\n",
    "\n",
    "# model.add(Dense(16))\n",
    "# #model.add(Dropout(0.5))\n",
    "# model.add(Activation('relu'))\n",
    "\n",
    "model.add(Dense(5, activation='softmax'))\n",
    "model.summary()\n",
    "#opt = tf.keras.optimizers.SGD(learning_rate=0.0045, momentum=0.95)\n",
    "opt = tf.keras.optimizers.Adam(learning_rate=0.045)#, decay=1e-3) #If validation is not following training in trend then the learning rate might be too high\n",
    "model.compile(loss='categorical_crossentropy', optimizer=opt, metrics=['accuracy'])#focal_loss_custom(alpha=0.2, gamma=2) #'binary_crossentropy'#focal_loss_custom(alpha=0.25, gamma=2)\n",
    "\n",
    "\n",
    "#scaler = preprocessing.StandardScaler().fit(X_train)\n",
    "#scaler = preprocessing.RobustScaler().fit(X_train)\n",
    "#scaler =  preprocessing.MinMaxScaler().fit(X_train)\n",
    "scaler = preprocessing.Normalizer().fit(X_train2)\n",
    "\n",
    "X_train4 = scaler.transform(X_train2)\n",
    "X_test4 = scaler.transform(X_test)\n",
    "X_val4 = scaler.transform(X_val)\n",
    "\n",
    "y_train2 = to_categorical(y_train2)\n",
    "y_test = to_categorical(y_test)\n",
    "y_val = to_categorical(y_val)\n",
    "\n",
    "\n",
    "history = model.fit(X_train4,y_train2, epochs = ep,batch_size=1024,validation_data=(X_val4, y_val), callbacks=[stop_early],shuffle=True)"
   ]
  },
  {
   "cell_type": "code",
   "execution_count": 299,
   "metadata": {},
   "outputs": [
    {
     "name": "stderr",
     "output_type": "stream",
     "text": [
      "2023-03-20 19:30:38.114164: I tensorflow/core/grappler/optimizers/custom_graph_optimizer_registry.cc:113] Plugin optimizer for device_type GPU is enabled.\n"
     ]
    }
   ],
   "source": [
    "# Make predictions on test data\n",
    "y_pred = model.predict(X_test4)\n",
    "\n",
    "# Convert probabilities to one-hot encoded vectors\n",
    "y_pred_classes = np.argmax(y_pred, axis=1)\n",
    "y_test_classes = np.argmax(y_test, axis=1)"
   ]
  },
  {
   "cell_type": "code",
   "execution_count": 300,
   "metadata": {},
   "outputs": [],
   "source": [
    "# Calculate F1 score macro and Precision macro\n",
    "f1_value = f1_score(y_test_classes, y_pred_classes, average='macro')\n",
    "precision = precision_score(y_test_classes, y_pred_classes, average='macro')\n",
    "sensitivity = recall_score(y_test_classes, y_pred_classes,average='macro')#,pos_label = 1, average='binary')\n",
    "accuracy = accuracy_score(y_test_classes, y_pred_classes)\n",
    "\n",
    "acc_score.append(accuracy)\n",
    "re_score.append(sensitivity)\n",
    "pre_score.append(precision)\n",
    "f_score.append(f1_value)\n",
    "\n",
    "k = 1 \n",
    "\n",
    "avg_acc_score = sum(acc_score)/k\n",
    "avg_recall_score = sum(re_score)/k\n",
    "avg_precision_score = sum(pre_score)/k\n",
    "avg_f1_score = sum(f_score)/k\n",
    "\n",
    "sensitivity = avg_recall_score\n",
    "precision = avg_precision_score\n",
    "accuracy = avg_acc_score\n",
    "f1_score = avg_f1_score\n"
   ]
  },
  {
   "cell_type": "code",
   "execution_count": 301,
   "metadata": {},
   "outputs": [
    {
     "name": "stdout",
     "output_type": "stream",
     "text": [
      "Avg accuracy : 0.8598382749326146\n",
      "Avg Reccall : 0.8306539360243098\n",
      "Avg Precision : 0.579895279571959\n",
      "Avg F1_score : 0.6360034336352889\n"
     ]
    }
   ],
   "source": [
    "#print('accuracy of each fold - {}'.format(acc_score))\n",
    "print('Avg accuracy : {}'.format(avg_acc_score))\n",
    "#print('Recall of each fold - {}'.format(re_score))\n",
    "print('Avg Reccall : {}'.format(avg_recall_score))\n",
    "#print('Precision of each fold - {}'.format(pre_score))\n",
    "print('Avg Precision : {}'.format(avg_precision_score))\n",
    "#print('F1_Score of each fold - {}'.format(f_score))\n",
    "print('Avg F1_score : {}'.format(avg_f1_score))"
   ]
  },
  {
   "cell_type": "code",
   "execution_count": 302,
   "metadata": {},
   "outputs": [
    {
     "data": {
      "image/png": "[encoded data removed]",
      "text/plain": [
       "<Figure size 432x288 with 2 Axes>"
      ]
     },
     "metadata": {
      "needs_background": "light"
     },
     "output_type": "display_data"
    },
    {
     "data": {
      "text/plain": [
       "array([0.86029696, 0.76438849, 0.82308224, 0.77639752, 0.92910448])"
      ]
     },
     "execution_count": 302,
     "metadata": {},
     "output_type": "execute_result"
    }
   ],
   "source": [
    "from sklearn.metrics import confusion_matrix, ConfusionMatrixDisplay\n",
    "matrix = matrix2 = confusion_matrix(y_test_classes, y_pred_classes)\n",
    "cm_display = ConfusionMatrixDisplay(confusion_matrix = matrix2)\n",
    "cm_display.plot()\n",
    "plt.show()\n",
    "matrix.diagonal()/matrix.sum(axis=1)"
   ]
  },
  {
   "cell_type": "code",
   "execution_count": 303,
   "metadata": {},
   "outputs": [],
   "source": [
    "Accuracies = matrix.diagonal()/matrix.sum(axis=1)\n",
    "\n",
    "Less3 = Accuracies[0]\n",
    "Greater3 = Accuracies[1]"
   ]
  },
  {
   "cell_type": "code",
   "execution_count": 304,
   "metadata": {},
   "outputs": [
    {
     "data": {
      "image/png": "[encoded data removed]",
      "text/plain": [
       "<Figure size 432x288 with 1 Axes>"
      ]
     },
     "metadata": {
      "needs_background": "light"
     },
     "output_type": "display_data"
    }
   ],
   "source": [
    "# Plot the accuracy of the model during training\n",
    "\n",
    "#plt.plot()\n",
    "plt.plot(history.history['loss'])\n",
    "plt.plot(history.history['val_loss'])\n",
    "plt.title('Model Loss')\n",
    "plt.ylabel('Loss')\n",
    "plt.xlabel('Epoch')\n",
    "plt.legend(['Training', 'Validation'], loc='upper left')\n",
    "plt.show()"
   ]
  },
  {
   "cell_type": "code",
   "execution_count": 305,
   "metadata": {},
   "outputs": [
    {
     "data": {
      "image/png": "[encoded data removed]",
      "text/plain": [
       "<Figure size 432x288 with 1 Axes>"
      ]
     },
     "metadata": {
      "needs_background": "light"
     },
     "output_type": "display_data"
    }
   ],
   "source": [
    "# Plot the accuracy of the model during training\n",
    "\n",
    "#plt.plot()\n",
    "plt.plot(history.history['accuracy'])\n",
    "plt.plot(history.history['val_accuracy'])\n",
    "plt.title('Model Accuracy')\n",
    "plt.ylabel('Validation Accuracy')\n",
    "plt.xlabel('Epoch')\n",
    "plt.legend(['Training', 'Validation'], loc='upper left')\n",
    "plt.show()"
   ]
  },
  {
   "cell_type": "code",
   "execution_count": 306,
   "metadata": {},
   "outputs": [],
   "source": [
    "Accuracies = matrix.diagonal()/matrix.sum(axis=1)\n",
    "\n",
    "accuracy = (Greater3+Less3)/2"
   ]
  },
  {
   "cell_type": "code",
   "execution_count": 307,
   "metadata": {},
   "outputs": [],
   "source": [
    "import csv\n",
    "import os.path\n",
    "from datetime import datetime\n",
    "\n",
    "csv_columns = ['model-type','precision','sensitivity','f1-score','accuracy','NumberOfWindows','Epochs','Run_Time','Restriction','Acc_Lesser','Acc_Greater']\n",
    "dict_data = [{'model-type':'ANN', 'precision': precision,'sensitivity': sensitivity,'f1-score': f1_score,'accuracy': accuracy,'NumberOfWindows':numberOfWindows,\"Epochs\":ep,'Restriction' : Restriction,'Acc_Lesser':Less3,'Acc_Greater':Greater3}]\n",
    "metric_file = \"Results_Apr3/mitbih_ANN_1.csv\"\n",
    "\n",
    "file_exists = os.path.isfile(metric_file)\n",
    "try:\n",
    "    with open(metric_file, 'a') as csvfile:\n",
    "        writer = csv.DictWriter(csvfile, fieldnames=csv_columns)\n",
    "        if not file_exists:\n",
    "            writer.writeheader()\n",
    "        for data in dict_data:\n",
    "            writer.writerow(data)\n",
    "except IOError:\n",
    "    print(\"I/O error\")"
   ]
  }
 ],
 "metadata": {
  "kernelspec": {
   "display_name": "Python 3",
   "language": "python",
   "name": "python3"
  },
  "language_info": {
   "codemirror_mode": {
    "name": "ipython",
    "version": 3
   },
   "file_extension": ".py",
   "mimetype": "text/x-python",
   "name": "python",
   "nbconvert_exporter": "python",
   "pygments_lexer": "ipython3",
   "version": "3.9.10"
  },
  "orig_nbformat": 4,
  "vscode": {
   "interpreter": {
    "hash": "9f3ba9e726005c067fbc0eaab20e31f21cd7f7e132fec231b7dd4c5a2981fed5"
   }
  }
 },
 "nbformat": 4,
 "nbformat_minor": 2
}
