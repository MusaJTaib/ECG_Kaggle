{
 "cells": [
  {
   "cell_type": "code",
   "execution_count": 128,
   "metadata": {},
   "outputs": [],
   "source": [
    "import pandas as pd\n",
    "from imblearn.over_sampling import RandomOverSampler\n",
    "from imblearn.under_sampling import RandomUnderSampler\n",
    "from sklearn.model_selection import cross_val_score\n",
    "from sklearn.model_selection import train_test_split\n",
    "from sklearn.ensemble import GradientBoostingClassifier\n",
    "from sklearn.linear_model import LogisticRegression\n",
    "import matplotlib.pyplot as plt\n",
    "from tslearn.clustering import KShape\n",
    "import numpy as np\n",
    "from sklearn import tree"
   ]
  },
  {
   "cell_type": "code",
   "execution_count": 129,
   "metadata": {},
   "outputs": [],
   "source": [
    "Restriction = '3-SD'\n",
    "numberOfFeatures2 = numberOfWindows = 187\n",
    "ep = 200\n",
    "ep_es = 35"
   ]
  },
  {
   "cell_type": "code",
   "execution_count": 130,
   "metadata": {},
   "outputs": [],
   "source": [
    "FeatureSetB1 = pd.read_csv('Windows/ptdb_187Ws.csv')\n",
    "FeatureSetB1.drop(\"Unnamed: 0\",axis=1,inplace = True)\n",
    "FeatureSetB1 = FeatureSetB1.drop('index', axis=1)\n",
    "tree = tree.DecisionTreeClassifier()\n",
    "gbc = GradientBoostingClassifier(random_state=0)"
   ]
  },
  {
   "cell_type": "code",
   "execution_count": 131,
   "metadata": {},
   "outputs": [],
   "source": [
    "FeatureSetB2 = FeatureSetB1.sample(frac=1)\n",
    "FeatureSetB3 = FeatureSetB2.iloc[:, :-2]"
   ]
  },
  {
   "cell_type": "code",
   "execution_count": 132,
   "metadata": {},
   "outputs": [],
   "source": [
    "import pandas as pd\n",
    "import numpy as np\n",
    "\n",
    "B_class_0 = FeatureSetB3[FeatureSetB2['Class'] == 0]\n",
    "B_class_1 = FeatureSetB3[FeatureSetB2['Class'] == 1]\n",
    "\n",
    "B_class_F0 = FeatureSetB2[FeatureSetB2['Class'] == 0]\n",
    "B_class_F1 = FeatureSetB2[FeatureSetB2['Class'] == 1]\n",
    "\n",
    "\n",
    "# Calculate the Z-scores for each feature\n",
    "z_score_0 = (B_class_0 - B_class_0.mean()) / B_class_0.std()\n",
    "z_score_1 = (B_class_1 - B_class_1.mean()) / B_class_1.std()\n",
    "\n",
    "# Set a threshold for the Z-score\n",
    "threshold_0 = 2.5\n",
    "threshold_1 = 2.5\n",
    "\n",
    "# Identify the outliers based on the threshold\n",
    "outliers_0 = np.abs(z_score_0) > threshold_0\n",
    "outliers_1 = np.abs(z_score_1) > threshold_1\n",
    "\n",
    "# Remove the outliers from the dataset\n",
    "B_class_F0 = B_class_F0[~outliers_0.any(axis=1)]\n",
    "B_class_F1 = B_class_F1[~outliers_1.any(axis=1)]\n",
    "\n",
    "# Split the dataset into two classes and perform clustering as described in the previous answer\n",
    "merged_df = pd.concat([B_class_F1, B_class_F0])\n",
    "merged_df = merged_df.sample(frac=1)"
   ]
  },
  {
   "cell_type": "code",
   "execution_count": 133,
   "metadata": {},
   "outputs": [],
   "source": [
    "X = merged_df.iloc[:, :-2]\n",
    "y = merged_df[['Class']]"
   ]
  },
  {
   "cell_type": "code",
   "execution_count": 134,
   "metadata": {},
   "outputs": [],
   "source": [
    "ros = RandomOverSampler(random_state=0,sampling_strategy=0.5)"
   ]
  },
  {
   "cell_type": "code",
   "execution_count": 135,
   "metadata": {},
   "outputs": [],
   "source": [
    "X_train1, X_test, y_train1, y_test = train_test_split(X,y, test_size=0.2, random_state=1, stratify=y, shuffle=True)\n",
    "\n",
    "x,y = ros.fit_resample(X_train1,y_train1)\n",
    "\n",
    "X_train2, X_val, y_train2, y_val = train_test_split(x,y, test_size=0.2, random_state=1, stratify=y, shuffle=True)"
   ]
  },
  {
   "attachments": {},
   "cell_type": "markdown",
   "metadata": {},
   "source": [
    "Rye - Artificial Neural Network "
   ]
  },
  {
   "cell_type": "code",
   "execution_count": 136,
   "metadata": {},
   "outputs": [],
   "source": [
    "import keras\n",
    "from keras.models import Sequential\n",
    "from keras.layers import Dense, Dropout,Flatten, Activation\n",
    "from sklearn import metrics\n",
    "from keras.layers import LSTM\n",
    "import tensorflow as tf\n",
    "import sys\n",
    "mod=sys.modules[__name__]"
   ]
  },
  {
   "cell_type": "code",
   "execution_count": 137,
   "metadata": {},
   "outputs": [],
   "source": [
    "import numpy as np\n",
    "from sklearn.metrics import f1_score\n",
    "from sklearn.metrics import precision_score\n",
    "from sklearn.metrics import recall_score\n",
    "from sklearn.preprocessing import OneHotEncoder\n",
    "from sklearn.metrics import accuracy_score\n",
    "from tensorflow.keras.utils import to_categorical\n",
    "from sklearn import preprocessing\n",
    "from tensorflow.keras.models import Sequential\n",
    "from tensorflow.keras.layers import Conv1D, Dense, MaxPooling1D, Flatten\n",
    "from tensorflow.keras.optimizers import Adam\n",
    "from sklearn.model_selection import train_test_split\n",
    "from tensorflow.keras.layers import BatchNormalization\n",
    "from sklearn.utils import class_weight"
   ]
  },
  {
   "cell_type": "code",
   "execution_count": 138,
   "metadata": {},
   "outputs": [],
   "source": [
    "import numpy as np\n",
    "from sklearn.metrics import f1_score\n",
    "from sklearn.metrics import precision_score\n",
    "from sklearn.metrics import recall_score\n",
    "from sklearn.preprocessing import OneHotEncoder\n",
    "from sklearn.metrics import accuracy_score\n",
    "from tensorflow.keras.utils import to_categorical\n",
    "from sklearn import tree\n",
    "\n",
    "import warnings\n",
    "warnings.filterwarnings(\"ignore\")\n",
    "\n",
    "from sklearn import preprocessing\n",
    "from sklearn.preprocessing import LabelEncoder\n",
    "from sklearn.utils import class_weight\n",
    "tree = tree.DecisionTreeClassifier()\n",
    "\n",
    "acc_score = []\n",
    "re_score = []\n",
    "pre_score = []\n",
    "history_1 = []\n",
    "f_score = []\n",
    "auroc_score = []\n",
    "auprc_score = []"
   ]
  },
  {
   "cell_type": "code",
   "execution_count": 139,
   "metadata": {},
   "outputs": [],
   "source": [
    "stop_early = tf.keras.callbacks.EarlyStopping(monitor='val_loss', patience = ep_es, mode='min',restore_best_weights=True)"
   ]
  },
  {
   "cell_type": "code",
   "execution_count": 140,
   "metadata": {},
   "outputs": [
    {
     "name": "stdout",
     "output_type": "stream",
     "text": [
      "Model: \"sequential_7\"\n",
      "_________________________________________________________________\n",
      " Layer (type)                Output Shape              Param #   \n",
      "=================================================================\n",
      " conv1d_12 (Conv1D)          (None, 185, 128)          512       \n",
      "                                                                 \n",
      " batch_normalization_10 (Bat  (None, 185, 128)         512       \n",
      " chNormalization)                                                \n",
      "                                                                 \n",
      " max_pooling1d_10 (MaxPoolin  (None, 92, 128)          0         \n",
      " g1D)                                                            \n",
      "                                                                 \n",
      " conv1d_13 (Conv1D)          (None, 90, 128)           49280     \n",
      "                                                                 \n",
      " batch_normalization_11 (Bat  (None, 90, 128)          512       \n",
      " chNormalization)                                                \n",
      "                                                                 \n",
      " max_pooling1d_11 (MaxPoolin  (None, 45, 128)          0         \n",
      " g1D)                                                            \n",
      "                                                                 \n",
      " flatten_4 (Flatten)         (None, 5760)              0         \n",
      "                                                                 \n",
      " dense_8 (Dense)             (None, 187)               1077307   \n",
      "                                                                 \n",
      " dropout_4 (Dropout)         (None, 187)               0         \n",
      "                                                                 \n",
      " activation_4 (Activation)   (None, 187)               0         \n",
      "                                                                 \n",
      " dense_9 (Dense)             (None, 1)                 188       \n",
      "                                                                 \n",
      "=================================================================\n",
      "Total params: 1,128,311\n",
      "Trainable params: 1,127,799\n",
      "Non-trainable params: 512\n",
      "_________________________________________________________________\n",
      "Epoch 1/200\n"
     ]
    },
    {
     "name": "stderr",
     "output_type": "stream",
     "text": [
      "2023-04-06 01:52:33.925397: I tensorflow/core/grappler/optimizers/custom_graph_optimizer_registry.cc:113] Plugin optimizer for device_type GPU is enabled.\n"
     ]
    },
    {
     "name": "stdout",
     "output_type": "stream",
     "text": [
      "3/3 [==============================] - ETA: 0s - loss: 1.9992 - accuracy: 0.6089"
     ]
    },
    {
     "name": "stderr",
     "output_type": "stream",
     "text": [
      "2023-04-06 01:52:35.280444: I tensorflow/core/grappler/optimizers/custom_graph_optimizer_registry.cc:113] Plugin optimizer for device_type GPU is enabled.\n"
     ]
    },
    {
     "name": "stdout",
     "output_type": "stream",
     "text": [
      "3/3 [==============================] - 2s 367ms/step - loss: 1.9992 - accuracy: 0.6089 - val_loss: 0.6813 - val_accuracy: 0.8699\n",
      "Epoch 2/200\n",
      "3/3 [==============================] - 0s 84ms/step - loss: 0.1633 - accuracy: 0.9537 - val_loss: 0.6901 - val_accuracy: 0.4110\n",
      "Epoch 3/200\n",
      "3/3 [==============================] - 0s 50ms/step - loss: 0.2420 - accuracy: 0.9331 - val_loss: 0.6896 - val_accuracy: 0.4178\n",
      "Epoch 4/200\n",
      "3/3 [==============================] - 0s 43ms/step - loss: 0.1141 - accuracy: 0.9640 - val_loss: 0.6875 - val_accuracy: 0.6849\n",
      "Epoch 5/200\n",
      "3/3 [==============================] - 0s 38ms/step - loss: 0.1056 - accuracy: 0.9485 - val_loss: 0.6872 - val_accuracy: 0.6986\n",
      "Epoch 6/200\n",
      "3/3 [==============================] - 0s 30ms/step - loss: 0.0913 - accuracy: 0.9571 - val_loss: 0.6900 - val_accuracy: 0.3699\n",
      "Epoch 7/200\n",
      "3/3 [==============================] - 0s 33ms/step - loss: 0.0592 - accuracy: 0.9811 - val_loss: 0.6929 - val_accuracy: 0.3356\n",
      "Epoch 8/200\n",
      "3/3 [==============================] - 0s 40ms/step - loss: 0.0644 - accuracy: 0.9794 - val_loss: 0.6946 - val_accuracy: 0.3356\n",
      "Epoch 9/200\n",
      "3/3 [==============================] - 0s 38ms/step - loss: 0.0478 - accuracy: 0.9828 - val_loss: 0.6942 - val_accuracy: 0.3356\n",
      "Epoch 10/200\n",
      "3/3 [==============================] - 0s 33ms/step - loss: 0.0372 - accuracy: 0.9880 - val_loss: 0.6936 - val_accuracy: 0.3356\n",
      "Epoch 11/200\n",
      "3/3 [==============================] - 0s 29ms/step - loss: 0.0367 - accuracy: 0.9914 - val_loss: 0.6934 - val_accuracy: 0.3356\n",
      "Epoch 12/200\n",
      "3/3 [==============================] - 0s 29ms/step - loss: 0.0271 - accuracy: 0.9897 - val_loss: 0.6944 - val_accuracy: 0.3356\n",
      "Epoch 13/200\n",
      "3/3 [==============================] - 0s 30ms/step - loss: 0.0199 - accuracy: 0.9949 - val_loss: 0.6962 - val_accuracy: 0.3356\n",
      "Epoch 14/200\n",
      "3/3 [==============================] - 0s 39ms/step - loss: 0.0216 - accuracy: 0.9914 - val_loss: 0.6976 - val_accuracy: 0.3356\n",
      "Epoch 15/200\n",
      "3/3 [==============================] - 0s 30ms/step - loss: 0.0163 - accuracy: 0.9931 - val_loss: 0.6983 - val_accuracy: 0.3356\n",
      "Epoch 16/200\n",
      "3/3 [==============================] - 0s 40ms/step - loss: 0.0136 - accuracy: 0.9966 - val_loss: 0.6996 - val_accuracy: 0.3356\n",
      "Epoch 17/200\n",
      "3/3 [==============================] - 0s 31ms/step - loss: 0.0133 - accuracy: 0.9983 - val_loss: 0.7013 - val_accuracy: 0.3356\n",
      "Epoch 18/200\n",
      "3/3 [==============================] - 0s 28ms/step - loss: 0.0169 - accuracy: 0.9949 - val_loss: 0.7024 - val_accuracy: 0.3356\n",
      "Epoch 19/200\n",
      "3/3 [==============================] - 0s 31ms/step - loss: 0.0103 - accuracy: 0.9983 - val_loss: 0.7068 - val_accuracy: 0.3356\n",
      "Epoch 20/200\n",
      "3/3 [==============================] - 0s 31ms/step - loss: 0.0118 - accuracy: 0.9966 - val_loss: 0.7095 - val_accuracy: 0.3356\n",
      "Epoch 21/200\n",
      "3/3 [==============================] - 0s 27ms/step - loss: 0.0090 - accuracy: 0.9966 - val_loss: 0.7120 - val_accuracy: 0.3356\n",
      "Epoch 22/200\n",
      "3/3 [==============================] - 0s 27ms/step - loss: 0.0117 - accuracy: 0.9966 - val_loss: 0.7136 - val_accuracy: 0.3356\n",
      "Epoch 23/200\n",
      "3/3 [==============================] - 0s 33ms/step - loss: 0.0103 - accuracy: 0.9983 - val_loss: 0.7118 - val_accuracy: 0.3356\n",
      "Epoch 24/200\n",
      "3/3 [==============================] - 0s 28ms/step - loss: 0.0103 - accuracy: 0.9983 - val_loss: 0.7128 - val_accuracy: 0.3356\n",
      "Epoch 25/200\n",
      "3/3 [==============================] - 0s 30ms/step - loss: 0.0135 - accuracy: 0.9949 - val_loss: 0.7216 - val_accuracy: 0.3356\n",
      "Epoch 26/200\n",
      "3/3 [==============================] - 0s 41ms/step - loss: 0.0069 - accuracy: 0.9983 - val_loss: 0.7312 - val_accuracy: 0.3356\n",
      "Epoch 27/200\n",
      "3/3 [==============================] - 0s 30ms/step - loss: 0.0050 - accuracy: 0.9983 - val_loss: 0.7374 - val_accuracy: 0.3356\n",
      "Epoch 28/200\n",
      "3/3 [==============================] - 0s 30ms/step - loss: 0.0063 - accuracy: 0.9983 - val_loss: 0.7426 - val_accuracy: 0.3356\n",
      "Epoch 29/200\n",
      "3/3 [==============================] - 0s 28ms/step - loss: 0.0060 - accuracy: 1.0000 - val_loss: 0.7469 - val_accuracy: 0.3356\n",
      "Epoch 30/200\n",
      "3/3 [==============================] - 0s 28ms/step - loss: 0.0060 - accuracy: 0.9983 - val_loss: 0.7497 - val_accuracy: 0.3356\n",
      "Epoch 31/200\n",
      "3/3 [==============================] - 0s 35ms/step - loss: 0.0054 - accuracy: 0.9983 - val_loss: 0.7533 - val_accuracy: 0.3356\n",
      "Epoch 32/200\n",
      "3/3 [==============================] - 0s 39ms/step - loss: 0.0036 - accuracy: 1.0000 - val_loss: 0.7588 - val_accuracy: 0.3356\n",
      "Epoch 33/200\n",
      "3/3 [==============================] - 0s 32ms/step - loss: 0.0050 - accuracy: 0.9983 - val_loss: 0.7649 - val_accuracy: 0.3356\n",
      "Epoch 34/200\n",
      "3/3 [==============================] - 0s 27ms/step - loss: 0.0027 - accuracy: 1.0000 - val_loss: 0.7719 - val_accuracy: 0.3356\n",
      "Epoch 35/200\n",
      "3/3 [==============================] - 0s 30ms/step - loss: 0.0040 - accuracy: 1.0000 - val_loss: 0.7792 - val_accuracy: 0.3356\n",
      "Epoch 36/200\n",
      "3/3 [==============================] - 0s 31ms/step - loss: 0.0025 - accuracy: 1.0000 - val_loss: 0.7868 - val_accuracy: 0.3356\n"
     ]
    }
   ],
   "source": [
    "model = Sequential()\n",
    "model.add(Conv1D(128, 3, activation='relu', input_shape=(numberOfFeatures2, 1)))\n",
    "model.add(BatchNormalization())\n",
    "model.add(MaxPooling1D(2))\n",
    "\n",
    "model.add(Conv1D(128, 3, activation='relu'))\n",
    "model.add(BatchNormalization())\n",
    "model.add(MaxPooling1D(2))\n",
    "\n",
    "model.add(Flatten())\n",
    "model.add(Dense(numberOfFeatures2))\n",
    "model.add(Dropout(0.40))\n",
    "model.add(Activation('relu'))\n",
    "\n",
    "model.add(Dense(1, activation='sigmoid'))\n",
    "model.summary()\n",
    "\n",
    "opt = tf.keras.optimizers.Adam(learning_rate=0.00075) #, decay=1e-3) #If validation is not following training in trend then the learning rate might be too high\n",
    "model.compile(loss='binary_crossentropy', optimizer=opt, metrics=['accuracy']) #focal_loss_custom(alpha=0.2, gamma=2) #'binary_crossentropy'#focal_loss_custom(alpha=0.25, gamma=2)\n",
    "\n",
    "scaler = preprocessing.Normalizer().fit(X_train2)\n",
    "X_train4 = scaler.transform(X_train2)\n",
    "X_test4 = scaler.transform(X_test)\n",
    "X_val4 = scaler.transform(X_val)\n",
    "\n",
    "history = model.fit(X_train4,y_train2, epochs = ep,batch_size=256,validation_data=(X_val4, y_val), callbacks=[stop_early],shuffle=True)"
   ]
  },
  {
   "cell_type": "code",
   "execution_count": 141,
   "metadata": {},
   "outputs": [
    {
     "name": "stderr",
     "output_type": "stream",
     "text": [
      "2023-04-06 01:52:39.069276: I tensorflow/core/grappler/optimizers/custom_graph_optimizer_registry.cc:113] Plugin optimizer for device_type GPU is enabled.\n"
     ]
    }
   ],
   "source": [
    "# Make predictions on test data\n",
    "y_pred_classes = model.predict(X_test4)\n",
    "y_pred_classes = y_pred_classes.flatten()\n",
    "y_pred_classes = list(map(lambda x: 0 if x<0.5 else 1, y_pred_classes))\n",
    "\n",
    "y_test_classes = y_test"
   ]
  },
  {
   "cell_type": "code",
   "execution_count": 142,
   "metadata": {},
   "outputs": [],
   "source": [
    "# Calculate F1 score macro and Precision macro\n",
    "f1_value = f1_score(y_test_classes, y_pred_classes, average='macro')\n",
    "precision = precision_score(y_test_classes, y_pred_classes, average='macro')\n",
    "sensitivity = recall_score(y_test_classes, y_pred_classes,average='macro')#,pos_label = 1, average='binary')\n",
    "accuracy = accuracy_score(y_test_classes, y_pred_classes)\n",
    "\n",
    "acc_score.append(accuracy)\n",
    "re_score.append(sensitivity)\n",
    "pre_score.append(precision)\n",
    "f_score.append(f1_value)\n",
    "\n",
    "k = 1 \n",
    "\n",
    "avg_acc_score = sum(acc_score)/k\n",
    "avg_recall_score = sum(re_score)/k\n",
    "avg_precision_score = sum(pre_score)/k\n",
    "avg_f1_score = sum(f_score)/k\n",
    "\n",
    "sensitivity = avg_recall_score\n",
    "precision = avg_precision_score\n",
    "accuracy = avg_acc_score\n",
    "f1_score = avg_f1_score"
   ]
  },
  {
   "cell_type": "code",
   "execution_count": 143,
   "metadata": {},
   "outputs": [
    {
     "name": "stdout",
     "output_type": "stream",
     "text": [
      "Avg accuracy : 0.9606299212598425\n",
      "Avg Reccall : 0.7417355371900827\n",
      "Avg Precision : 0.7877049180327869\n",
      "Avg F1_score : 0.7624392068836514\n"
     ]
    }
   ],
   "source": [
    "#print('accuracy of each fold - {}'.format(acc_score))\n",
    "print('Avg accuracy : {}'.format(avg_acc_score))\n",
    "#print('Recall of each fold - {}'.format(re_score))\n",
    "print('Avg Reccall : {}'.format(avg_recall_score))\n",
    "#print('Precision of each fold - {}'.format(pre_score))\n",
    "print('Avg Precision : {}'.format(avg_precision_score))\n",
    "#print('F1_Score of each fold - {}'.format(f_score))\n",
    "print('Avg F1_score : {}'.format(avg_f1_score))"
   ]
  },
  {
   "cell_type": "code",
   "execution_count": 144,
   "metadata": {},
   "outputs": [
    {
     "data": {
      "image/png": "[encoded data removed]",
      "text/plain": [
       "<Figure size 432x288 with 2 Axes>"
      ]
     },
     "metadata": {
      "needs_background": "light"
     },
     "output_type": "display_data"
    },
    {
     "data": {
      "text/plain": [
       "array([0.5       , 0.98347107])"
      ]
     },
     "execution_count": 144,
     "metadata": {},
     "output_type": "execute_result"
    }
   ],
   "source": [
    "from sklearn.metrics import confusion_matrix, ConfusionMatrixDisplay\n",
    "matrix = matrix2 = confusion_matrix(y_test_classes, y_pred_classes)\n",
    "cm_display = ConfusionMatrixDisplay(confusion_matrix = matrix2)\n",
    "cm_display.plot()\n",
    "plt.show()\n",
    "matrix.diagonal()/matrix.sum(axis=1)"
   ]
  },
  {
   "cell_type": "code",
   "execution_count": 145,
   "metadata": {},
   "outputs": [],
   "source": [
    "Accuracies = matrix.diagonal()/matrix.sum(axis=1)\n",
    "\n",
    "Less3 = Accuracies[0]\n",
    "Greater3 = Accuracies[1]"
   ]
  },
  {
   "cell_type": "code",
   "execution_count": 146,
   "metadata": {},
   "outputs": [
    {
     "data": {
      "image/png": "[encoded data removed]",
      "text/plain": [
       "<Figure size 432x288 with 1 Axes>"
      ]
     },
     "metadata": {
      "needs_background": "light"
     },
     "output_type": "display_data"
    }
   ],
   "source": [
    "# Plot the accuracy of the model during training\n",
    "\n",
    "#plt.plot()\n",
    "plt.plot(history.history['loss'])\n",
    "plt.plot(history.history['val_loss'])\n",
    "plt.title('Model Loss')\n",
    "plt.ylabel('Loss')\n",
    "plt.xlabel('Epoch')\n",
    "plt.legend(['Training', 'Validation'], loc='upper left')\n",
    "plt.show()"
   ]
  },
  {
   "cell_type": "code",
   "execution_count": 147,
   "metadata": {},
   "outputs": [
    {
     "data": {
      "image/png": "[encoded data removed]",
      "text/plain": [
       "<Figure size 432x288 with 1 Axes>"
      ]
     },
     "metadata": {
      "needs_background": "light"
     },
     "output_type": "display_data"
    }
   ],
   "source": [
    "# Plot the accuracy of the model during training\n",
    "\n",
    "#plt.plot()\n",
    "plt.plot(history.history['accuracy'])\n",
    "plt.plot(history.history['val_accuracy'])\n",
    "plt.title('Model Accuracy')\n",
    "plt.ylabel('Validation Accuracy')\n",
    "plt.xlabel('Epoch')\n",
    "plt.legend(['Training', 'Validation'], loc='upper left')\n",
    "plt.show()"
   ]
  },
  {
   "cell_type": "code",
   "execution_count": 148,
   "metadata": {},
   "outputs": [],
   "source": [
    "Accuracies = matrix.diagonal()/matrix.sum(axis=1)\n",
    "\n",
    "accuracy = (Greater3+Less3)/2"
   ]
  },
  {
   "cell_type": "code",
   "execution_count": 149,
   "metadata": {},
   "outputs": [],
   "source": [
    "import csv\n",
    "import os.path\n",
    "\n",
    "csv_columns = ['model-type','precision','sensitivity','f1-score','accuracy','NumberOfWindows','Epochs','Run_Time']\n",
    "dict_data = [{'model-type':'CNN', 'precision': precision,'sensitivity': sensitivity,'f1-score': f1_score,'accuracy': accuracy,'NumberOfWindows':numberOfWindows,\"Epochs\":ep}]\n",
    "metric_file = \"Results_Apr3/ptdb_CNN_1.csv\"\n",
    "\n",
    "file_exists = os.path.isfile(metric_file)\n",
    "try:\n",
    "    with open(metric_file, 'a') as csvfile:\n",
    "        writer = csv.DictWriter(csvfile, fieldnames=csv_columns)\n",
    "        if not file_exists:\n",
    "            writer.writeheader()\n",
    "        for data in dict_data:\n",
    "            writer.writerow(data)\n",
    "except IOError:\n",
    "    print(\"I/O error\")"
   ]
  }
 ],
 "metadata": {
  "kernelspec": {
   "display_name": "Python 3",
   "language": "python",
   "name": "python3"
  },
  "language_info": {
   "codemirror_mode": {
    "name": "ipython",
    "version": 3
   },
   "file_extension": ".py",
   "mimetype": "text/x-python",
   "name": "python",
   "nbconvert_exporter": "python",
   "pygments_lexer": "ipython3",
   "version": "3.9.10"
  },
  "orig_nbformat": 4,
  "vscode": {
   "interpreter": {
    "hash": "9f3ba9e726005c067fbc0eaab20e31f21cd7f7e132fec231b7dd4c5a2981fed5"
   }
  }
 },
 "nbformat": 4,
 "nbformat_minor": 2
}
