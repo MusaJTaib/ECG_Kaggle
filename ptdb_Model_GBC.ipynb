{
 "cells": [
  {
   "cell_type": "code",
   "execution_count": 454,
   "metadata": {},
   "outputs": [],
   "source": [
    "import pandas as pd\n",
    "from imblearn.over_sampling import RandomOverSampler\n",
    "from imblearn.under_sampling import RandomUnderSampler\n",
    "from sklearn.model_selection import cross_val_score\n",
    "from sklearn.model_selection import train_test_split\n",
    "from sklearn.ensemble import GradientBoostingClassifier\n",
    "from sklearn.linear_model import LogisticRegression\n",
    "import matplotlib.pyplot as plt\n",
    "from tslearn.clustering import KShape\n",
    "import numpy as np\n",
    "from sklearn import tree\n",
    "import tensorflow as tf\n",
    "\n",
    "np.random.seed(42)\n",
    "tf.random.set_seed(42)"
   ]
  },
  {
   "cell_type": "code",
   "execution_count": 455,
   "metadata": {},
   "outputs": [],
   "source": [
    "Restriction = '3-SD'\n",
    "numberOfFeatures2 = numberOfWindows = 93\n",
    "ep = 275\n",
    "ep_es = 35"
   ]
  },
  {
   "cell_type": "code",
   "execution_count": 456,
   "metadata": {},
   "outputs": [],
   "source": [
    "FeatureSetB1 = pd.read_csv('Windows/ptdb_93Ws.csv')\n",
    "FeatureSetB1.drop(\"Unnamed: 0\",axis=1,inplace = True)\n",
    "FeatureSetB1 = FeatureSetB1.drop('index', axis=1)\n",
    "tree = tree.DecisionTreeClassifier()\n",
    "gbc = GradientBoostingClassifier(random_state=0)"
   ]
  },
  {
   "cell_type": "code",
   "execution_count": 457,
   "metadata": {},
   "outputs": [],
   "source": [
    "FeatureSetB2 = FeatureSetB1.sample(frac=1)\n",
    "FeatureSetB3 = FeatureSetB2.iloc[:, :-2]"
   ]
  },
  {
   "cell_type": "code",
   "execution_count": 458,
   "metadata": {},
   "outputs": [],
   "source": [
    "import pandas as pd\n",
    "import numpy as np\n",
    "\n",
    "B_class_0 = FeatureSetB3[FeatureSetB2['Class'] == 0]\n",
    "B_class_1 = FeatureSetB3[FeatureSetB2['Class'] == 1]\n",
    "\n",
    "B_class_F0 = FeatureSetB2[FeatureSetB2['Class'] == 0]\n",
    "B_class_F1 = FeatureSetB2[FeatureSetB2['Class'] == 1]\n",
    "\n",
    "\n",
    "# Calculate the Z-scores for each feature\n",
    "z_score_0 = (B_class_0 - B_class_0.mean()) / B_class_0.std()\n",
    "z_score_1 = (B_class_1 - B_class_1.mean()) / B_class_1.std()\n",
    "\n",
    "# Set a threshold for the Z-score\n",
    "threshold_0 = 2.5\n",
    "threshold_1 = 2.5\n",
    "\n",
    "# Identify the outliers based on the threshold\n",
    "outliers_0 = np.abs(z_score_0) > threshold_0\n",
    "outliers_1 = np.abs(z_score_1) > threshold_1\n",
    "\n",
    "# Remove the outliers from the dataset\n",
    "B_class_F0 = B_class_F0[~outliers_0.any(axis=1)]\n",
    "B_class_F1 = B_class_F1[~outliers_1.any(axis=1)]\n",
    "\n",
    "# Split the dataset into two classes and perform clustering as described in the previous answer\n",
    "merged_df = pd.concat([B_class_F1, B_class_F0])\n",
    "merged_df = merged_df.sample(frac=1)"
   ]
  },
  {
   "cell_type": "code",
   "execution_count": 459,
   "metadata": {},
   "outputs": [],
   "source": [
    "X = merged_df.iloc[:, :-2]\n",
    "y = merged_df[['Class']]"
   ]
  },
  {
   "cell_type": "code",
   "execution_count": 460,
   "metadata": {},
   "outputs": [],
   "source": [
    "ros = RandomOverSampler(random_state=0,sampling_strategy=0.5)"
   ]
  },
  {
   "cell_type": "code",
   "execution_count": 461,
   "metadata": {},
   "outputs": [],
   "source": [
    "X,y = ros.fit_resample(X,y)"
   ]
  },
  {
   "cell_type": "code",
   "execution_count": 462,
   "metadata": {},
   "outputs": [],
   "source": [
    "x, X_test, y, y_test = train_test_split(X,y, test_size=0.2, random_state=1, stratify=y, shuffle=True)\n",
    "\n",
    "#x,y = ros.fit_resample(x,y)\n",
    "\n",
    "# X_train2, X_val, y_train2, y_val = train_test_split(x,y, test_size=0.2, random_state=1, stratify=y, shuffle=True)"
   ]
  },
  {
   "attachments": {},
   "cell_type": "markdown",
   "metadata": {},
   "source": [
    "Rye - Artificial Neural Network "
   ]
  },
  {
   "cell_type": "code",
   "execution_count": 463,
   "metadata": {},
   "outputs": [],
   "source": [
    "import keras\n",
    "from keras.models import Sequential\n",
    "from keras.layers import Dense, Dropout,Flatten, Activation\n",
    "from sklearn import metrics\n",
    "from keras.layers import LSTM\n",
    "import tensorflow as tf\n",
    "import sys\n",
    "mod=sys.modules[__name__]"
   ]
  },
  {
   "cell_type": "code",
   "execution_count": 464,
   "metadata": {},
   "outputs": [],
   "source": [
    "import numpy as np\n",
    "from sklearn.metrics import f1_score\n",
    "from sklearn.metrics import precision_score\n",
    "from sklearn.metrics import recall_score\n",
    "from sklearn.preprocessing import OneHotEncoder\n",
    "from sklearn.metrics import accuracy_score\n",
    "from tensorflow.keras.utils import to_categorical\n",
    "from sklearn import tree\n",
    "\n",
    "import warnings\n",
    "warnings.filterwarnings(\"ignore\")\n",
    "\n",
    "from sklearn import preprocessing\n",
    "from sklearn.preprocessing import LabelEncoder\n",
    "from sklearn.utils import class_weight\n",
    "tree = tree.DecisionTreeClassifier()\n",
    "\n",
    "acc_score = []\n",
    "re_score = []\n",
    "pre_score = []\n",
    "history_1 = []\n",
    "f_score = []\n",
    "auroc_score = []\n",
    "auprc_score = []"
   ]
  },
  {
   "cell_type": "code",
   "execution_count": 465,
   "metadata": {},
   "outputs": [],
   "source": [
    "scaler1 = preprocessing.Normalizer().fit(x)\n",
    "scaler2 = preprocessing.Normalizer().fit(X_test)\n",
    "# scaler3 = preprocessing.Normalizer().fit(X_val)\n",
    "\n",
    "X_train4 = scaler1.transform(x)\n",
    "X_test4 = scaler2.transform(X_test)\n",
    "# X_val4 = scaler3.transform(X_val)\n",
    "\n",
    "#y_train2 = to_categorical(y_train2)\n",
    "#y_test = to_categorical(y_test)\n",
    "#y_val = to_categorical(y_val)"
   ]
  },
  {
   "cell_type": "code",
   "execution_count": 466,
   "metadata": {},
   "outputs": [
    {
     "name": "stdout",
     "output_type": "stream",
     "text": [
      "Best hyperparameters: {'learning_rate': 1, 'max_depth': 4, 'n_estimators': 100}\n",
      "Best accuracy score: 0.9977120155769732\n"
     ]
    }
   ],
   "source": [
    "from sklearn.ensemble import GradientBoostingClassifier\n",
    "from sklearn.model_selection import GridSearchCV\n",
    "from sklearn.datasets import make_classification\n",
    "from sklearn.metrics import accuracy_score\n",
    "\n",
    "X, y = X_train4,y\n",
    "\n",
    "# Define the parameter grid for the GridSearchCV function\n",
    "param_grid = {'learning_rate': [0.01, 0.1, 1],\n",
    "              'max_depth': [2, 3, 4],\n",
    "              'n_estimators': [50, 100, 200]}\n",
    "\n",
    "# Create a gradient boosting classifier\n",
    "gb = GradientBoostingClassifier()\n",
    "\n",
    "# Use GridSearchCV to find the best hyperparameters\n",
    "grid_search = GridSearchCV(gb, param_grid=param_grid, cv=5,scoring='f1')\n",
    "grid_search.fit(X, y)\n",
    "\n",
    "# Print the best hyperparameters and the corresponding accuracy score\n",
    "print(\"Best hyperparameters:\", grid_search.best_params_)\n",
    "print(\"Best accuracy score:\", grid_search.best_score_)"
   ]
  },
  {
   "cell_type": "code",
   "execution_count": null,
   "metadata": {},
   "outputs": [],
   "source": [
    "#1\n",
    "params = {'learning_rate': 0.01, 'max_depth': 2, 'n_estimators': 50}"
   ]
  },
  {
   "cell_type": "code",
   "execution_count": null,
   "metadata": {},
   "outputs": [],
   "source": [
    "#22\n",
    "params = {'learning_rate': 1, 'max_depth': 4, 'n_estimators': 200}"
   ]
  },
  {
   "cell_type": "code",
   "execution_count": null,
   "metadata": {},
   "outputs": [],
   "source": [
    "#45\n",
    "params = {'learning_rate': 1, 'max_depth': 4, 'n_estimators': 200}"
   ]
  },
  {
   "cell_type": "code",
   "execution_count": null,
   "metadata": {},
   "outputs": [],
   "source": [
    "#93\n",
    "params = {'learning_rate': 0.01, 'max_depth': 2, 'n_estimators': 50}"
   ]
  },
  {
   "cell_type": "code",
   "execution_count": 406,
   "metadata": {},
   "outputs": [],
   "source": [
    "#187\n",
    "params = {'learning_rate': 0.1, 'max_depth': 3, 'n_estimators': 200}"
   ]
  },
  {
   "cell_type": "code",
   "execution_count": 407,
   "metadata": {},
   "outputs": [],
   "source": [
    "from sklearn.ensemble import RandomForestClassifier\n",
    "from sklearn.ensemble import GradientBoostingClassifier\n",
    "model = GradientBoostingClassifier(**params)\n",
    "\n",
    "#scaler = preprocessing.StandardScaler().fit(X_train)\n",
    "#scaler = preprocessing.RobustScaler().fit(X_train)\n",
    "#scaler =  preprocessing.MinMaxScaler().fit(X_train)\n",
    "# scaler = preprocessing.Normalizer().fit(X_train4)\n",
    "\n",
    "# X_train4 = scaler.transform(X_train4)\n",
    "# X_test4 = scaler.transform(X_test4)\n",
    "# X_val4 = scaler.transform(X_val4)\n",
    "\n",
    "history = model.fit(X_train4,y)#, epochs = ep,batch_size=512,validation_data=(X_val4, y_val), callbacks=[stop_early],shuffle=True)#,use_multiprocessing=True\n",
    "history_1.append(history)\n",
    "\n",
    "# Make predictions on test data\n",
    "y_pred_classes = model.predict(X_test4)\n",
    "y_test_classes = y_test"
   ]
  },
  {
   "cell_type": "code",
   "execution_count": 408,
   "metadata": {},
   "outputs": [],
   "source": [
    "# Calculate F1 score macro and Precision macro\n",
    "f1_value = f1_score(y_test_classes, y_pred_classes, average='macro')\n",
    "precision = precision_score(y_test_classes, y_pred_classes, average='macro')\n",
    "sensitivity = recall_score(y_test_classes, y_pred_classes,average='macro')#,pos_label = 1, average='binary')\n",
    "accuracy = accuracy_score(y_test_classes, y_pred_classes)\n",
    "\n",
    "acc_score.append(accuracy)\n",
    "re_score.append(sensitivity)\n",
    "pre_score.append(precision)\n",
    "f_score.append(f1_value)\n",
    "\n",
    "k = 1 \n",
    "\n",
    "avg_acc_score = sum(acc_score)/k\n",
    "avg_recall_score = sum(re_score)/k\n",
    "avg_precision_score = sum(pre_score)/k\n",
    "avg_f1_score = sum(f_score)/k\n",
    "\n",
    "sensitivity = avg_recall_score\n",
    "precision = avg_precision_score\n",
    "accuracy = avg_acc_score\n",
    "f1_score = avg_f1_score"
   ]
  },
  {
   "cell_type": "code",
   "execution_count": 409,
   "metadata": {},
   "outputs": [
    {
     "name": "stdout",
     "output_type": "stream",
     "text": [
      "Avg accuracy : 1.0\n",
      "Avg Reccall : 1.0\n",
      "Avg Precision : 1.0\n",
      "Avg F1_score : 1.0\n"
     ]
    }
   ],
   "source": [
    "#print('accuracy of each fold - {}'.format(acc_score))\n",
    "print('Avg accuracy : {}'.format(avg_acc_score))\n",
    "#print('Recall of each fold - {}'.format(re_score))\n",
    "print('Avg Reccall : {}'.format(avg_recall_score))\n",
    "#print('Precision of each fold - {}'.format(pre_score))\n",
    "print('Avg Precision : {}'.format(avg_precision_score))\n",
    "#print('F1_Score of each fold - {}'.format(f_score))\n",
    "print('Avg F1_score : {}'.format(avg_f1_score))"
   ]
  },
  {
   "cell_type": "code",
   "execution_count": 410,
   "metadata": {},
   "outputs": [],
   "source": [
    "# #scaler = preprocessing.StandardScaler().fit(X_train)\n",
    "# #scaler = preprocessing.RobustScaler().fit(X_train)\n",
    "# #scaler =  preprocessing.MinMaxScaler().fit(X_train)\n",
    "# scaler = preprocessing.Normalizer().fit(x)\n",
    "\n",
    "# x = scaler.transform(x)\n",
    "# y = to_categorical(y)\n",
    "\n",
    "\n",
    "# precision = cross_val_score(tree,x,y,cv=5,scoring='precision_macro')#,average='macro')\n",
    "# recall = cross_val_score(tree,x,y,cv=5,scoring='recall_macro')#,average='macro')\n",
    "# accuracy = cross_val_score(tree,x,y,cv=5,scoring='accuracy')#,average='macro')\n",
    "# f1 = cross_val_score(tree,x,y,cv=5,scoring='f1_macro')#,average='macro')\n",
    "\n",
    "# sensitivity = np.mean(recall)\n",
    "# precision = np.mean(precision)\n",
    "# accuracy = np.mean(accuracy)\n",
    "# f1_score = np.mean(f1)  "
   ]
  },
  {
   "cell_type": "code",
   "execution_count": 411,
   "metadata": {},
   "outputs": [],
   "source": [
    "import csv\n",
    "import os.path\n",
    "from datetime import datetime\n",
    "\n",
    "csv_columns = ['model-type','precision','sensitivity','f1-score','accuracy','NumberOfWindows','Epochs','Run_Time']\n",
    "dict_data = [{'model-type':'GBC', 'precision': precision,'sensitivity': sensitivity,'f1-score': f1_score,'accuracy': accuracy,'NumberOfWindows':numberOfWindows,\"Epochs\":ep}]\n",
    "metric_file = \"Results_Apr3/New_ptdb_GBC_1.csv\"\n",
    "\n",
    "file_exists = os.path.isfile(metric_file)\n",
    "try:\n",
    "    with open(metric_file, 'a') as csvfile:\n",
    "        writer = csv.DictWriter(csvfile, fieldnames=csv_columns)\n",
    "        if not file_exists:\n",
    "            writer.writeheader()\n",
    "        for data in dict_data:\n",
    "            writer.writerow(data)\n",
    "except IOError:\n",
    "    print(\"I/O error\")"
   ]
  }
 ],
 "metadata": {
  "kernelspec": {
   "display_name": "Python 3",
   "language": "python",
   "name": "python3"
  },
  "language_info": {
   "codemirror_mode": {
    "name": "ipython",
    "version": 3
   },
   "file_extension": ".py",
   "mimetype": "text/x-python",
   "name": "python",
   "nbconvert_exporter": "python",
   "pygments_lexer": "ipython3",
   "version": "3.9.10"
  },
  "orig_nbformat": 4,
  "vscode": {
   "interpreter": {
    "hash": "9f3ba9e726005c067fbc0eaab20e31f21cd7f7e132fec231b7dd4c5a2981fed5"
   }
  }
 },
 "nbformat": 4,
 "nbformat_minor": 2
}
