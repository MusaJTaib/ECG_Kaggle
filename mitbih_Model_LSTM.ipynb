{
 "cells": [
  {
   "cell_type": "code",
   "execution_count": 64,
   "metadata": {},
   "outputs": [],
   "source": [
    "import pandas as pd\n",
    "from tensorflow import keras\n",
    "from imblearn.over_sampling import RandomOverSampler\n",
    "from imblearn.under_sampling import RandomUnderSampler\n",
    "from sklearn.model_selection import cross_val_score\n",
    "from sklearn.model_selection import train_test_split\n",
    "from sklearn.linear_model import LogisticRegression\n",
    "import matplotlib.pyplot as plt\n",
    "from tslearn.clustering import KShape\n",
    "import numpy as np\n",
    "from sklearn import tree"
   ]
  },
  {
   "cell_type": "code",
   "execution_count": 65,
   "metadata": {},
   "outputs": [],
   "source": [
    "Restriction = '3-SD'\n",
    "numberOfFeatures2 = numberOfWindows = 187\n",
    "ep = 175\n",
    "ep_es = 25"
   ]
  },
  {
   "cell_type": "code",
   "execution_count": 66,
   "metadata": {},
   "outputs": [],
   "source": [
    "FeatureSetB1 = pd.read_csv('Windows/mitbih_187Ws.csv')\n",
    "FeatureSetB1.drop(\"Unnamed: 0\",axis=1,inplace = True)\n",
    "FeatureSetB1 = FeatureSetB1.drop('index', axis=1)\n",
    "tree = tree.DecisionTreeClassifier()"
   ]
  },
  {
   "cell_type": "code",
   "execution_count": 67,
   "metadata": {},
   "outputs": [],
   "source": [
    "FeatureSetB2 = FeatureSetB1.sample(frac=1)"
   ]
  },
  {
   "cell_type": "code",
   "execution_count": 68,
   "metadata": {},
   "outputs": [],
   "source": [
    "import pandas as pd\n",
    "import numpy as np\n",
    "\n",
    "B_class_0 = FeatureSetB2[FeatureSetB2['Class'] == 0]\n",
    "B_class_1 = FeatureSetB2[FeatureSetB2['Class'] == 1]\n",
    "B_class_2 = FeatureSetB2[FeatureSetB2['Class'] == 2]\n",
    "B_class_3 = FeatureSetB2[FeatureSetB2['Class'] == 3]\n",
    "B_class_4 = FeatureSetB2[FeatureSetB2['Class'] == 4]\n",
    "\n",
    "\n",
    "# Calculate the Z-scores for each feature\n",
    "z_score_0 = (B_class_0 - B_class_0.mean()) / B_class_0.std()\n",
    "z_score_1 = (B_class_1 - B_class_1.mean()) / B_class_1.std()\n",
    "z_score_2 = (B_class_2 - B_class_2.mean()) / B_class_2.std()\n",
    "z_score_3 = (B_class_3 - B_class_3.mean()) / B_class_3.std()\n",
    "z_score_4 = (B_class_4 - B_class_4.mean()) / B_class_4.std()\n",
    "\n",
    "# Set a threshold for the Z-score\n",
    "threshold_0 = 2\n",
    "threshold_1 = 2.75\n",
    "threshold_2 = 2.75\n",
    "threshold_3 = 2.75\n",
    "threshold_4 = 2.75\n",
    "\n",
    "# Identify the outliers based on the threshold\n",
    "outliers_0 = np.abs(z_score_0) > threshold_0\n",
    "outliers_1 = np.abs(z_score_1) > threshold_1\n",
    "outliers_2 = np.abs(z_score_2) > threshold_2\n",
    "outliers_3 = np.abs(z_score_3) > threshold_3\n",
    "outliers_4 = np.abs(z_score_4) > threshold_4\n",
    "\n",
    "# Remove the outliers from the dataset\n",
    "B_class_0 = B_class_0[~outliers_0.any(axis=1)]\n",
    "B_class_1 = B_class_1[~outliers_1.any(axis=1)]\n",
    "B_class_2 = B_class_2[~outliers_2.any(axis=1)]\n",
    "B_class_3 = B_class_3[~outliers_3.any(axis=1)]\n",
    "B_class_4 = B_class_4[~outliers_4.any(axis=1)]\n",
    "\n",
    "# Split the dataset into two classes and perform clustering as described in the previous answer\n",
    "merged_df = pd.concat([B_class_0,B_class_1,B_class_2,B_class_3,B_class_4])\n",
    "merged_df = merged_df.sample(frac=1)"
   ]
  },
  {
   "cell_type": "code",
   "execution_count": 69,
   "metadata": {},
   "outputs": [],
   "source": [
    "X = FeatureSetB2.iloc[:, :-2]\n",
    "y = FeatureSetB2[['Class']]"
   ]
  },
  {
   "cell_type": "code",
   "execution_count": 70,
   "metadata": {},
   "outputs": [],
   "source": [
    "# Calculate the number of samples in the majority class\n",
    "sampling_strategy = {1: 20000, 2: 20000, 3: 20000, 4:20000}\n",
    "\n",
    "ros = RandomOverSampler(sampling_strategy=sampling_strategy)\n",
    "ros2 = RandomUnderSampler(sampling_strategy= {0:40000})\n",
    "\n",
    "# X,y = ros.fit_resample(X,y)\n",
    "# x,y = ros2.fit_resample(X,y)"
   ]
  },
  {
   "cell_type": "code",
   "execution_count": 71,
   "metadata": {},
   "outputs": [],
   "source": [
    "X_train1, X_test, y_train1, y_test = train_test_split(X,y, test_size=0.2, random_state=1, stratify=y, shuffle=True)\n",
    "\n",
    "X_train1,y_train1 = ros.fit_resample(X_train1,y_train1)\n",
    "x,y = ros2.fit_resample(X_train1,y_train1)\n",
    "\n",
    "X_train2, X_val, y_train2, y_val = train_test_split(x,y, test_size=0.2, random_state=1, stratify=y, shuffle=True)\n"
   ]
  },
  {
   "attachments": {},
   "cell_type": "markdown",
   "metadata": {},
   "source": [
    "Rye - Artificial Neural Network "
   ]
  },
  {
   "cell_type": "code",
   "execution_count": 72,
   "metadata": {},
   "outputs": [],
   "source": [
    "import keras\n",
    "from keras.models import Sequential\n",
    "from keras.layers import Dense, Dropout,Flatten, Activation\n",
    "from sklearn import metrics\n",
    "from keras.layers import LSTM\n",
    "import tensorflow as tf\n",
    "import sys\n",
    "mod=sys.modules[__name__]"
   ]
  },
  {
   "cell_type": "code",
   "execution_count": 73,
   "metadata": {},
   "outputs": [],
   "source": [
    "import numpy as np\n",
    "from sklearn.metrics import f1_score\n",
    "from sklearn.metrics import precision_score\n",
    "from sklearn.metrics import recall_score\n",
    "from sklearn.preprocessing import OneHotEncoder\n",
    "from sklearn.metrics import accuracy_score\n",
    "from tensorflow.keras.utils import to_categorical\n",
    "from sklearn import preprocessing\n",
    "from tensorflow.keras.models import Sequential\n",
    "from tensorflow.keras.layers import Conv1D, Dense, MaxPooling1D, Flatten\n",
    "from tensorflow.keras.optimizers import Adam\n",
    "from sklearn.model_selection import train_test_split\n",
    "from tensorflow.keras.layers import BatchNormalization\n",
    "from sklearn.utils import class_weight\n",
    "\n",
    "import warnings\n",
    "warnings.filterwarnings(\"ignore\")\n",
    "\n",
    "from sklearn import preprocessing\n",
    "from sklearn.preprocessing import LabelEncoder\n",
    "from sklearn.utils import class_weight\n",
    "\n",
    "stop_early = tf.keras.callbacks.EarlyStopping(monitor='val_loss', patience = ep_es, mode='min',restore_best_weights=True)\n",
    "\n",
    "acc_score = []\n",
    "re_score = []\n",
    "pre_score = []\n",
    "history_1 = []\n",
    "f_score = []\n",
    "auroc_score = []\n",
    "auprc_score = []"
   ]
  },
  {
   "cell_type": "code",
   "execution_count": 74,
   "metadata": {},
   "outputs": [
    {
     "name": "stdout",
     "output_type": "stream",
     "text": [
      "Model: \"sequential_3\"\n",
      "_________________________________________________________________\n",
      " Layer (type)                Output Shape              Param #   \n",
      "=================================================================\n",
      " lstm_3 (LSTM)               (None, 128)               66560     \n",
      "                                                                 \n",
      " dense_6 (Dense)             (None, 64)                8256      \n",
      "                                                                 \n",
      " dense_7 (Dense)             (None, 5)                 325       \n",
      "                                                                 \n",
      "=================================================================\n",
      "Total params: 75,141\n",
      "Trainable params: 75,141\n",
      "Non-trainable params: 0\n",
      "_________________________________________________________________\n",
      "Epoch 1/175\n"
     ]
    },
    {
     "name": "stderr",
     "output_type": "stream",
     "text": [
      "2023-04-03 17:07:45.456439: I tensorflow/core/grappler/optimizers/custom_graph_optimizer_registry.cc:113] Plugin optimizer for device_type GPU is enabled.\n",
      "2023-04-03 17:07:45.686585: I tensorflow/core/grappler/optimizers/custom_graph_optimizer_registry.cc:113] Plugin optimizer for device_type GPU is enabled.\n",
      "2023-04-03 17:07:46.374295: I tensorflow/core/grappler/optimizers/custom_graph_optimizer_registry.cc:113] Plugin optimizer for device_type GPU is enabled.\n"
     ]
    },
    {
     "name": "stdout",
     "output_type": "stream",
     "text": [
      "94/94 [==============================] - ETA: 0s - loss: 1.5821 - accuracy: 0.3317"
     ]
    },
    {
     "name": "stderr",
     "output_type": "stream",
     "text": [
      "2023-04-03 17:08:03.062149: I tensorflow/core/grappler/optimizers/custom_graph_optimizer_registry.cc:113] Plugin optimizer for device_type GPU is enabled.\n",
      "2023-04-03 17:08:03.144540: I tensorflow/core/grappler/optimizers/custom_graph_optimizer_registry.cc:113] Plugin optimizer for device_type GPU is enabled.\n"
     ]
    },
    {
     "name": "stdout",
     "output_type": "stream",
     "text": [
      "94/94 [==============================] - 22s 201ms/step - loss: 1.5821 - accuracy: 0.3317 - val_loss: 1.5607 - val_accuracy: 0.3333\n",
      "Epoch 2/175\n",
      "94/94 [==============================] - 17s 178ms/step - loss: 1.5614 - accuracy: 0.3333 - val_loss: 1.5607 - val_accuracy: 0.3333\n",
      "Epoch 3/175\n",
      "94/94 [==============================] - 16s 168ms/step - loss: 1.5610 - accuracy: 0.3333 - val_loss: 1.5615 - val_accuracy: 0.3333\n",
      "Epoch 4/175\n",
      "94/94 [==============================] - 16s 166ms/step - loss: 1.5609 - accuracy: 0.3333 - val_loss: 1.5607 - val_accuracy: 0.3333\n",
      "Epoch 5/175\n",
      "94/94 [==============================] - 16s 171ms/step - loss: 1.5602 - accuracy: 0.3333 - val_loss: 1.5599 - val_accuracy: 0.3333\n",
      "Epoch 6/175\n",
      "94/94 [==============================] - 16s 167ms/step - loss: 1.5617 - accuracy: 0.3335 - val_loss: 1.5606 - val_accuracy: 0.3333\n",
      "Epoch 7/175\n",
      "94/94 [==============================] - 16s 171ms/step - loss: 1.5597 - accuracy: 0.3333 - val_loss: 1.5585 - val_accuracy: 0.3333\n",
      "Epoch 8/175\n",
      "94/94 [==============================] - 14s 151ms/step - loss: 1.5678 - accuracy: 0.3324 - val_loss: 1.5615 - val_accuracy: 0.3333\n",
      "Epoch 9/175\n",
      "94/94 [==============================] - 12s 129ms/step - loss: 1.5612 - accuracy: 0.3333 - val_loss: 1.5610 - val_accuracy: 0.3333\n",
      "Epoch 10/175\n",
      "94/94 [==============================] - 12s 129ms/step - loss: 1.5612 - accuracy: 0.3333 - val_loss: 1.5607 - val_accuracy: 0.3333\n",
      "Epoch 11/175\n",
      "94/94 [==============================] - 13s 136ms/step - loss: 1.5608 - accuracy: 0.3333 - val_loss: 1.5607 - val_accuracy: 0.3333\n",
      "Epoch 12/175\n",
      "94/94 [==============================] - 12s 129ms/step - loss: 1.5606 - accuracy: 0.3333 - val_loss: 1.5596 - val_accuracy: 0.3333\n",
      "Epoch 13/175\n",
      "94/94 [==============================] - 13s 137ms/step - loss: 1.5590 - accuracy: 0.3333 - val_loss: 1.5571 - val_accuracy: 0.3333\n",
      "Epoch 14/175\n",
      "94/94 [==============================] - 12s 131ms/step - loss: 1.5558 - accuracy: 0.3341 - val_loss: 1.5435 - val_accuracy: 0.3341\n",
      "Epoch 15/175\n",
      "94/94 [==============================] - 12s 129ms/step - loss: 1.5434 - accuracy: 0.3348 - val_loss: 1.5268 - val_accuracy: 0.3335\n",
      "Epoch 16/175\n",
      "94/94 [==============================] - 12s 129ms/step - loss: 1.5149 - accuracy: 0.3379 - val_loss: 1.4352 - val_accuracy: 0.3595\n",
      "Epoch 17/175\n",
      "94/94 [==============================] - 12s 129ms/step - loss: 1.5387 - accuracy: 0.3385 - val_loss: 1.5609 - val_accuracy: 0.3333\n",
      "Epoch 18/175\n",
      "94/94 [==============================] - 12s 130ms/step - loss: 1.5580 - accuracy: 0.3346 - val_loss: 1.5428 - val_accuracy: 0.3527\n",
      "Epoch 19/175\n",
      "94/94 [==============================] - 13s 135ms/step - loss: 1.5448 - accuracy: 0.3368 - val_loss: 1.5007 - val_accuracy: 0.3333\n",
      "Epoch 20/175\n",
      "94/94 [==============================] - 12s 129ms/step - loss: 1.4222 - accuracy: 0.3452 - val_loss: 1.3583 - val_accuracy: 0.3980\n",
      "Epoch 21/175\n",
      "94/94 [==============================] - 12s 128ms/step - loss: 1.3214 - accuracy: 0.4015 - val_loss: 1.2877 - val_accuracy: 0.4347\n",
      "Epoch 22/175\n",
      "94/94 [==============================] - 12s 131ms/step - loss: 1.2780 - accuracy: 0.4378 - val_loss: 1.2538 - val_accuracy: 0.4205\n",
      "Epoch 23/175\n",
      "94/94 [==============================] - 12s 129ms/step - loss: 1.2399 - accuracy: 0.4929 - val_loss: 1.2352 - val_accuracy: 0.5144\n",
      "Epoch 24/175\n",
      "94/94 [==============================] - 12s 128ms/step - loss: 1.2156 - accuracy: 0.5195 - val_loss: 1.1774 - val_accuracy: 0.5444\n",
      "Epoch 25/175\n",
      "94/94 [==============================] - 12s 128ms/step - loss: 1.1430 - accuracy: 0.5586 - val_loss: 1.1816 - val_accuracy: 0.5406\n",
      "Epoch 26/175\n",
      "94/94 [==============================] - 12s 128ms/step - loss: 1.0810 - accuracy: 0.5954 - val_loss: 1.0075 - val_accuracy: 0.6534\n",
      "Epoch 27/175\n",
      "94/94 [==============================] - 12s 128ms/step - loss: 1.0188 - accuracy: 0.6317 - val_loss: 0.9446 - val_accuracy: 0.6603\n",
      "Epoch 28/175\n",
      "94/94 [==============================] - 12s 128ms/step - loss: 0.9605 - accuracy: 0.6477 - val_loss: 1.0548 - val_accuracy: 0.6134\n",
      "Epoch 29/175\n",
      "94/94 [==============================] - 12s 128ms/step - loss: 0.9551 - accuracy: 0.6449 - val_loss: 0.9135 - val_accuracy: 0.6549\n",
      "Epoch 30/175\n",
      "94/94 [==============================] - 12s 130ms/step - loss: 0.8909 - accuracy: 0.6571 - val_loss: 0.8467 - val_accuracy: 0.6601\n",
      "Epoch 31/175\n",
      "94/94 [==============================] - 12s 128ms/step - loss: 0.9123 - accuracy: 0.6478 - val_loss: 0.8138 - val_accuracy: 0.6731\n",
      "Epoch 32/175\n",
      "94/94 [==============================] - 12s 128ms/step - loss: 0.7992 - accuracy: 0.7014 - val_loss: 0.7463 - val_accuracy: 0.7175\n",
      "Epoch 33/175\n",
      "94/94 [==============================] - 12s 129ms/step - loss: 0.7462 - accuracy: 0.7321 - val_loss: 0.6928 - val_accuracy: 0.7526\n",
      "Epoch 34/175\n",
      "94/94 [==============================] - 12s 129ms/step - loss: 0.6315 - accuracy: 0.7781 - val_loss: 0.5987 - val_accuracy: 0.7915\n",
      "Epoch 35/175\n",
      "94/94 [==============================] - 12s 130ms/step - loss: 0.5821 - accuracy: 0.7969 - val_loss: 0.5520 - val_accuracy: 0.8008\n",
      "Epoch 36/175\n",
      "94/94 [==============================] - 13s 134ms/step - loss: 0.6190 - accuracy: 0.7856 - val_loss: 0.5079 - val_accuracy: 0.8249\n",
      "Epoch 37/175\n",
      "94/94 [==============================] - 12s 131ms/step - loss: 0.5157 - accuracy: 0.8216 - val_loss: 0.5065 - val_accuracy: 0.8314\n",
      "Epoch 38/175\n",
      "94/94 [==============================] - 13s 133ms/step - loss: 0.4951 - accuracy: 0.8286 - val_loss: 0.4899 - val_accuracy: 0.8327\n",
      "Epoch 39/175\n",
      "94/94 [==============================] - 12s 128ms/step - loss: 0.4738 - accuracy: 0.8345 - val_loss: 0.4972 - val_accuracy: 0.8195\n",
      "Epoch 40/175\n",
      "94/94 [==============================] - 12s 128ms/step - loss: 0.4463 - accuracy: 0.8428 - val_loss: 0.4224 - val_accuracy: 0.8537\n",
      "Epoch 41/175\n",
      "94/94 [==============================] - 12s 130ms/step - loss: 0.4247 - accuracy: 0.8492 - val_loss: 0.4166 - val_accuracy: 0.8528\n",
      "Epoch 42/175\n",
      "94/94 [==============================] - 12s 128ms/step - loss: 0.4273 - accuracy: 0.8489 - val_loss: 0.4462 - val_accuracy: 0.8457\n",
      "Epoch 43/175\n",
      "94/94 [==============================] - 12s 128ms/step - loss: 0.4284 - accuracy: 0.8515 - val_loss: 1.1378 - val_accuracy: 0.6340\n",
      "Epoch 44/175\n",
      "94/94 [==============================] - 12s 128ms/step - loss: 0.4528 - accuracy: 0.8405 - val_loss: 0.4010 - val_accuracy: 0.8564\n",
      "Epoch 45/175\n",
      "94/94 [==============================] - 12s 128ms/step - loss: 0.6190 - accuracy: 0.8007 - val_loss: 1.5779 - val_accuracy: 0.2565\n",
      "Epoch 46/175\n",
      "94/94 [==============================] - 12s 128ms/step - loss: 1.2641 - accuracy: 0.4364 - val_loss: 1.0761 - val_accuracy: 0.5131\n",
      "Epoch 47/175\n",
      "94/94 [==============================] - 12s 130ms/step - loss: 1.2335 - accuracy: 0.4626 - val_loss: 1.2452 - val_accuracy: 0.4720\n",
      "Epoch 48/175\n",
      "94/94 [==============================] - 12s 129ms/step - loss: 1.2265 - accuracy: 0.4855 - val_loss: 1.1715 - val_accuracy: 0.4945\n",
      "Epoch 49/175\n",
      "94/94 [==============================] - 12s 129ms/step - loss: 1.1799 - accuracy: 0.4936 - val_loss: 1.0615 - val_accuracy: 0.5442\n",
      "Epoch 50/175\n",
      "94/94 [==============================] - 12s 128ms/step - loss: 0.9650 - accuracy: 0.5923 - val_loss: 0.8841 - val_accuracy: 0.6489\n",
      "Epoch 51/175\n",
      "94/94 [==============================] - 12s 128ms/step - loss: 0.8935 - accuracy: 0.6342 - val_loss: 0.8102 - val_accuracy: 0.6875\n",
      "Epoch 52/175\n",
      "94/94 [==============================] - 12s 128ms/step - loss: 0.8322 - accuracy: 0.6653 - val_loss: 0.7787 - val_accuracy: 0.7065\n",
      "Epoch 53/175\n",
      "94/94 [==============================] - 12s 129ms/step - loss: 0.7774 - accuracy: 0.6996 - val_loss: 0.7743 - val_accuracy: 0.7006\n",
      "Epoch 54/175\n",
      "94/94 [==============================] - 12s 128ms/step - loss: 0.7401 - accuracy: 0.7169 - val_loss: 0.7007 - val_accuracy: 0.7312\n",
      "Epoch 55/175\n",
      "94/94 [==============================] - 12s 128ms/step - loss: 0.6785 - accuracy: 0.7417 - val_loss: 0.6624 - val_accuracy: 0.7364\n",
      "Epoch 56/175\n",
      "94/94 [==============================] - 12s 128ms/step - loss: 0.6340 - accuracy: 0.7598 - val_loss: 0.5984 - val_accuracy: 0.7875\n",
      "Epoch 57/175\n",
      "94/94 [==============================] - 12s 128ms/step - loss: 0.5967 - accuracy: 0.7772 - val_loss: 0.5610 - val_accuracy: 0.7965\n",
      "Epoch 58/175\n",
      "94/94 [==============================] - 12s 128ms/step - loss: 0.5781 - accuracy: 0.7833 - val_loss: 0.5378 - val_accuracy: 0.8067\n",
      "Epoch 59/175\n",
      "94/94 [==============================] - 12s 130ms/step - loss: 0.5540 - accuracy: 0.7936 - val_loss: 0.5365 - val_accuracy: 0.8079\n",
      "Epoch 60/175\n",
      "94/94 [==============================] - 13s 133ms/step - loss: 0.5418 - accuracy: 0.7977 - val_loss: 0.5231 - val_accuracy: 0.7930\n",
      "Epoch 61/175\n",
      "94/94 [==============================] - 12s 129ms/step - loss: 0.5118 - accuracy: 0.8094 - val_loss: 0.5509 - val_accuracy: 0.7955\n",
      "Epoch 62/175\n",
      "94/94 [==============================] - 12s 129ms/step - loss: 0.4891 - accuracy: 0.8192 - val_loss: 0.4770 - val_accuracy: 0.8290\n",
      "Epoch 63/175\n",
      "94/94 [==============================] - 13s 141ms/step - loss: 0.4817 - accuracy: 0.8227 - val_loss: 0.4925 - val_accuracy: 0.8164\n",
      "Epoch 64/175\n",
      "94/94 [==============================] - 13s 134ms/step - loss: 0.4688 - accuracy: 0.8292 - val_loss: 0.4561 - val_accuracy: 0.8352\n",
      "Epoch 65/175\n",
      "94/94 [==============================] - 18s 189ms/step - loss: 0.4494 - accuracy: 0.8349 - val_loss: 0.4712 - val_accuracy: 0.8299\n",
      "Epoch 66/175\n",
      "94/94 [==============================] - 19s 199ms/step - loss: 0.4450 - accuracy: 0.8370 - val_loss: 0.4340 - val_accuracy: 0.8412\n",
      "Epoch 67/175\n",
      "94/94 [==============================] - 18s 187ms/step - loss: 0.4374 - accuracy: 0.8418 - val_loss: 0.4273 - val_accuracy: 0.8434\n",
      "Epoch 68/175\n",
      "94/94 [==============================] - 18s 188ms/step - loss: 0.4121 - accuracy: 0.8500 - val_loss: 0.4076 - val_accuracy: 0.8522\n",
      "Epoch 69/175\n",
      "94/94 [==============================] - 18s 190ms/step - loss: 0.4145 - accuracy: 0.8494 - val_loss: 0.4349 - val_accuracy: 0.8467\n"
     ]
    }
   ],
   "source": [
    "numberOfFeatures=1\n",
    "\n",
    "model = Sequential()\n",
    "model.add(LSTM(128, input_shape=(numberOfWindows,numberOfFeatures)))#,return_sequences=True))\n",
    "#model.add(Dropout(0.25))\n",
    "model.add(Dense(64, activation='relu'))\n",
    "#model.add(Dropout(0.25))\n",
    "#model.add(Dense(32,activation='relu'))#, activation='relu'))\n",
    "#model.add(Dropout(0.1))\n",
    "model.add(Dense(5, activation='softmax'))\n",
    "model.summary()\n",
    "opt = tf.keras.optimizers.Adam(learning_rate=0.0045)#, decay=1e-3) #If validation is not following training in trend then the learning rate might be too high\n",
    "model.compile(loss='categorical_crossentropy', optimizer=opt, metrics=['accuracy'])#focal_loss_custom(alpha=0.2, gamma=2) #'binary_crossentropy'#focal_loss_custom(alpha=0.25, gamma=2)\n",
    "\n",
    "\n",
    "#scaler = preprocessing.StandardScaler().fit(X_train)\n",
    "#scaler = preprocessing.RobustScaler().fit(X_train)\n",
    "#scaler =  preprocessing.MinMaxScaler().fit(X_train)\n",
    "scaler = preprocessing.Normalizer().fit(X_train2)\n",
    "\n",
    "X_train4 = scaler.transform(X_train2)\n",
    "X_test4 = scaler.transform(X_test)\n",
    "X_val4 = scaler.transform(X_val)\n",
    "\n",
    "Train_shape = X_train4.shape\n",
    "X_train4 = X_train4.reshape(int(Train_shape[0]),numberOfWindows,1)\n",
    "\n",
    "Train_shape = X_test4.shape\n",
    "X_test4 = X_test4.reshape(int(Train_shape[0]),numberOfWindows,1)\n",
    "\n",
    "Train_shape = X_val4.shape\n",
    "X_val4 = X_val4.reshape(int(Train_shape[0]),numberOfWindows,1)\n",
    "\n",
    "\n",
    "y_train2 = to_categorical(y_train2)\n",
    "y_test = to_categorical(y_test)\n",
    "y_val = to_categorical(y_val)\n",
    "\n",
    "\n",
    "history = model.fit(X_train4,y_train2, epochs = ep,batch_size=1024,validation_data=(X_val4, y_val), callbacks=[stop_early],shuffle=True)"
   ]
  },
  {
   "cell_type": "code",
   "execution_count": 75,
   "metadata": {},
   "outputs": [
    {
     "name": "stderr",
     "output_type": "stream",
     "text": [
      "2023-04-03 17:22:49.259738: I tensorflow/core/grappler/optimizers/custom_graph_optimizer_registry.cc:113] Plugin optimizer for device_type GPU is enabled.\n",
      "2023-04-03 17:22:49.342950: I tensorflow/core/grappler/optimizers/custom_graph_optimizer_registry.cc:113] Plugin optimizer for device_type GPU is enabled.\n"
     ]
    }
   ],
   "source": [
    "# Make predictions on test data\n",
    "y_pred = model.predict(X_test4)\n",
    "\n",
    "# Convert probabilities to one-hot encoded vectors\n",
    "y_pred_classes = np.argmax(y_pred, axis=1)\n",
    "y_test_classes = np.argmax(y_test, axis=1)"
   ]
  },
  {
   "cell_type": "code",
   "execution_count": 76,
   "metadata": {},
   "outputs": [],
   "source": [
    "# Calculate F1 score macro and Precision macro\n",
    "f1_value = f1_score(y_test_classes, y_pred_classes, average='macro')\n",
    "precision = precision_score(y_test_classes, y_pred_classes, average='macro')\n",
    "sensitivity = recall_score(y_test_classes, y_pred_classes,average='macro')#,pos_label = 1, average='binary')\n",
    "accuracy = accuracy_score(y_test_classes, y_pred_classes)\n",
    "\n",
    "acc_score.append(accuracy)\n",
    "re_score.append(sensitivity)\n",
    "pre_score.append(precision)\n",
    "f_score.append(f1_value)\n",
    "\n",
    "k = 1 \n",
    "\n",
    "avg_acc_score = sum(acc_score)/k\n",
    "avg_recall_score = sum(re_score)/k\n",
    "avg_precision_score = sum(pre_score)/k\n",
    "avg_f1_score = sum(f_score)/k\n",
    "\n",
    "sensitivity = avg_recall_score\n",
    "precision = avg_precision_score\n",
    "accuracy = avg_acc_score\n",
    "f1_score = avg_f1_score\n"
   ]
  },
  {
   "cell_type": "code",
   "execution_count": 77,
   "metadata": {},
   "outputs": [
    {
     "name": "stdout",
     "output_type": "stream",
     "text": [
      "Avg accuracy : 0.007355292612727854\n",
      "Avg Reccall : 0.2\n",
      "Avg Precision : 0.0014710585225455707\n",
      "Avg F1_score : 0.0029206349206349204\n"
     ]
    }
   ],
   "source": [
    "#print('accuracy of each fold - {}'.format(acc_score))\n",
    "print('Avg accuracy : {}'.format(avg_acc_score))\n",
    "#print('Recall of each fold - {}'.format(re_score))\n",
    "print('Avg Reccall : {}'.format(avg_recall_score))\n",
    "#print('Precision of each fold - {}'.format(pre_score))\n",
    "print('Avg Precision : {}'.format(avg_precision_score))\n",
    "#print('F1_Score of each fold - {}'.format(f_score))\n",
    "print('Avg F1_score : {}'.format(avg_f1_score))"
   ]
  },
  {
   "cell_type": "code",
   "execution_count": 78,
   "metadata": {},
   "outputs": [
    {
     "data": {
      "image/png": "[encoded data removed]",
      "text/plain": [
       "<Figure size 432x288 with 2 Axes>"
      ]
     },
     "metadata": {
      "needs_background": "light"
     },
     "output_type": "display_data"
    },
    {
     "data": {
      "text/plain": [
       "array([0., 0., 0., 1., 0.])"
      ]
     },
     "execution_count": 78,
     "metadata": {},
     "output_type": "execute_result"
    }
   ],
   "source": [
    "from sklearn.metrics import confusion_matrix, ConfusionMatrixDisplay\n",
    "matrix = matrix2 = confusion_matrix(y_test_classes, y_pred_classes)\n",
    "cm_display = ConfusionMatrixDisplay(confusion_matrix = matrix2)\n",
    "cm_display.plot()\n",
    "plt.show()\n",
    "matrix.diagonal()/matrix.sum(axis=1)"
   ]
  },
  {
   "cell_type": "code",
   "execution_count": 79,
   "metadata": {},
   "outputs": [],
   "source": [
    "Accuracies = matrix.diagonal()/matrix.sum(axis=1)\n",
    "\n",
    "Less3 = Accuracies[0]\n",
    "Greater3 = Accuracies[1]"
   ]
  },
  {
   "cell_type": "code",
   "execution_count": 80,
   "metadata": {},
   "outputs": [
    {
     "data": {
      "image/png": "[encoded data removed]",
      "text/plain": [
       "<Figure size 432x288 with 1 Axes>"
      ]
     },
     "metadata": {
      "needs_background": "light"
     },
     "output_type": "display_data"
    }
   ],
   "source": [
    "# Plot the accuracy of the model during training\n",
    "\n",
    "#plt.plot()\n",
    "plt.plot(history.history['loss'])\n",
    "plt.plot(history.history['val_loss'])\n",
    "plt.title('Model Loss')\n",
    "plt.ylabel('Loss')\n",
    "plt.xlabel('Epoch')\n",
    "plt.legend(['Training', 'Validation'], loc='upper left')\n",
    "plt.show()"
   ]
  },
  {
   "cell_type": "code",
   "execution_count": 81,
   "metadata": {},
   "outputs": [
    {
     "data": {
      "image/png": "[encoded data removed]",
      "text/plain": [
       "<Figure size 432x288 with 1 Axes>"
      ]
     },
     "metadata": {
      "needs_background": "light"
     },
     "output_type": "display_data"
    }
   ],
   "source": [
    "# Plot the accuracy of the model during training\n",
    "\n",
    "#plt.plot()\n",
    "plt.plot(history.history['accuracy'])\n",
    "plt.plot(history.history['val_accuracy'])\n",
    "plt.title('Model Accuracy')\n",
    "plt.ylabel('Validation Accuracy')\n",
    "plt.xlabel('Epoch')\n",
    "plt.legend(['Training', 'Validation'], loc='upper left')\n",
    "plt.show()"
   ]
  },
  {
   "cell_type": "code",
   "execution_count": 82,
   "metadata": {},
   "outputs": [],
   "source": [
    "Accuracies = matrix.diagonal()/matrix.sum(axis=1)\n",
    "\n",
    "accuracy = (Greater3+Less3)/2"
   ]
  },
  {
   "cell_type": "code",
   "execution_count": 83,
   "metadata": {},
   "outputs": [],
   "source": [
    "import csv\n",
    "import os.path\n",
    "from datetime import datetime\n",
    "\n",
    "csv_columns = ['model-type','precision','sensitivity','f1-score','accuracy','NumberOfWindows','Epochs','Run_Time','Restriction','Acc_Lesser','Acc_Greater']\n",
    "dict_data = [{'model-type':'LSTM', 'precision': precision,'sensitivity': sensitivity,'f1-score': f1_score,'accuracy': accuracy,'NumberOfWindows':numberOfWindows,\"Epochs\":ep,'Restriction' : Restriction,'Acc_Lesser':Less3,'Acc_Greater':Greater3}]\n",
    "metric_file = \"Results_Apr3/mitbih_LSTM_1.csv\"\n",
    "\n",
    "file_exists = os.path.isfile(metric_file)\n",
    "try:\n",
    "    with open(metric_file, 'a') as csvfile:\n",
    "        writer = csv.DictWriter(csvfile, fieldnames=csv_columns)\n",
    "        if not file_exists:\n",
    "            writer.writeheader()\n",
    "        for data in dict_data:\n",
    "            writer.writerow(data)\n",
    "except IOError:\n",
    "    print(\"I/O error\")"
   ]
  }
 ],
 "metadata": {
  "kernelspec": {
   "display_name": "Python 3",
   "language": "python",
   "name": "python3"
  },
  "language_info": {
   "codemirror_mode": {
    "name": "ipython",
    "version": 3
   },
   "file_extension": ".py",
   "mimetype": "text/x-python",
   "name": "python",
   "nbconvert_exporter": "python",
   "pygments_lexer": "ipython3",
   "version": "3.9.10"
  },
  "orig_nbformat": 4,
  "vscode": {
   "interpreter": {
    "hash": "9f3ba9e726005c067fbc0eaab20e31f21cd7f7e132fec231b7dd4c5a2981fed5"
   }
  }
 },
 "nbformat": 4,
 "nbformat_minor": 2
}
