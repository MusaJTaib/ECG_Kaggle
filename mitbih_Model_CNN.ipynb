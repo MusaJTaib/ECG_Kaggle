{
 "cells": [
  {
   "cell_type": "code",
   "execution_count": 1,
   "metadata": {},
   "outputs": [],
   "source": [
    "import pandas as pd\n",
    "from tensorflow import keras\n",
    "from imblearn.over_sampling import RandomOverSampler\n",
    "from imblearn.under_sampling import RandomUnderSampler\n",
    "from sklearn.model_selection import cross_val_score\n",
    "from sklearn.model_selection import train_test_split\n",
    "from sklearn.linear_model import LogisticRegression\n",
    "import matplotlib.pyplot as plt\n",
    "from tslearn.clustering import KShape\n",
    "import numpy as np\n",
    "from sklearn import tree"
   ]
  },
  {
   "cell_type": "code",
   "execution_count": 2,
   "metadata": {},
   "outputs": [],
   "source": [
    "Restriction = '3-SD'\n",
    "numberOfFeatures2 = numberOfWindows = 22\n",
    "ep = 175\n",
    "ep_es = 25"
   ]
  },
  {
   "cell_type": "code",
   "execution_count": 3,
   "metadata": {},
   "outputs": [],
   "source": [
    "FeatureSetB1 = pd.read_csv('Windows/mitbih_22Ws.csv')\n",
    "FeatureSetB1.drop(\"Unnamed: 0\",axis=1,inplace = True)\n",
    "FeatureSetB1 = FeatureSetB1.drop('index', axis=1)\n",
    "tree = tree.DecisionTreeClassifier()"
   ]
  },
  {
   "cell_type": "code",
   "execution_count": 4,
   "metadata": {},
   "outputs": [],
   "source": [
    "FeatureSetB2 = FeatureSetB1.sample(frac=1)"
   ]
  },
  {
   "cell_type": "code",
   "execution_count": 5,
   "metadata": {},
   "outputs": [],
   "source": [
    "import pandas as pd\n",
    "import numpy as np\n",
    "\n",
    "B_class_0 = FeatureSetB2[FeatureSetB2['Class'] == 0]\n",
    "B_class_1 = FeatureSetB2[FeatureSetB2['Class'] == 1]\n",
    "B_class_2 = FeatureSetB2[FeatureSetB2['Class'] == 2]\n",
    "B_class_3 = FeatureSetB2[FeatureSetB2['Class'] == 3]\n",
    "B_class_4 = FeatureSetB2[FeatureSetB2['Class'] == 4]\n",
    "\n",
    "\n",
    "# Calculate the Z-scores for each feature\n",
    "z_score_0 = (B_class_0 - B_class_0.mean()) / B_class_0.std()\n",
    "z_score_1 = (B_class_1 - B_class_1.mean()) / B_class_1.std()\n",
    "z_score_2 = (B_class_2 - B_class_2.mean()) / B_class_2.std()\n",
    "z_score_3 = (B_class_3 - B_class_3.mean()) / B_class_3.std()\n",
    "z_score_4 = (B_class_4 - B_class_4.mean()) / B_class_4.std()\n",
    "\n",
    "# Set a threshold for the Z-score\n",
    "threshold_0 = 2\n",
    "threshold_1 = 2.75\n",
    "threshold_2 = 2.75\n",
    "threshold_3 = 2.75\n",
    "threshold_4 = 2.75\n",
    "\n",
    "# Identify the outliers based on the threshold\n",
    "outliers_0 = np.abs(z_score_0) > threshold_0\n",
    "outliers_1 = np.abs(z_score_1) > threshold_1\n",
    "outliers_2 = np.abs(z_score_2) > threshold_2\n",
    "outliers_3 = np.abs(z_score_3) > threshold_3\n",
    "outliers_4 = np.abs(z_score_4) > threshold_4\n",
    "\n",
    "# Remove the outliers from the dataset\n",
    "B_class_0 = B_class_0[~outliers_0.any(axis=1)]\n",
    "B_class_1 = B_class_1[~outliers_1.any(axis=1)]\n",
    "B_class_2 = B_class_2[~outliers_2.any(axis=1)]\n",
    "B_class_3 = B_class_3[~outliers_3.any(axis=1)]\n",
    "B_class_4 = B_class_4[~outliers_4.any(axis=1)]\n",
    "\n",
    "# Split the dataset into two classes and perform clustering as described in the previous answer\n",
    "merged_df = pd.concat([B_class_0,B_class_1,B_class_2,B_class_3,B_class_4])\n",
    "merged_df = merged_df.sample(frac=1)"
   ]
  },
  {
   "cell_type": "code",
   "execution_count": 6,
   "metadata": {},
   "outputs": [],
   "source": [
    "X = FeatureSetB2.iloc[:, :-2]\n",
    "y = FeatureSetB2[['Class']]"
   ]
  },
  {
   "cell_type": "code",
   "execution_count": 7,
   "metadata": {},
   "outputs": [],
   "source": [
    "# Calculate the number of samples in the majority class\n",
    "sampling_strategy = {1: 20000, 2: 20000, 3: 20000, 4:20000}\n",
    "\n",
    "ros = RandomOverSampler(sampling_strategy=sampling_strategy)\n",
    "ros2 = RandomUnderSampler(sampling_strategy= {0:40000})\n",
    "\n",
    "# X,y = ros.fit_resample(X,y)\n",
    "# x,y = ros2.fit_resample(X,y)"
   ]
  },
  {
   "cell_type": "code",
   "execution_count": 8,
   "metadata": {},
   "outputs": [],
   "source": [
    "X_train1, X_test, y_train1, y_test = train_test_split(X,y, test_size=0.2, random_state=1, stratify=y, shuffle=True)\n",
    "\n",
    "X_train1,y_train1 = ros.fit_resample(X_train1,y_train1)\n",
    "x,y = ros2.fit_resample(X_train1,y_train1)\n",
    "\n",
    "X_train2, X_val, y_train2, y_val = train_test_split(x,y, test_size=0.2, random_state=1, stratify=y, shuffle=True)\n"
   ]
  },
  {
   "cell_type": "code",
   "execution_count": null,
   "metadata": {},
   "outputs": [],
   "source": []
  },
  {
   "attachments": {},
   "cell_type": "markdown",
   "metadata": {},
   "source": [
    "Rye - Artificial Neural Network "
   ]
  },
  {
   "cell_type": "code",
   "execution_count": 9,
   "metadata": {},
   "outputs": [],
   "source": [
    "import keras\n",
    "from keras.models import Sequential\n",
    "from keras.layers import Dense, Dropout,Flatten, Activation\n",
    "from sklearn import metrics\n",
    "from keras.layers import LSTM\n",
    "import tensorflow as tf\n",
    "import sys\n",
    "mod=sys.modules[__name__]"
   ]
  },
  {
   "cell_type": "code",
   "execution_count": 10,
   "metadata": {},
   "outputs": [],
   "source": [
    "import numpy as np\n",
    "from sklearn.metrics import f1_score\n",
    "from sklearn.metrics import precision_score\n",
    "from sklearn.metrics import recall_score\n",
    "from sklearn.preprocessing import OneHotEncoder\n",
    "from sklearn.metrics import accuracy_score\n",
    "from tensorflow.keras.utils import to_categorical\n",
    "from sklearn import preprocessing\n",
    "from tensorflow.keras.models import Sequential\n",
    "from tensorflow.keras.layers import Conv1D, Dense, MaxPooling1D, Flatten\n",
    "from tensorflow.keras.optimizers import Adam\n",
    "from sklearn.model_selection import train_test_split\n",
    "from tensorflow.keras.layers import BatchNormalization\n",
    "from sklearn.utils import class_weight\n",
    "\n",
    "import warnings\n",
    "warnings.filterwarnings(\"ignore\")\n",
    "\n",
    "from sklearn import preprocessing\n",
    "from sklearn.preprocessing import LabelEncoder\n",
    "from sklearn.utils import class_weight\n",
    "\n",
    "stop_early = tf.keras.callbacks.EarlyStopping(monitor='val_loss', patience = ep_es, mode='min',restore_best_weights=True)\n",
    "\n",
    "acc_score = []\n",
    "re_score = []\n",
    "pre_score = []\n",
    "history_1 = []\n",
    "f_score = []\n",
    "auroc_score = []\n",
    "auprc_score = []"
   ]
  },
  {
   "cell_type": "code",
   "execution_count": 11,
   "metadata": {},
   "outputs": [
    {
     "name": "stderr",
     "output_type": "stream",
     "text": [
      "2023-04-06 01:44:20.663770: I tensorflow/core/common_runtime/pluggable_device/pluggable_device_factory.cc:305] Could not identify NUMA node of platform GPU ID 0, defaulting to 0. Your kernel may not have been built with NUMA support.\n",
      "2023-04-06 01:44:20.663882: I tensorflow/core/common_runtime/pluggable_device/pluggable_device_factory.cc:271] Created TensorFlow device (/job:localhost/replica:0/task:0/device:GPU:0 with 0 MB memory) -> physical PluggableDevice (device: 0, name: METAL, pci bus id: <undefined>)\n"
     ]
    },
    {
     "name": "stdout",
     "output_type": "stream",
     "text": [
      "Metal device set to: Apple M1 Pro\n",
      "\n",
      "systemMemory: 16.00 GB\n",
      "maxCacheSize: 5.33 GB\n",
      "\n",
      "Epoch 1/175\n"
     ]
    },
    {
     "name": "stderr",
     "output_type": "stream",
     "text": [
      "2023-04-06 01:44:20.873685: W tensorflow/core/platform/profile_utils/cpu_utils.cc:128] Failed to get CPU frequency: 0 Hz\n",
      "2023-04-06 01:44:21.355070: I tensorflow/core/grappler/optimizers/custom_graph_optimizer_registry.cc:113] Plugin optimizer for device_type GPU is enabled.\n"
     ]
    },
    {
     "name": "stdout",
     "output_type": "stream",
     "text": [
      "94/94 [==============================] - ETA: 0s - loss: 1.2271 - accuracy: 0.5094"
     ]
    },
    {
     "name": "stderr",
     "output_type": "stream",
     "text": [
      "2023-04-06 01:44:24.830981: I tensorflow/core/grappler/optimizers/custom_graph_optimizer_registry.cc:113] Plugin optimizer for device_type GPU is enabled.\n"
     ]
    },
    {
     "name": "stdout",
     "output_type": "stream",
     "text": [
      "94/94 [==============================] - 4s 29ms/step - loss: 1.2271 - accuracy: 0.5094 - val_loss: 2.4935 - val_accuracy: 0.3333\n",
      "Epoch 2/175\n",
      "94/94 [==============================] - 2s 24ms/step - loss: 0.8961 - accuracy: 0.6626 - val_loss: 3.5980 - val_accuracy: 0.3333\n",
      "Epoch 3/175\n",
      "94/94 [==============================] - 2s 24ms/step - loss: 0.7312 - accuracy: 0.7311 - val_loss: 2.7756 - val_accuracy: 0.3333\n",
      "Epoch 4/175\n",
      "94/94 [==============================] - 2s 25ms/step - loss: 0.6664 - accuracy: 0.7483 - val_loss: 2.6731 - val_accuracy: 0.3419\n",
      "Epoch 5/175\n",
      "94/94 [==============================] - 3s 28ms/step - loss: 0.6183 - accuracy: 0.7729 - val_loss: 1.8303 - val_accuracy: 0.4936\n",
      "Epoch 6/175\n",
      "94/94 [==============================] - 2s 25ms/step - loss: 0.5747 - accuracy: 0.7911 - val_loss: 0.7239 - val_accuracy: 0.7739\n",
      "Epoch 7/175\n",
      "94/94 [==============================] - 3s 26ms/step - loss: 0.5569 - accuracy: 0.7987 - val_loss: 2.4588 - val_accuracy: 0.4983\n",
      "Epoch 8/175\n",
      "94/94 [==============================] - 3s 27ms/step - loss: 0.5473 - accuracy: 0.8062 - val_loss: 2.3184 - val_accuracy: 0.5571\n",
      "Epoch 9/175\n",
      "94/94 [==============================] - 2s 26ms/step - loss: 0.5239 - accuracy: 0.8148 - val_loss: 0.7422 - val_accuracy: 0.7586\n",
      "Epoch 10/175\n",
      "94/94 [==============================] - 3s 30ms/step - loss: 0.5044 - accuracy: 0.8233 - val_loss: 0.9194 - val_accuracy: 0.7301\n",
      "Epoch 11/175\n",
      "94/94 [==============================] - 3s 27ms/step - loss: 0.4937 - accuracy: 0.8285 - val_loss: 2.0443 - val_accuracy: 0.5805\n",
      "Epoch 12/175\n",
      "94/94 [==============================] - 2s 26ms/step - loss: 0.4900 - accuracy: 0.8307 - val_loss: 0.5827 - val_accuracy: 0.8105\n",
      "Epoch 13/175\n",
      "94/94 [==============================] - 3s 28ms/step - loss: 0.4782 - accuracy: 0.8353 - val_loss: 1.1189 - val_accuracy: 0.6974\n",
      "Epoch 14/175\n",
      "94/94 [==============================] - 3s 28ms/step - loss: 0.4691 - accuracy: 0.8384 - val_loss: 0.6663 - val_accuracy: 0.8072\n",
      "Epoch 15/175\n",
      "94/94 [==============================] - 2s 24ms/step - loss: 0.4587 - accuracy: 0.8414 - val_loss: 0.3291 - val_accuracy: 0.8772\n",
      "Epoch 16/175\n",
      "94/94 [==============================] - 2s 23ms/step - loss: 0.4589 - accuracy: 0.8400 - val_loss: 0.5618 - val_accuracy: 0.8310\n",
      "Epoch 17/175\n",
      "94/94 [==============================] - 2s 23ms/step - loss: 0.4538 - accuracy: 0.8442 - val_loss: 0.6969 - val_accuracy: 0.8215\n",
      "Epoch 18/175\n",
      "94/94 [==============================] - 2s 24ms/step - loss: 0.4464 - accuracy: 0.8465 - val_loss: 0.4811 - val_accuracy: 0.8192\n",
      "Epoch 19/175\n",
      "94/94 [==============================] - 2s 23ms/step - loss: 0.4433 - accuracy: 0.8465 - val_loss: 0.4662 - val_accuracy: 0.8383\n",
      "Epoch 20/175\n",
      "94/94 [==============================] - 2s 22ms/step - loss: 0.4276 - accuracy: 0.8533 - val_loss: 0.3840 - val_accuracy: 0.8735\n",
      "Epoch 21/175\n",
      "94/94 [==============================] - 2s 23ms/step - loss: 0.4212 - accuracy: 0.8551 - val_loss: 0.3771 - val_accuracy: 0.8623\n",
      "Epoch 22/175\n",
      "94/94 [==============================] - 2s 22ms/step - loss: 0.4221 - accuracy: 0.8547 - val_loss: 0.6939 - val_accuracy: 0.7991\n",
      "Epoch 23/175\n",
      "94/94 [==============================] - 2s 22ms/step - loss: 0.4241 - accuracy: 0.8544 - val_loss: 0.4747 - val_accuracy: 0.8226\n",
      "Epoch 24/175\n",
      "94/94 [==============================] - 2s 22ms/step - loss: 0.4288 - accuracy: 0.8513 - val_loss: 0.4269 - val_accuracy: 0.8653\n",
      "Epoch 25/175\n",
      "94/94 [==============================] - 2s 22ms/step - loss: 0.4241 - accuracy: 0.8535 - val_loss: 0.9011 - val_accuracy: 0.7875\n",
      "Epoch 26/175\n",
      "94/94 [==============================] - 2s 22ms/step - loss: 0.4084 - accuracy: 0.8602 - val_loss: 0.6177 - val_accuracy: 0.8421\n",
      "Epoch 27/175\n",
      "94/94 [==============================] - 2s 23ms/step - loss: 0.4143 - accuracy: 0.8575 - val_loss: 0.7603 - val_accuracy: 0.8062\n",
      "Epoch 28/175\n",
      "94/94 [==============================] - 2s 22ms/step - loss: 0.4126 - accuracy: 0.8597 - val_loss: 0.4404 - val_accuracy: 0.8464\n",
      "Epoch 29/175\n",
      "94/94 [==============================] - 2s 21ms/step - loss: 0.4011 - accuracy: 0.8639 - val_loss: 0.4059 - val_accuracy: 0.8485\n",
      "Epoch 30/175\n",
      "94/94 [==============================] - 2s 21ms/step - loss: 0.3928 - accuracy: 0.8663 - val_loss: 0.9225 - val_accuracy: 0.7817\n",
      "Epoch 31/175\n",
      "94/94 [==============================] - 2s 21ms/step - loss: 0.3990 - accuracy: 0.8638 - val_loss: 0.3667 - val_accuracy: 0.8872\n",
      "Epoch 32/175\n",
      "94/94 [==============================] - 2s 21ms/step - loss: 0.3840 - accuracy: 0.8684 - val_loss: 0.6622 - val_accuracy: 0.7782\n",
      "Epoch 33/175\n",
      "94/94 [==============================] - 2s 21ms/step - loss: 0.3965 - accuracy: 0.8645 - val_loss: 0.3667 - val_accuracy: 0.8766\n",
      "Epoch 34/175\n",
      "94/94 [==============================] - 2s 21ms/step - loss: 0.3985 - accuracy: 0.8634 - val_loss: 0.8773 - val_accuracy: 0.7788\n",
      "Epoch 35/175\n",
      "94/94 [==============================] - 2s 21ms/step - loss: 0.3903 - accuracy: 0.8668 - val_loss: 0.3355 - val_accuracy: 0.8765\n",
      "Epoch 36/175\n",
      "94/94 [==============================] - 2s 21ms/step - loss: 0.3896 - accuracy: 0.8680 - val_loss: 0.6667 - val_accuracy: 0.7897\n",
      "Epoch 37/175\n",
      "94/94 [==============================] - 2s 21ms/step - loss: 0.3883 - accuracy: 0.8679 - val_loss: 0.2966 - val_accuracy: 0.8947\n",
      "Epoch 38/175\n",
      "94/94 [==============================] - 2s 22ms/step - loss: 0.3800 - accuracy: 0.8695 - val_loss: 0.3313 - val_accuracy: 0.8827\n",
      "Epoch 39/175\n",
      "94/94 [==============================] - 2s 21ms/step - loss: 0.3734 - accuracy: 0.8729 - val_loss: 0.4209 - val_accuracy: 0.8709\n",
      "Epoch 40/175\n",
      "94/94 [==============================] - 2s 22ms/step - loss: 0.3792 - accuracy: 0.8719 - val_loss: 0.3166 - val_accuracy: 0.8920\n",
      "Epoch 41/175\n",
      "94/94 [==============================] - 2s 22ms/step - loss: 0.3738 - accuracy: 0.8719 - val_loss: 0.3489 - val_accuracy: 0.8748\n",
      "Epoch 42/175\n",
      "94/94 [==============================] - 2s 21ms/step - loss: 0.3699 - accuracy: 0.8740 - val_loss: 0.6973 - val_accuracy: 0.7770\n",
      "Epoch 43/175\n",
      "94/94 [==============================] - 2s 22ms/step - loss: 0.3739 - accuracy: 0.8702 - val_loss: 0.9774 - val_accuracy: 0.7607\n",
      "Epoch 44/175\n",
      "94/94 [==============================] - 2s 21ms/step - loss: 0.3692 - accuracy: 0.8734 - val_loss: 0.3168 - val_accuracy: 0.8818\n",
      "Epoch 45/175\n",
      "94/94 [==============================] - 2s 21ms/step - loss: 0.3639 - accuracy: 0.8750 - val_loss: 0.3263 - val_accuracy: 0.8938\n",
      "Epoch 46/175\n",
      "94/94 [==============================] - 2s 22ms/step - loss: 0.3599 - accuracy: 0.8772 - val_loss: 0.2883 - val_accuracy: 0.8932\n",
      "Epoch 47/175\n",
      "94/94 [==============================] - 2s 21ms/step - loss: 0.3681 - accuracy: 0.8732 - val_loss: 0.4278 - val_accuracy: 0.8642\n",
      "Epoch 48/175\n",
      "94/94 [==============================] - 2s 21ms/step - loss: 0.3678 - accuracy: 0.8736 - val_loss: 0.5135 - val_accuracy: 0.8545\n",
      "Epoch 49/175\n",
      "94/94 [==============================] - 2s 21ms/step - loss: 0.3661 - accuracy: 0.8737 - val_loss: 0.3764 - val_accuracy: 0.8677\n",
      "Epoch 50/175\n",
      "94/94 [==============================] - 2s 21ms/step - loss: 0.3656 - accuracy: 0.8729 - val_loss: 0.2873 - val_accuracy: 0.8983\n",
      "Epoch 51/175\n",
      "94/94 [==============================] - 2s 22ms/step - loss: 0.3579 - accuracy: 0.8775 - val_loss: 0.3051 - val_accuracy: 0.8912\n",
      "Epoch 52/175\n",
      "94/94 [==============================] - 2s 21ms/step - loss: 0.3625 - accuracy: 0.8751 - val_loss: 0.5108 - val_accuracy: 0.8338\n",
      "Epoch 53/175\n",
      "94/94 [==============================] - 2s 21ms/step - loss: 0.3594 - accuracy: 0.8753 - val_loss: 0.3052 - val_accuracy: 0.8980\n",
      "Epoch 54/175\n",
      "94/94 [==============================] - 2s 21ms/step - loss: 0.3554 - accuracy: 0.8765 - val_loss: 0.4106 - val_accuracy: 0.8537\n",
      "Epoch 55/175\n",
      "94/94 [==============================] - 2s 22ms/step - loss: 0.3613 - accuracy: 0.8765 - val_loss: 0.3295 - val_accuracy: 0.8960\n",
      "Epoch 56/175\n",
      "94/94 [==============================] - 2s 21ms/step - loss: 0.3547 - accuracy: 0.8790 - val_loss: 0.6103 - val_accuracy: 0.8143\n",
      "Epoch 57/175\n",
      "94/94 [==============================] - 2s 21ms/step - loss: 0.3514 - accuracy: 0.8792 - val_loss: 0.2679 - val_accuracy: 0.9050\n",
      "Epoch 58/175\n",
      "94/94 [==============================] - 2s 21ms/step - loss: 0.3491 - accuracy: 0.8816 - val_loss: 0.3692 - val_accuracy: 0.8748\n",
      "Epoch 59/175\n",
      "94/94 [==============================] - 2s 21ms/step - loss: 0.3475 - accuracy: 0.8803 - val_loss: 0.2739 - val_accuracy: 0.8980\n",
      "Epoch 60/175\n",
      "94/94 [==============================] - 2s 22ms/step - loss: 0.3511 - accuracy: 0.8792 - val_loss: 0.3705 - val_accuracy: 0.8707\n",
      "Epoch 61/175\n",
      "94/94 [==============================] - 2s 21ms/step - loss: 0.3427 - accuracy: 0.8840 - val_loss: 0.4217 - val_accuracy: 0.8736\n",
      "Epoch 62/175\n",
      "94/94 [==============================] - 2s 22ms/step - loss: 0.3440 - accuracy: 0.8828 - val_loss: 0.3372 - val_accuracy: 0.8875\n",
      "Epoch 63/175\n",
      "94/94 [==============================] - 2s 21ms/step - loss: 0.3513 - accuracy: 0.8797 - val_loss: 0.2866 - val_accuracy: 0.9013\n",
      "Epoch 64/175\n",
      "94/94 [==============================] - 2s 22ms/step - loss: 0.3444 - accuracy: 0.8825 - val_loss: 0.9085 - val_accuracy: 0.8350\n",
      "Epoch 65/175\n",
      "94/94 [==============================] - 2s 21ms/step - loss: 0.3484 - accuracy: 0.8814 - val_loss: 0.6356 - val_accuracy: 0.7900\n",
      "Epoch 66/175\n",
      "94/94 [==============================] - 2s 21ms/step - loss: 0.3426 - accuracy: 0.8814 - val_loss: 0.4314 - val_accuracy: 0.8699\n",
      "Epoch 67/175\n",
      "94/94 [==============================] - 2s 21ms/step - loss: 0.3456 - accuracy: 0.8821 - val_loss: 0.4269 - val_accuracy: 0.8765\n",
      "Epoch 68/175\n",
      "94/94 [==============================] - 2s 21ms/step - loss: 0.3428 - accuracy: 0.8819 - val_loss: 0.2774 - val_accuracy: 0.9067\n",
      "Epoch 69/175\n",
      "94/94 [==============================] - 2s 22ms/step - loss: 0.3402 - accuracy: 0.8834 - val_loss: 0.4080 - val_accuracy: 0.8905\n",
      "Epoch 70/175\n",
      "94/94 [==============================] - 2s 21ms/step - loss: 0.3433 - accuracy: 0.8814 - val_loss: 0.3440 - val_accuracy: 0.8915\n",
      "Epoch 71/175\n",
      "94/94 [==============================] - 2s 21ms/step - loss: 0.3321 - accuracy: 0.8859 - val_loss: 0.2644 - val_accuracy: 0.9132\n",
      "Epoch 72/175\n",
      "94/94 [==============================] - 2s 22ms/step - loss: 0.3391 - accuracy: 0.8839 - val_loss: 0.4825 - val_accuracy: 0.8362\n",
      "Epoch 73/175\n",
      "94/94 [==============================] - 2s 22ms/step - loss: 0.3445 - accuracy: 0.8818 - val_loss: 0.3636 - val_accuracy: 0.8762\n",
      "Epoch 74/175\n",
      "94/94 [==============================] - 2s 22ms/step - loss: 0.3330 - accuracy: 0.8859 - val_loss: 0.3723 - val_accuracy: 0.8766\n",
      "Epoch 75/175\n",
      "94/94 [==============================] - 2s 21ms/step - loss: 0.3405 - accuracy: 0.8829 - val_loss: 0.7711 - val_accuracy: 0.7906\n",
      "Epoch 76/175\n",
      "94/94 [==============================] - 2s 22ms/step - loss: 0.3338 - accuracy: 0.8850 - val_loss: 0.4556 - val_accuracy: 0.8610\n",
      "Epoch 77/175\n",
      "94/94 [==============================] - 2s 22ms/step - loss: 0.3261 - accuracy: 0.8872 - val_loss: 0.5742 - val_accuracy: 0.8530\n",
      "Epoch 78/175\n",
      "94/94 [==============================] - 2s 21ms/step - loss: 0.3354 - accuracy: 0.8844 - val_loss: 0.3601 - val_accuracy: 0.8837\n",
      "Epoch 79/175\n",
      "94/94 [==============================] - 2s 22ms/step - loss: 0.3321 - accuracy: 0.8856 - val_loss: 0.2640 - val_accuracy: 0.9136\n",
      "Epoch 80/175\n",
      "94/94 [==============================] - 2s 22ms/step - loss: 0.3346 - accuracy: 0.8850 - val_loss: 0.3740 - val_accuracy: 0.8750\n",
      "Epoch 81/175\n",
      "94/94 [==============================] - 2s 21ms/step - loss: 0.3366 - accuracy: 0.8839 - val_loss: 0.4681 - val_accuracy: 0.8571\n",
      "Epoch 82/175\n",
      "94/94 [==============================] - 2s 22ms/step - loss: 0.3254 - accuracy: 0.8891 - val_loss: 0.2876 - val_accuracy: 0.8997\n",
      "Epoch 83/175\n",
      "94/94 [==============================] - 2s 21ms/step - loss: 0.3344 - accuracy: 0.8862 - val_loss: 0.3093 - val_accuracy: 0.8979\n",
      "Epoch 84/175\n",
      "94/94 [==============================] - 2s 22ms/step - loss: 0.3353 - accuracy: 0.8852 - val_loss: 0.5537 - val_accuracy: 0.8423\n",
      "Epoch 85/175\n",
      "94/94 [==============================] - 2s 22ms/step - loss: 0.3286 - accuracy: 0.8873 - val_loss: 0.2552 - val_accuracy: 0.9119\n",
      "Epoch 86/175\n",
      "94/94 [==============================] - 2s 21ms/step - loss: 0.3177 - accuracy: 0.8917 - val_loss: 0.3264 - val_accuracy: 0.8944\n",
      "Epoch 87/175\n",
      "94/94 [==============================] - 2s 21ms/step - loss: 0.3278 - accuracy: 0.8875 - val_loss: 0.3661 - val_accuracy: 0.8804\n",
      "Epoch 88/175\n",
      "94/94 [==============================] - 2s 22ms/step - loss: 0.3274 - accuracy: 0.8880 - val_loss: 0.3157 - val_accuracy: 0.8876\n",
      "Epoch 89/175\n",
      "94/94 [==============================] - 2s 22ms/step - loss: 0.3305 - accuracy: 0.8878 - val_loss: 0.8926 - val_accuracy: 0.7533\n",
      "Epoch 90/175\n",
      "94/94 [==============================] - 2s 22ms/step - loss: 0.3227 - accuracy: 0.8902 - val_loss: 0.4163 - val_accuracy: 0.8714\n",
      "Epoch 91/175\n",
      "94/94 [==============================] - 2s 22ms/step - loss: 0.3240 - accuracy: 0.8892 - val_loss: 0.3662 - val_accuracy: 0.8651\n",
      "Epoch 92/175\n",
      "94/94 [==============================] - 2s 21ms/step - loss: 0.3290 - accuracy: 0.8877 - val_loss: 0.2415 - val_accuracy: 0.9168\n",
      "Epoch 93/175\n",
      "94/94 [==============================] - 2s 22ms/step - loss: 0.3251 - accuracy: 0.8896 - val_loss: 0.2522 - val_accuracy: 0.9160\n",
      "Epoch 94/175\n",
      "94/94 [==============================] - 2s 22ms/step - loss: 0.3222 - accuracy: 0.8910 - val_loss: 0.2587 - val_accuracy: 0.9176\n",
      "Epoch 95/175\n",
      "94/94 [==============================] - 2s 22ms/step - loss: 0.3276 - accuracy: 0.8889 - val_loss: 0.3109 - val_accuracy: 0.8930\n",
      "Epoch 96/175\n",
      "94/94 [==============================] - 2s 22ms/step - loss: 0.3241 - accuracy: 0.8881 - val_loss: 0.7667 - val_accuracy: 0.7917\n",
      "Epoch 97/175\n",
      "94/94 [==============================] - 2s 22ms/step - loss: 0.3190 - accuracy: 0.8917 - val_loss: 0.4749 - val_accuracy: 0.8557\n",
      "Epoch 98/175\n",
      "94/94 [==============================] - 2s 22ms/step - loss: 0.3237 - accuracy: 0.8902 - val_loss: 0.4165 - val_accuracy: 0.8789\n",
      "Epoch 99/175\n",
      "94/94 [==============================] - 2s 21ms/step - loss: 0.3214 - accuracy: 0.8905 - val_loss: 0.2492 - val_accuracy: 0.9132\n",
      "Epoch 100/175\n",
      "94/94 [==============================] - 2s 22ms/step - loss: 0.3256 - accuracy: 0.8897 - val_loss: 0.3398 - val_accuracy: 0.8857\n",
      "Epoch 101/175\n",
      "94/94 [==============================] - 2s 22ms/step - loss: 0.3316 - accuracy: 0.8856 - val_loss: 0.4314 - val_accuracy: 0.8692\n",
      "Epoch 102/175\n",
      "94/94 [==============================] - 2s 22ms/step - loss: 0.3222 - accuracy: 0.8900 - val_loss: 0.2404 - val_accuracy: 0.9151\n",
      "Epoch 103/175\n",
      "94/94 [==============================] - 2s 22ms/step - loss: 0.3191 - accuracy: 0.8906 - val_loss: 0.2527 - val_accuracy: 0.9170\n",
      "Epoch 104/175\n",
      "94/94 [==============================] - 2s 22ms/step - loss: 0.3261 - accuracy: 0.8873 - val_loss: 0.3150 - val_accuracy: 0.9048\n",
      "Epoch 105/175\n",
      "94/94 [==============================] - 2s 22ms/step - loss: 0.3192 - accuracy: 0.8913 - val_loss: 0.3192 - val_accuracy: 0.8846\n",
      "Epoch 106/175\n",
      "94/94 [==============================] - 2s 22ms/step - loss: 0.3208 - accuracy: 0.8919 - val_loss: 0.6106 - val_accuracy: 0.8329\n",
      "Epoch 107/175\n",
      "94/94 [==============================] - 2s 22ms/step - loss: 0.3165 - accuracy: 0.8940 - val_loss: 0.2448 - val_accuracy: 0.9173\n",
      "Epoch 108/175\n",
      "94/94 [==============================] - 2s 21ms/step - loss: 0.3194 - accuracy: 0.8912 - val_loss: 0.2943 - val_accuracy: 0.9071\n",
      "Epoch 109/175\n",
      "94/94 [==============================] - 2s 21ms/step - loss: 0.3266 - accuracy: 0.8887 - val_loss: 0.3311 - val_accuracy: 0.8944\n",
      "Epoch 110/175\n",
      "94/94 [==============================] - 2s 22ms/step - loss: 0.3190 - accuracy: 0.8919 - val_loss: 0.3573 - val_accuracy: 0.8915\n",
      "Epoch 111/175\n",
      "94/94 [==============================] - 2s 22ms/step - loss: 0.3211 - accuracy: 0.8918 - val_loss: 0.2855 - val_accuracy: 0.9016\n",
      "Epoch 112/175\n",
      "94/94 [==============================] - 2s 22ms/step - loss: 0.3151 - accuracy: 0.8930 - val_loss: 0.7561 - val_accuracy: 0.8411\n",
      "Epoch 113/175\n",
      "94/94 [==============================] - 2s 22ms/step - loss: 0.3253 - accuracy: 0.8885 - val_loss: 0.2595 - val_accuracy: 0.9167\n",
      "Epoch 114/175\n",
      "94/94 [==============================] - 2s 22ms/step - loss: 0.3141 - accuracy: 0.8927 - val_loss: 0.3250 - val_accuracy: 0.8903\n",
      "Epoch 115/175\n",
      "94/94 [==============================] - 2s 22ms/step - loss: 0.3199 - accuracy: 0.8895 - val_loss: 0.2785 - val_accuracy: 0.9059\n",
      "Epoch 116/175\n",
      "94/94 [==============================] - 2s 22ms/step - loss: 0.3126 - accuracy: 0.8941 - val_loss: 0.3015 - val_accuracy: 0.9028\n",
      "Epoch 117/175\n",
      "94/94 [==============================] - 2s 22ms/step - loss: 0.3225 - accuracy: 0.8918 - val_loss: 0.2300 - val_accuracy: 0.9194\n",
      "Epoch 118/175\n",
      "94/94 [==============================] - 2s 22ms/step - loss: 0.3147 - accuracy: 0.8930 - val_loss: 0.8965 - val_accuracy: 0.8061\n",
      "Epoch 119/175\n",
      "94/94 [==============================] - 2s 22ms/step - loss: 0.3257 - accuracy: 0.8890 - val_loss: 0.5909 - val_accuracy: 0.8399\n",
      "Epoch 120/175\n",
      "94/94 [==============================] - 2s 21ms/step - loss: 0.3075 - accuracy: 0.8953 - val_loss: 0.4003 - val_accuracy: 0.8751\n",
      "Epoch 121/175\n",
      "94/94 [==============================] - 2s 22ms/step - loss: 0.3177 - accuracy: 0.8914 - val_loss: 0.2858 - val_accuracy: 0.9058\n",
      "Epoch 122/175\n",
      "94/94 [==============================] - 2s 21ms/step - loss: 0.3117 - accuracy: 0.8953 - val_loss: 0.2670 - val_accuracy: 0.9050\n",
      "Epoch 123/175\n",
      "94/94 [==============================] - 2s 22ms/step - loss: 0.3124 - accuracy: 0.8942 - val_loss: 0.3227 - val_accuracy: 0.8995\n",
      "Epoch 124/175\n",
      "94/94 [==============================] - 2s 22ms/step - loss: 0.3161 - accuracy: 0.8922 - val_loss: 0.2940 - val_accuracy: 0.9105\n",
      "Epoch 125/175\n",
      "94/94 [==============================] - 2s 22ms/step - loss: 0.3197 - accuracy: 0.8910 - val_loss: 0.8448 - val_accuracy: 0.8088\n",
      "Epoch 126/175\n",
      "94/94 [==============================] - 2s 21ms/step - loss: 0.3081 - accuracy: 0.8964 - val_loss: 2.1600 - val_accuracy: 0.7023\n",
      "Epoch 127/175\n",
      "94/94 [==============================] - 2s 21ms/step - loss: 0.3160 - accuracy: 0.8934 - val_loss: 0.3551 - val_accuracy: 0.8795\n",
      "Epoch 128/175\n",
      "94/94 [==============================] - 2s 22ms/step - loss: 0.3121 - accuracy: 0.8926 - val_loss: 0.4321 - val_accuracy: 0.8779\n",
      "Epoch 129/175\n",
      "94/94 [==============================] - 2s 21ms/step - loss: 0.3109 - accuracy: 0.8947 - val_loss: 0.3475 - val_accuracy: 0.8966\n",
      "Epoch 130/175\n",
      "94/94 [==============================] - 2s 22ms/step - loss: 0.3146 - accuracy: 0.8933 - val_loss: 0.2839 - val_accuracy: 0.9057\n",
      "Epoch 131/175\n",
      "94/94 [==============================] - 2s 22ms/step - loss: 0.3169 - accuracy: 0.8941 - val_loss: 0.2350 - val_accuracy: 0.9214\n",
      "Epoch 132/175\n",
      "94/94 [==============================] - 2s 22ms/step - loss: 0.3079 - accuracy: 0.8950 - val_loss: 0.2733 - val_accuracy: 0.9128\n",
      "Epoch 133/175\n",
      "94/94 [==============================] - 2s 21ms/step - loss: 0.3149 - accuracy: 0.8934 - val_loss: 0.2609 - val_accuracy: 0.9154\n",
      "Epoch 134/175\n",
      "94/94 [==============================] - 2s 21ms/step - loss: 0.3114 - accuracy: 0.8941 - val_loss: 0.2638 - val_accuracy: 0.9194\n",
      "Epoch 135/175\n",
      "94/94 [==============================] - 2s 22ms/step - loss: 0.3131 - accuracy: 0.8938 - val_loss: 0.2605 - val_accuracy: 0.9137\n",
      "Epoch 136/175\n",
      "94/94 [==============================] - 2s 21ms/step - loss: 0.3153 - accuracy: 0.8939 - val_loss: 0.2855 - val_accuracy: 0.8950\n",
      "Epoch 137/175\n",
      "94/94 [==============================] - 2s 22ms/step - loss: 0.3037 - accuracy: 0.8956 - val_loss: 0.2376 - val_accuracy: 0.9190\n",
      "Epoch 138/175\n",
      "94/94 [==============================] - 2s 22ms/step - loss: 0.3048 - accuracy: 0.8980 - val_loss: 0.3828 - val_accuracy: 0.8916\n",
      "Epoch 139/175\n",
      "94/94 [==============================] - 2s 22ms/step - loss: 0.3050 - accuracy: 0.8972 - val_loss: 0.4805 - val_accuracy: 0.8540\n",
      "Epoch 140/175\n",
      "94/94 [==============================] - 2s 21ms/step - loss: 0.3095 - accuracy: 0.8946 - val_loss: 0.4891 - val_accuracy: 0.8725\n",
      "Epoch 141/175\n",
      "94/94 [==============================] - 2s 21ms/step - loss: 0.3134 - accuracy: 0.8932 - val_loss: 0.2755 - val_accuracy: 0.9094\n",
      "Epoch 142/175\n",
      "94/94 [==============================] - 2s 22ms/step - loss: 0.3102 - accuracy: 0.8952 - val_loss: 0.2987 - val_accuracy: 0.9091\n"
     ]
    }
   ],
   "source": [
    "model = Sequential()\n",
    "model.add(Conv1D(64, 3, activation='relu', input_shape=(numberOfFeatures2, 1)))\n",
    "model.add(BatchNormalization())\n",
    "model.add(MaxPooling1D(2))\n",
    "\n",
    "model.add(Conv1D(64, 3, activation='relu'))\n",
    "model.add(BatchNormalization())\n",
    "model.add(MaxPooling1D(2))\n",
    "\n",
    "model.add(Flatten())\n",
    "model.add(Dense(numberOfFeatures2))\n",
    "model.add(Dropout(0.5))\n",
    "model.add(Activation('relu'))\n",
    "\n",
    "model.add(Dense(5, activation='softmax'))\n",
    "opt = tf.keras.optimizers.Adam(learning_rate=0.045)#, decay=1e-3) #If validation is not following training in trend then the learning rate might be too high\n",
    "model.compile(loss='categorical_crossentropy', optimizer=opt, metrics=['accuracy'])#focal_loss_custom(alpha=0.2, gamma=2) #'binary_crossentropy'#focal_loss_custom(alpha=0.25, gamma=2)\n",
    "\n",
    "\n",
    "#scaler = preprocessing.StandardScaler().fit(X_train)\n",
    "#scaler = preprocessing.RobustScaler().fit(X_train)\n",
    "#scaler =  preprocessing.MinMaxScaler().fit(X_train)\n",
    "scaler = preprocessing.Normalizer().fit(X_train2)\n",
    "\n",
    "X_train4 = scaler.transform(X_train2)\n",
    "X_test4 = scaler.transform(X_test)\n",
    "X_val4 = scaler.transform(X_val)\n",
    "\n",
    "y_train2 = to_categorical(y_train2)\n",
    "y_test = to_categorical(y_test)\n",
    "y_val = to_categorical(y_val)\n",
    "\n",
    "\n",
    "history = model.fit(X_train4,y_train2, epochs = ep,batch_size=1024,validation_data=(X_val4, y_val), callbacks=[stop_early],shuffle=True)"
   ]
  },
  {
   "cell_type": "code",
   "execution_count": 12,
   "metadata": {},
   "outputs": [
    {
     "name": "stderr",
     "output_type": "stream",
     "text": [
      "2023-04-06 01:49:18.561646: I tensorflow/core/grappler/optimizers/custom_graph_optimizer_registry.cc:113] Plugin optimizer for device_type GPU is enabled.\n"
     ]
    }
   ],
   "source": [
    "# Make predictions on test data\n",
    "y_pred = model.predict(X_test4)\n",
    "\n",
    "# Convert probabilities to one-hot encoded vectors\n",
    "y_pred_classes = np.argmax(y_pred, axis=1)\n",
    "y_test_classes = np.argmax(y_test, axis=1)"
   ]
  },
  {
   "cell_type": "code",
   "execution_count": 13,
   "metadata": {},
   "outputs": [],
   "source": [
    "# Calculate F1 score macro and Precision macro\n",
    "f1_value = f1_score(y_test_classes, y_pred_classes, average='macro')\n",
    "precision = precision_score(y_test_classes, y_pred_classes, average='macro')\n",
    "sensitivity = recall_score(y_test_classes, y_pred_classes,average='macro')#,pos_label = 1, average='binary')\n",
    "accuracy = accuracy_score(y_test_classes, y_pred_classes)\n",
    "\n",
    "acc_score.append(accuracy)\n",
    "re_score.append(sensitivity)\n",
    "pre_score.append(precision)\n",
    "f_score.append(f1_value)\n",
    "\n",
    "k = 1 \n",
    "\n",
    "avg_acc_score = sum(acc_score)/k\n",
    "avg_recall_score = sum(re_score)/k\n",
    "avg_precision_score = sum(pre_score)/k\n",
    "avg_f1_score = sum(f_score)/k\n",
    "\n",
    "sensitivity = avg_recall_score\n",
    "precision = avg_precision_score\n",
    "accuracy = avg_acc_score\n",
    "f1_score = avg_f1_score\n"
   ]
  },
  {
   "cell_type": "code",
   "execution_count": 14,
   "metadata": {},
   "outputs": [
    {
     "name": "stdout",
     "output_type": "stream",
     "text": [
      "Avg accuracy : 0.933254145918041\n",
      "Avg Reccall : 0.8648342711298287\n",
      "Avg Precision : 0.725231891241932\n",
      "Avg F1_score : 0.7487065596018055\n"
     ]
    }
   ],
   "source": [
    "#print('accuracy of each fold - {}'.format(acc_score))\n",
    "print('Avg accuracy : {}'.format(avg_acc_score))\n",
    "#print('Recall of each fold - {}'.format(re_score))\n",
    "print('Avg Reccall : {}'.format(avg_recall_score))\n",
    "#print('Precision of each fold - {}'.format(pre_score))\n",
    "print('Avg Precision : {}'.format(avg_precision_score))\n",
    "#print('F1_Score of each fold - {}'.format(f_score))\n",
    "print('Avg F1_score : {}'.format(avg_f1_score))"
   ]
  },
  {
   "cell_type": "code",
   "execution_count": 15,
   "metadata": {},
   "outputs": [
    {
     "data": {
      "image/png": "[encoded data removed]",
      "text/plain": [
       "<Figure size 432x288 with 2 Axes>"
      ]
     },
     "metadata": {
      "needs_background": "light"
     },
     "output_type": "display_data"
    },
    {
     "data": {
      "text/plain": [
       "array([0.94336811, 0.74280576, 0.87284036, 0.8136646 , 0.95149254])"
      ]
     },
     "execution_count": 15,
     "metadata": {},
     "output_type": "execute_result"
    }
   ],
   "source": [
    "from sklearn.metrics import confusion_matrix, ConfusionMatrixDisplay\n",
    "matrix = matrix2 = confusion_matrix(y_test_classes, y_pred_classes)\n",
    "cm_display = ConfusionMatrixDisplay(confusion_matrix = matrix2)\n",
    "cm_display.plot()\n",
    "plt.show()\n",
    "matrix.diagonal()/matrix.sum(axis=1)"
   ]
  },
  {
   "cell_type": "code",
   "execution_count": 16,
   "metadata": {},
   "outputs": [],
   "source": [
    "Accuracies = matrix.diagonal()/matrix.sum(axis=1)\n",
    "\n",
    "Less3 = Accuracies[0]\n",
    "Greater3 = Accuracies[1]"
   ]
  },
  {
   "cell_type": "code",
   "execution_count": 17,
   "metadata": {},
   "outputs": [
    {
     "data": {
      "image/png": "[encoded data removed]",
      "text/plain": [
       "<Figure size 432x288 with 1 Axes>"
      ]
     },
     "metadata": {
      "needs_background": "light"
     },
     "output_type": "display_data"
    }
   ],
   "source": [
    "# Plot the accuracy of the model during training\n",
    "\n",
    "#plt.plot()\n",
    "plt.plot(history.history['loss'])\n",
    "plt.plot(history.history['val_loss'])\n",
    "plt.title('Model Loss')\n",
    "plt.ylabel('Loss')\n",
    "plt.xlabel('Epoch')\n",
    "plt.legend(['Training', 'Validation'], loc='upper left')\n",
    "plt.show()"
   ]
  },
  {
   "cell_type": "code",
   "execution_count": 18,
   "metadata": {},
   "outputs": [
    {
     "data": {
      "image/png": "[encoded data removed]",
      "text/plain": [
       "<Figure size 432x288 with 1 Axes>"
      ]
     },
     "metadata": {
      "needs_background": "light"
     },
     "output_type": "display_data"
    }
   ],
   "source": [
    "# Plot the accuracy of the model during training\n",
    "\n",
    "#plt.plot()\n",
    "plt.plot(history.history['accuracy'])\n",
    "plt.plot(history.history['val_accuracy'])\n",
    "plt.title('Model Accuracy')\n",
    "plt.ylabel('Validation Accuracy')\n",
    "plt.xlabel('Epoch')\n",
    "plt.legend(['Training', 'Validation'], loc='upper left')\n",
    "plt.show()"
   ]
  },
  {
   "cell_type": "code",
   "execution_count": 19,
   "metadata": {},
   "outputs": [],
   "source": [
    "Accuracies = matrix.diagonal()/matrix.sum(axis=1)\n",
    "\n",
    "accuracy = (Greater3+Less3)/2"
   ]
  },
  {
   "cell_type": "code",
   "execution_count": 20,
   "metadata": {},
   "outputs": [],
   "source": [
    "import csv\n",
    "import os.path\n",
    "from datetime import datetime\n",
    "\n",
    "csv_columns = ['model-type','precision','sensitivity','f1-score','accuracy','NumberOfWindows','Epochs','Run_Time','Restriction','Acc_Lesser','Acc_Greater']\n",
    "dict_data = [{'model-type':'CNN', 'precision': precision,'sensitivity': sensitivity,'f1-score': f1_score,'accuracy': accuracy,'NumberOfWindows':numberOfWindows,\"Epochs\":ep,'Restriction' : Restriction,'Acc_Lesser':Less3,'Acc_Greater':Greater3}]\n",
    "metric_file = \"Results_Apr3/mitbih_CNN_1.csv\"\n",
    "\n",
    "file_exists = os.path.isfile(metric_file)\n",
    "try:\n",
    "    with open(metric_file, 'a') as csvfile:\n",
    "        writer = csv.DictWriter(csvfile, fieldnames=csv_columns)\n",
    "        if not file_exists:\n",
    "            writer.writeheader()\n",
    "        for data in dict_data:\n",
    "            writer.writerow(data)\n",
    "except IOError:\n",
    "    print(\"I/O error\")"
   ]
  }
 ],
 "metadata": {
  "kernelspec": {
   "display_name": "Python 3",
   "language": "python",
   "name": "python3"
  },
  "language_info": {
   "codemirror_mode": {
    "name": "ipython",
    "version": 3
   },
   "file_extension": ".py",
   "mimetype": "text/x-python",
   "name": "python",
   "nbconvert_exporter": "python",
   "pygments_lexer": "ipython3",
   "version": "3.9.10"
  },
  "orig_nbformat": 4,
  "vscode": {
   "interpreter": {
    "hash": "9f3ba9e726005c067fbc0eaab20e31f21cd7f7e132fec231b7dd4c5a2981fed5"
   }
  }
 },
 "nbformat": 4,
 "nbformat_minor": 2
}
