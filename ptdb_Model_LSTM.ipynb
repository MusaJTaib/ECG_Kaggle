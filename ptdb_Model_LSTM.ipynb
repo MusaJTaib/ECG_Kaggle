{
 "cells": [
  {
   "cell_type": "code",
   "execution_count": 493,
   "metadata": {},
   "outputs": [],
   "source": [
    "import pandas as pd\n",
    "from imblearn.over_sampling import RandomOverSampler\n",
    "from imblearn.under_sampling import RandomUnderSampler\n",
    "from sklearn.model_selection import cross_val_score\n",
    "from sklearn.model_selection import train_test_split\n",
    "from sklearn.ensemble import GradientBoostingClassifier\n",
    "from sklearn.linear_model import LogisticRegression\n",
    "import matplotlib.pyplot as plt\n",
    "from tslearn.clustering import KShape\n",
    "import numpy as np\n",
    "from sklearn import tree"
   ]
  },
  {
   "cell_type": "code",
   "execution_count": 494,
   "metadata": {},
   "outputs": [],
   "source": [
    "Restriction = '3-SD'\n",
    "numberOfFeatures2 = numberOfWindows = 187\n",
    "ep = 200\n",
    "ep_es = 35"
   ]
  },
  {
   "cell_type": "code",
   "execution_count": 495,
   "metadata": {},
   "outputs": [],
   "source": [
    "FeatureSetB1 = pd.read_csv('Windows/ptdb_187Ws.csv')\n",
    "FeatureSetB1.drop(\"Unnamed: 0\",axis=1,inplace = True)\n",
    "FeatureSetB1 = FeatureSetB1.drop('index', axis=1)\n",
    "tree = tree.DecisionTreeClassifier()\n",
    "gbc = GradientBoostingClassifier(random_state=0)"
   ]
  },
  {
   "cell_type": "code",
   "execution_count": 496,
   "metadata": {},
   "outputs": [],
   "source": [
    "FeatureSetB2 = FeatureSetB1.sample(frac=1)\n",
    "FeatureSetB3 = FeatureSetB2.iloc[:, :-2]"
   ]
  },
  {
   "cell_type": "code",
   "execution_count": 497,
   "metadata": {},
   "outputs": [],
   "source": [
    "import pandas as pd\n",
    "import numpy as np\n",
    "\n",
    "B_class_0 = FeatureSetB3[FeatureSetB2['Class'] == 0]\n",
    "B_class_1 = FeatureSetB3[FeatureSetB2['Class'] == 1]\n",
    "\n",
    "B_class_F0 = FeatureSetB2[FeatureSetB2['Class'] == 0]\n",
    "B_class_F1 = FeatureSetB2[FeatureSetB2['Class'] == 1]\n",
    "\n",
    "\n",
    "# Calculate the Z-scores for each feature\n",
    "z_score_0 = (B_class_0 - B_class_0.mean()) / B_class_0.std()\n",
    "z_score_1 = (B_class_1 - B_class_1.mean()) / B_class_1.std()\n",
    "\n",
    "# Set a threshold for the Z-score\n",
    "threshold_0 = 2.5\n",
    "threshold_1 = 2.5\n",
    "\n",
    "# Identify the outliers based on the threshold\n",
    "outliers_0 = np.abs(z_score_0) > threshold_0\n",
    "outliers_1 = np.abs(z_score_1) > threshold_1\n",
    "\n",
    "# Remove the outliers from the dataset\n",
    "B_class_F0 = B_class_F0[~outliers_0.any(axis=1)]\n",
    "B_class_F1 = B_class_F1[~outliers_1.any(axis=1)]\n",
    "\n",
    "# Split the dataset into two classes and perform clustering as described in the previous answer\n",
    "merged_df = pd.concat([B_class_F1, B_class_F0])\n",
    "merged_df = merged_df.sample(frac=1)"
   ]
  },
  {
   "cell_type": "code",
   "execution_count": 498,
   "metadata": {},
   "outputs": [],
   "source": [
    "X = merged_df.iloc[:, :-2]\n",
    "y = merged_df[['Class']]"
   ]
  },
  {
   "cell_type": "code",
   "execution_count": 499,
   "metadata": {},
   "outputs": [],
   "source": [
    "ros = RandomOverSampler(random_state=0,sampling_strategy=0.5)"
   ]
  },
  {
   "cell_type": "code",
   "execution_count": 500,
   "metadata": {},
   "outputs": [],
   "source": [
    "X_train1, X_test, y_train1, y_test = train_test_split(X,y, test_size=0.2, random_state=1, stratify=y, shuffle=True)\n",
    "\n",
    "x,y = ros.fit_resample(X_train1,y_train1)\n",
    "\n",
    "X_train2, X_val, y_train2, y_val = train_test_split(x,y, test_size=0.2, random_state=1, stratify=y, shuffle=True)"
   ]
  },
  {
   "attachments": {},
   "cell_type": "markdown",
   "metadata": {},
   "source": [
    "Rye - Artificial Neural Network "
   ]
  },
  {
   "cell_type": "code",
   "execution_count": 501,
   "metadata": {},
   "outputs": [],
   "source": [
    "import keras\n",
    "from keras.models import Sequential\n",
    "from keras.layers import Dense, Dropout,Flatten, Activation\n",
    "from sklearn import metrics\n",
    "from keras.layers import LSTM\n",
    "import tensorflow as tf\n",
    "import sys\n",
    "mod=sys.modules[__name__]"
   ]
  },
  {
   "cell_type": "code",
   "execution_count": 502,
   "metadata": {},
   "outputs": [],
   "source": [
    "import numpy as np\n",
    "from sklearn.metrics import f1_score\n",
    "from sklearn.metrics import precision_score\n",
    "from sklearn.metrics import recall_score\n",
    "from sklearn.preprocessing import OneHotEncoder\n",
    "from sklearn.metrics import accuracy_score\n",
    "from tensorflow.keras.utils import to_categorical\n",
    "from sklearn import preprocessing\n",
    "from tensorflow.keras.models import Sequential\n",
    "from tensorflow.keras.layers import Conv1D, Dense, MaxPooling1D, Flatten\n",
    "from tensorflow.keras.optimizers import Adam\n",
    "from sklearn.model_selection import train_test_split\n",
    "from tensorflow.keras.layers import BatchNormalization\n",
    "from sklearn.utils import class_weight"
   ]
  },
  {
   "cell_type": "code",
   "execution_count": 503,
   "metadata": {},
   "outputs": [],
   "source": [
    "import numpy as np\n",
    "from sklearn.metrics import f1_score\n",
    "from sklearn.metrics import precision_score\n",
    "from sklearn.metrics import recall_score\n",
    "from sklearn.preprocessing import OneHotEncoder\n",
    "from sklearn.metrics import accuracy_score\n",
    "from tensorflow.keras.utils import to_categorical\n",
    "from sklearn import tree\n",
    "\n",
    "import warnings\n",
    "warnings.filterwarnings(\"ignore\")\n",
    "\n",
    "from sklearn import preprocessing\n",
    "from sklearn.preprocessing import LabelEncoder\n",
    "from sklearn.utils import class_weight\n",
    "tree = tree.DecisionTreeClassifier()\n",
    "\n",
    "acc_score = []\n",
    "re_score = []\n",
    "pre_score = []\n",
    "history_1 = []\n",
    "f_score = []\n",
    "auroc_score = []\n",
    "auprc_score = []"
   ]
  },
  {
   "cell_type": "code",
   "execution_count": 504,
   "metadata": {},
   "outputs": [],
   "source": [
    "stop_early = tf.keras.callbacks.EarlyStopping(monitor='val_loss', patience = ep_es, mode='min',restore_best_weights=True)"
   ]
  },
  {
   "cell_type": "code",
   "execution_count": 505,
   "metadata": {},
   "outputs": [
    {
     "name": "stdout",
     "output_type": "stream",
     "text": [
      "Model: \"sequential_24\"\n",
      "_________________________________________________________________\n",
      " Layer (type)                Output Shape              Param #   \n",
      "=================================================================\n",
      " lstm_24 (LSTM)              (None, 64)                16896     \n",
      "                                                                 \n",
      " dense_50 (Dense)            (None, 32)                2080      \n",
      "                                                                 \n",
      " dropout_20 (Dropout)        (None, 32)                0         \n",
      "                                                                 \n",
      " dense_51 (Dense)            (None, 1)                 33        \n",
      "                                                                 \n",
      "=================================================================\n",
      "Total params: 19,009\n",
      "Trainable params: 19,009\n",
      "Non-trainable params: 0\n",
      "_________________________________________________________________\n",
      "Epoch 1/200\n"
     ]
    },
    {
     "name": "stderr",
     "output_type": "stream",
     "text": [
      "2023-04-06 02:00:05.114987: I tensorflow/core/grappler/optimizers/custom_graph_optimizer_registry.cc:113] Plugin optimizer for device_type GPU is enabled.\n",
      "2023-04-06 02:00:05.382362: I tensorflow/core/grappler/optimizers/custom_graph_optimizer_registry.cc:113] Plugin optimizer for device_type GPU is enabled.\n",
      "2023-04-06 02:00:05.949286: I tensorflow/core/grappler/optimizers/custom_graph_optimizer_registry.cc:113] Plugin optimizer for device_type GPU is enabled.\n"
     ]
    },
    {
     "name": "stdout",
     "output_type": "stream",
     "text": [
      "5/5 [==============================] - ETA: 0s - loss: 0.6927 - accuracy: 0.5077"
     ]
    },
    {
     "name": "stderr",
     "output_type": "stream",
     "text": [
      "2023-04-06 02:00:08.220596: I tensorflow/core/grappler/optimizers/custom_graph_optimizer_registry.cc:113] Plugin optimizer for device_type GPU is enabled.\n",
      "2023-04-06 02:00:08.306179: I tensorflow/core/grappler/optimizers/custom_graph_optimizer_registry.cc:113] Plugin optimizer for device_type GPU is enabled.\n"
     ]
    },
    {
     "name": "stdout",
     "output_type": "stream",
     "text": [
      "5/5 [==============================] - 5s 586ms/step - loss: 0.6927 - accuracy: 0.5077 - val_loss: 0.6914 - val_accuracy: 0.6644\n",
      "Epoch 2/200\n",
      "5/5 [==============================] - 1s 116ms/step - loss: 0.6907 - accuracy: 0.6672 - val_loss: 0.6892 - val_accuracy: 0.6644\n",
      "Epoch 3/200\n",
      "5/5 [==============================] - 0s 85ms/step - loss: 0.6881 - accuracy: 0.6672 - val_loss: 0.6863 - val_accuracy: 0.6644\n",
      "Epoch 4/200\n",
      "5/5 [==============================] - 0s 92ms/step - loss: 0.6847 - accuracy: 0.6672 - val_loss: 0.6820 - val_accuracy: 0.6644\n",
      "Epoch 5/200\n",
      "5/5 [==============================] - 0s 72ms/step - loss: 0.6794 - accuracy: 0.6672 - val_loss: 0.6749 - val_accuracy: 0.6644\n",
      "Epoch 6/200\n",
      "5/5 [==============================] - 0s 69ms/step - loss: 0.6703 - accuracy: 0.6672 - val_loss: 0.6586 - val_accuracy: 0.6644\n",
      "Epoch 7/200\n",
      "5/5 [==============================] - 0s 80ms/step - loss: 0.6428 - accuracy: 0.6672 - val_loss: 0.6486 - val_accuracy: 0.6644\n",
      "Epoch 8/200\n",
      "5/5 [==============================] - 0s 73ms/step - loss: 0.6499 - accuracy: 0.6672 - val_loss: 0.6420 - val_accuracy: 0.6644\n",
      "Epoch 9/200\n",
      "5/5 [==============================] - 0s 68ms/step - loss: 0.6395 - accuracy: 0.6672 - val_loss: 0.6402 - val_accuracy: 0.6644\n",
      "Epoch 10/200\n",
      "5/5 [==============================] - 0s 68ms/step - loss: 0.6413 - accuracy: 0.6672 - val_loss: 0.6406 - val_accuracy: 0.6644\n",
      "Epoch 11/200\n",
      "5/5 [==============================] - 0s 68ms/step - loss: 0.6373 - accuracy: 0.6672 - val_loss: 0.6386 - val_accuracy: 0.6644\n",
      "Epoch 12/200\n",
      "5/5 [==============================] - 0s 62ms/step - loss: 0.6355 - accuracy: 0.6672 - val_loss: 0.6380 - val_accuracy: 0.6644\n",
      "Epoch 13/200\n",
      "5/5 [==============================] - 0s 62ms/step - loss: 0.6351 - accuracy: 0.6672 - val_loss: 0.6384 - val_accuracy: 0.6644\n",
      "Epoch 14/200\n",
      "5/5 [==============================] - 0s 64ms/step - loss: 0.6386 - accuracy: 0.6672 - val_loss: 0.6386 - val_accuracy: 0.6644\n",
      "Epoch 15/200\n",
      "5/5 [==============================] - 0s 62ms/step - loss: 0.6384 - accuracy: 0.6672 - val_loss: 0.6381 - val_accuracy: 0.6644\n",
      "Epoch 16/200\n",
      "5/5 [==============================] - 0s 66ms/step - loss: 0.6369 - accuracy: 0.6672 - val_loss: 0.6387 - val_accuracy: 0.6644\n",
      "Epoch 17/200\n",
      "5/5 [==============================] - 0s 65ms/step - loss: 0.6366 - accuracy: 0.6672 - val_loss: 0.6381 - val_accuracy: 0.6644\n",
      "Epoch 18/200\n",
      "5/5 [==============================] - 0s 63ms/step - loss: 0.6355 - accuracy: 0.6672 - val_loss: 0.6380 - val_accuracy: 0.6644\n",
      "Epoch 19/200\n",
      "5/5 [==============================] - 0s 63ms/step - loss: 0.6370 - accuracy: 0.6672 - val_loss: 0.6379 - val_accuracy: 0.6644\n",
      "Epoch 20/200\n",
      "5/5 [==============================] - 0s 63ms/step - loss: 0.6360 - accuracy: 0.6672 - val_loss: 0.6385 - val_accuracy: 0.6644\n",
      "Epoch 21/200\n",
      "5/5 [==============================] - 0s 61ms/step - loss: 0.6402 - accuracy: 0.6672 - val_loss: 0.6381 - val_accuracy: 0.6644\n",
      "Epoch 22/200\n",
      "5/5 [==============================] - 0s 61ms/step - loss: 0.6345 - accuracy: 0.6672 - val_loss: 0.6380 - val_accuracy: 0.6644\n",
      "Epoch 23/200\n",
      "5/5 [==============================] - 0s 61ms/step - loss: 0.6369 - accuracy: 0.6672 - val_loss: 0.6379 - val_accuracy: 0.6644\n",
      "Epoch 24/200\n",
      "5/5 [==============================] - 0s 68ms/step - loss: 0.6373 - accuracy: 0.6672 - val_loss: 0.6378 - val_accuracy: 0.6644\n",
      "Epoch 25/200\n",
      "5/5 [==============================] - 0s 61ms/step - loss: 0.6371 - accuracy: 0.6672 - val_loss: 0.6378 - val_accuracy: 0.6644\n",
      "Epoch 26/200\n",
      "5/5 [==============================] - 0s 60ms/step - loss: 0.6365 - accuracy: 0.6672 - val_loss: 0.6379 - val_accuracy: 0.6644\n",
      "Epoch 27/200\n",
      "5/5 [==============================] - 0s 61ms/step - loss: 0.6371 - accuracy: 0.6672 - val_loss: 0.6379 - val_accuracy: 0.6644\n",
      "Epoch 28/200\n",
      "5/5 [==============================] - 0s 62ms/step - loss: 0.6393 - accuracy: 0.6672 - val_loss: 0.6379 - val_accuracy: 0.6644\n",
      "Epoch 29/200\n",
      "5/5 [==============================] - 0s 63ms/step - loss: 0.6370 - accuracy: 0.6672 - val_loss: 0.6377 - val_accuracy: 0.6644\n",
      "Epoch 30/200\n",
      "5/5 [==============================] - 0s 70ms/step - loss: 0.6373 - accuracy: 0.6672 - val_loss: 0.6378 - val_accuracy: 0.6644\n",
      "Epoch 31/200\n",
      "5/5 [==============================] - 0s 67ms/step - loss: 0.6355 - accuracy: 0.6672 - val_loss: 0.6377 - val_accuracy: 0.6644\n",
      "Epoch 32/200\n",
      "5/5 [==============================] - 0s 66ms/step - loss: 0.6358 - accuracy: 0.6672 - val_loss: 0.6378 - val_accuracy: 0.6644\n",
      "Epoch 33/200\n",
      "5/5 [==============================] - 0s 68ms/step - loss: 0.6377 - accuracy: 0.6672 - val_loss: 0.6376 - val_accuracy: 0.6644\n",
      "Epoch 34/200\n",
      "5/5 [==============================] - 0s 63ms/step - loss: 0.6369 - accuracy: 0.6672 - val_loss: 0.6375 - val_accuracy: 0.6644\n",
      "Epoch 35/200\n",
      "5/5 [==============================] - 0s 63ms/step - loss: 0.6373 - accuracy: 0.6672 - val_loss: 0.6375 - val_accuracy: 0.6644\n",
      "Epoch 36/200\n",
      "5/5 [==============================] - 0s 69ms/step - loss: 0.6357 - accuracy: 0.6672 - val_loss: 0.6374 - val_accuracy: 0.6644\n",
      "Epoch 37/200\n",
      "5/5 [==============================] - 0s 68ms/step - loss: 0.6370 - accuracy: 0.6672 - val_loss: 0.6373 - val_accuracy: 0.6644\n",
      "Epoch 38/200\n",
      "5/5 [==============================] - 0s 66ms/step - loss: 0.6379 - accuracy: 0.6672 - val_loss: 0.6371 - val_accuracy: 0.6644\n",
      "Epoch 39/200\n",
      "5/5 [==============================] - 0s 65ms/step - loss: 0.6360 - accuracy: 0.6672 - val_loss: 0.6372 - val_accuracy: 0.6644\n",
      "Epoch 40/200\n",
      "5/5 [==============================] - 0s 64ms/step - loss: 0.6334 - accuracy: 0.6672 - val_loss: 0.6369 - val_accuracy: 0.6644\n",
      "Epoch 41/200\n",
      "5/5 [==============================] - 0s 63ms/step - loss: 0.6336 - accuracy: 0.6672 - val_loss: 0.6366 - val_accuracy: 0.6644\n",
      "Epoch 42/200\n",
      "5/5 [==============================] - 0s 68ms/step - loss: 0.6359 - accuracy: 0.6672 - val_loss: 0.6362 - val_accuracy: 0.6644\n",
      "Epoch 43/200\n",
      "5/5 [==============================] - 0s 67ms/step - loss: 0.6381 - accuracy: 0.6672 - val_loss: 0.6363 - val_accuracy: 0.6644\n",
      "Epoch 44/200\n",
      "5/5 [==============================] - 0s 66ms/step - loss: 0.6339 - accuracy: 0.6672 - val_loss: 0.6349 - val_accuracy: 0.6644\n",
      "Epoch 45/200\n",
      "5/5 [==============================] - 0s 65ms/step - loss: 0.6317 - accuracy: 0.6672 - val_loss: 0.6336 - val_accuracy: 0.6644\n",
      "Epoch 46/200\n",
      "5/5 [==============================] - 0s 64ms/step - loss: 0.6284 - accuracy: 0.6672 - val_loss: 0.6303 - val_accuracy: 0.6644\n",
      "Epoch 47/200\n",
      "5/5 [==============================] - 0s 64ms/step - loss: 0.6289 - accuracy: 0.6672 - val_loss: 0.6232 - val_accuracy: 0.6644\n",
      "Epoch 48/200\n",
      "5/5 [==============================] - 0s 63ms/step - loss: 0.6203 - accuracy: 0.6672 - val_loss: 0.6039 - val_accuracy: 0.6644\n",
      "Epoch 49/200\n",
      "5/5 [==============================] - 0s 63ms/step - loss: 0.5852 - accuracy: 0.6672 - val_loss: 0.5622 - val_accuracy: 0.6644\n",
      "Epoch 50/200\n",
      "5/5 [==============================] - 0s 64ms/step - loss: 0.5317 - accuracy: 0.6672 - val_loss: 0.4863 - val_accuracy: 0.6644\n",
      "Epoch 51/200\n",
      "5/5 [==============================] - 0s 63ms/step - loss: 0.4646 - accuracy: 0.6758 - val_loss: 0.4302 - val_accuracy: 0.6712\n",
      "Epoch 52/200\n",
      "5/5 [==============================] - 0s 62ms/step - loss: 0.4538 - accuracy: 0.6930 - val_loss: 0.4351 - val_accuracy: 0.6712\n",
      "Epoch 53/200\n",
      "5/5 [==============================] - 0s 62ms/step - loss: 0.4264 - accuracy: 0.7033 - val_loss: 0.4285 - val_accuracy: 0.6712\n",
      "Epoch 54/200\n",
      "5/5 [==============================] - 0s 63ms/step - loss: 0.4071 - accuracy: 0.7033 - val_loss: 0.4108 - val_accuracy: 0.6849\n",
      "Epoch 55/200\n",
      "5/5 [==============================] - 0s 62ms/step - loss: 0.3907 - accuracy: 0.7118 - val_loss: 0.3775 - val_accuracy: 0.7329\n",
      "Epoch 56/200\n",
      "5/5 [==============================] - 0s 63ms/step - loss: 0.3875 - accuracy: 0.7684 - val_loss: 0.3774 - val_accuracy: 0.7329\n",
      "Epoch 57/200\n",
      "5/5 [==============================] - 0s 63ms/step - loss: 0.3811 - accuracy: 0.7650 - val_loss: 0.3844 - val_accuracy: 0.7329\n",
      "Epoch 58/200\n",
      "5/5 [==============================] - 0s 62ms/step - loss: 0.3997 - accuracy: 0.7890 - val_loss: 0.4173 - val_accuracy: 0.6918\n",
      "Epoch 59/200\n",
      "5/5 [==============================] - 0s 67ms/step - loss: 0.4128 - accuracy: 0.7599 - val_loss: 0.3523 - val_accuracy: 0.7329\n",
      "Epoch 60/200\n",
      "5/5 [==============================] - 0s 61ms/step - loss: 0.3683 - accuracy: 0.7599 - val_loss: 0.3714 - val_accuracy: 0.7260\n",
      "Epoch 61/200\n",
      "5/5 [==============================] - 0s 63ms/step - loss: 0.3617 - accuracy: 0.7410 - val_loss: 0.4067 - val_accuracy: 0.8425\n",
      "Epoch 62/200\n",
      "5/5 [==============================] - 0s 66ms/step - loss: 0.5127 - accuracy: 0.8062 - val_loss: 0.3822 - val_accuracy: 0.6918\n",
      "Epoch 63/200\n",
      "5/5 [==============================] - 0s 65ms/step - loss: 0.4362 - accuracy: 0.7153 - val_loss: 0.4967 - val_accuracy: 0.8082\n",
      "Epoch 64/200\n",
      "5/5 [==============================] - 0s 64ms/step - loss: 0.4683 - accuracy: 0.8010 - val_loss: 0.3520 - val_accuracy: 0.7329\n",
      "Epoch 65/200\n",
      "5/5 [==============================] - 0s 64ms/step - loss: 0.3810 - accuracy: 0.7702 - val_loss: 0.3472 - val_accuracy: 0.7329\n",
      "Epoch 66/200\n",
      "5/5 [==============================] - 0s 62ms/step - loss: 0.3643 - accuracy: 0.7736 - val_loss: 0.3522 - val_accuracy: 0.7192\n",
      "Epoch 67/200\n",
      "5/5 [==============================] - 0s 63ms/step - loss: 0.3508 - accuracy: 0.7633 - val_loss: 0.3397 - val_accuracy: 0.7260\n",
      "Epoch 68/200\n",
      "5/5 [==============================] - 0s 63ms/step - loss: 0.3495 - accuracy: 0.8027 - val_loss: 0.3477 - val_accuracy: 0.8562\n",
      "Epoch 69/200\n",
      "5/5 [==============================] - 0s 64ms/step - loss: 0.3324 - accuracy: 0.7839 - val_loss: 0.3358 - val_accuracy: 0.7192\n",
      "Epoch 70/200\n",
      "5/5 [==============================] - 0s 63ms/step - loss: 0.3285 - accuracy: 0.8062 - val_loss: 0.3288 - val_accuracy: 0.8767\n",
      "Epoch 71/200\n",
      "5/5 [==============================] - 0s 64ms/step - loss: 0.3172 - accuracy: 0.8456 - val_loss: 0.3207 - val_accuracy: 0.8493\n",
      "Epoch 72/200\n",
      "5/5 [==============================] - 0s 64ms/step - loss: 0.3062 - accuracy: 0.8628 - val_loss: 0.3189 - val_accuracy: 0.8904\n",
      "Epoch 73/200\n",
      "5/5 [==============================] - 0s 64ms/step - loss: 0.3011 - accuracy: 0.8576 - val_loss: 0.2919 - val_accuracy: 0.8836\n",
      "Epoch 74/200\n",
      "5/5 [==============================] - 0s 64ms/step - loss: 0.2869 - accuracy: 0.8491 - val_loss: 0.2871 - val_accuracy: 0.8904\n",
      "Epoch 75/200\n",
      "5/5 [==============================] - 0s 63ms/step - loss: 0.2780 - accuracy: 0.8696 - val_loss: 0.2841 - val_accuracy: 0.8630\n",
      "Epoch 76/200\n",
      "5/5 [==============================] - 0s 63ms/step - loss: 0.3793 - accuracy: 0.8542 - val_loss: 0.6072 - val_accuracy: 0.8493\n",
      "Epoch 77/200\n",
      "5/5 [==============================] - 0s 63ms/step - loss: 0.6414 - accuracy: 0.8268 - val_loss: 0.7189 - val_accuracy: 0.4863\n",
      "Epoch 78/200\n",
      "5/5 [==============================] - 0s 62ms/step - loss: 0.5623 - accuracy: 0.7238 - val_loss: 0.5596 - val_accuracy: 0.8425\n",
      "Epoch 79/200\n",
      "5/5 [==============================] - 0s 63ms/step - loss: 0.6210 - accuracy: 0.7873 - val_loss: 0.6710 - val_accuracy: 0.4452\n",
      "Epoch 80/200\n",
      "5/5 [==============================] - 0s 67ms/step - loss: 0.6977 - accuracy: 0.4202 - val_loss: 0.5974 - val_accuracy: 0.8425\n",
      "Epoch 81/200\n",
      "5/5 [==============================] - 0s 62ms/step - loss: 0.5352 - accuracy: 0.7341 - val_loss: 0.5775 - val_accuracy: 0.6575\n",
      "Epoch 82/200\n",
      "5/5 [==============================] - 0s 63ms/step - loss: 0.5641 - accuracy: 0.6724 - val_loss: 0.5403 - val_accuracy: 0.6918\n",
      "Epoch 83/200\n",
      "5/5 [==============================] - 0s 63ms/step - loss: 0.5348 - accuracy: 0.6913 - val_loss: 0.5452 - val_accuracy: 0.6986\n",
      "Epoch 84/200\n",
      "5/5 [==============================] - 0s 63ms/step - loss: 0.5145 - accuracy: 0.6792 - val_loss: 0.5127 - val_accuracy: 0.6575\n",
      "Epoch 85/200\n",
      "5/5 [==============================] - 0s 62ms/step - loss: 0.4945 - accuracy: 0.6792 - val_loss: 0.4894 - val_accuracy: 0.7055\n",
      "Epoch 86/200\n",
      "5/5 [==============================] - 0s 63ms/step - loss: 0.4642 - accuracy: 0.7015 - val_loss: 0.4519 - val_accuracy: 0.6712\n",
      "Epoch 87/200\n",
      "5/5 [==============================] - 0s 63ms/step - loss: 0.4286 - accuracy: 0.7153 - val_loss: 0.4168 - val_accuracy: 0.7192\n",
      "Epoch 88/200\n",
      "5/5 [==============================] - 0s 62ms/step - loss: 0.3934 - accuracy: 0.7273 - val_loss: 0.3829 - val_accuracy: 0.7260\n",
      "Epoch 89/200\n",
      "5/5 [==============================] - 0s 63ms/step - loss: 0.3729 - accuracy: 0.7358 - val_loss: 0.3621 - val_accuracy: 0.7397\n",
      "Epoch 90/200\n",
      "5/5 [==============================] - 0s 61ms/step - loss: 0.3535 - accuracy: 0.7684 - val_loss: 0.3442 - val_accuracy: 0.7534\n",
      "Epoch 91/200\n",
      "5/5 [==============================] - 0s 65ms/step - loss: 0.3407 - accuracy: 0.7702 - val_loss: 0.3349 - val_accuracy: 0.7534\n",
      "Epoch 92/200\n",
      "5/5 [==============================] - 0s 63ms/step - loss: 0.3342 - accuracy: 0.8130 - val_loss: 0.3283 - val_accuracy: 0.8219\n",
      "Epoch 93/200\n",
      "5/5 [==============================] - 0s 63ms/step - loss: 0.3328 - accuracy: 0.8268 - val_loss: 0.3232 - val_accuracy: 0.8767\n",
      "Epoch 94/200\n",
      "5/5 [==============================] - 0s 62ms/step - loss: 0.3300 - accuracy: 0.8559 - val_loss: 0.3171 - val_accuracy: 0.8425\n",
      "Epoch 95/200\n",
      "5/5 [==============================] - 0s 62ms/step - loss: 0.3264 - accuracy: 0.8302 - val_loss: 0.3324 - val_accuracy: 0.8904\n",
      "Epoch 96/200\n",
      "5/5 [==============================] - 0s 62ms/step - loss: 0.3292 - accuracy: 0.8559 - val_loss: 0.3188 - val_accuracy: 0.8219\n",
      "Epoch 97/200\n",
      "5/5 [==============================] - 0s 63ms/step - loss: 0.3203 - accuracy: 0.8473 - val_loss: 0.3120 - val_accuracy: 0.8699\n",
      "Epoch 98/200\n",
      "5/5 [==============================] - 0s 64ms/step - loss: 0.3054 - accuracy: 0.8525 - val_loss: 0.3034 - val_accuracy: 0.8767\n",
      "Epoch 99/200\n",
      "5/5 [==============================] - 0s 67ms/step - loss: 0.3015 - accuracy: 0.8593 - val_loss: 0.2989 - val_accuracy: 0.8767\n",
      "Epoch 100/200\n",
      "5/5 [==============================] - 0s 64ms/step - loss: 0.2974 - accuracy: 0.8542 - val_loss: 0.2949 - val_accuracy: 0.8836\n",
      "Epoch 101/200\n",
      "5/5 [==============================] - 0s 63ms/step - loss: 0.2961 - accuracy: 0.8765 - val_loss: 0.2920 - val_accuracy: 0.8767\n",
      "Epoch 102/200\n",
      "5/5 [==============================] - 0s 63ms/step - loss: 0.2930 - accuracy: 0.8576 - val_loss: 0.2964 - val_accuracy: 0.9110\n",
      "Epoch 103/200\n",
      "5/5 [==============================] - 0s 63ms/step - loss: 0.3021 - accuracy: 0.8645 - val_loss: 0.2926 - val_accuracy: 0.9110\n",
      "Epoch 104/200\n",
      "5/5 [==============================] - 0s 62ms/step - loss: 0.2974 - accuracy: 0.8645 - val_loss: 0.3083 - val_accuracy: 0.8699\n",
      "Epoch 105/200\n",
      "5/5 [==============================] - 0s 62ms/step - loss: 0.2954 - accuracy: 0.8782 - val_loss: 0.2854 - val_accuracy: 0.8767\n",
      "Epoch 106/200\n",
      "5/5 [==============================] - 0s 63ms/step - loss: 0.2865 - accuracy: 0.8628 - val_loss: 0.2853 - val_accuracy: 0.9178\n",
      "Epoch 107/200\n",
      "5/5 [==============================] - 0s 62ms/step - loss: 0.2843 - accuracy: 0.8731 - val_loss: 0.2889 - val_accuracy: 0.8904\n",
      "Epoch 108/200\n",
      "5/5 [==============================] - 0s 64ms/step - loss: 0.2793 - accuracy: 0.8799 - val_loss: 0.2793 - val_accuracy: 0.8767\n",
      "Epoch 109/200\n",
      "5/5 [==============================] - 0s 63ms/step - loss: 0.2887 - accuracy: 0.8593 - val_loss: 0.2761 - val_accuracy: 0.9110\n",
      "Epoch 110/200\n",
      "5/5 [==============================] - 0s 63ms/step - loss: 0.2753 - accuracy: 0.8748 - val_loss: 0.2750 - val_accuracy: 0.9041\n",
      "Epoch 111/200\n",
      "5/5 [==============================] - 0s 63ms/step - loss: 0.2743 - accuracy: 0.8851 - val_loss: 0.2672 - val_accuracy: 0.8836\n",
      "Epoch 112/200\n",
      "5/5 [==============================] - 0s 63ms/step - loss: 0.2678 - accuracy: 0.8816 - val_loss: 0.2754 - val_accuracy: 0.8904\n",
      "Epoch 113/200\n",
      "5/5 [==============================] - 0s 63ms/step - loss: 0.2692 - accuracy: 0.8782 - val_loss: 0.2659 - val_accuracy: 0.9178\n",
      "Epoch 114/200\n",
      "5/5 [==============================] - 0s 66ms/step - loss: 0.2670 - accuracy: 0.8851 - val_loss: 0.2617 - val_accuracy: 0.9178\n",
      "Epoch 115/200\n",
      "5/5 [==============================] - 0s 64ms/step - loss: 0.2609 - accuracy: 0.8885 - val_loss: 0.2614 - val_accuracy: 0.9110\n",
      "Epoch 116/200\n",
      "5/5 [==============================] - 0s 69ms/step - loss: 0.2614 - accuracy: 0.8919 - val_loss: 0.2570 - val_accuracy: 0.9178\n",
      "Epoch 117/200\n",
      "5/5 [==============================] - 0s 65ms/step - loss: 0.2632 - accuracy: 0.8834 - val_loss: 0.2551 - val_accuracy: 0.9110\n",
      "Epoch 118/200\n",
      "5/5 [==============================] - 0s 64ms/step - loss: 0.2607 - accuracy: 0.8782 - val_loss: 0.2527 - val_accuracy: 0.8836\n",
      "Epoch 119/200\n",
      "5/5 [==============================] - 0s 63ms/step - loss: 0.2590 - accuracy: 0.8868 - val_loss: 0.2511 - val_accuracy: 0.8904\n",
      "Epoch 120/200\n",
      "5/5 [==============================] - 0s 62ms/step - loss: 0.2696 - accuracy: 0.8696 - val_loss: 0.2721 - val_accuracy: 0.8767\n",
      "Epoch 121/200\n",
      "5/5 [==============================] - 0s 62ms/step - loss: 0.2874 - accuracy: 0.8731 - val_loss: 0.3499 - val_accuracy: 0.8082\n",
      "Epoch 122/200\n",
      "5/5 [==============================] - 0s 63ms/step - loss: 0.3927 - accuracy: 0.8027 - val_loss: 1.1926 - val_accuracy: 0.3356\n",
      "Epoch 123/200\n",
      "5/5 [==============================] - 0s 65ms/step - loss: 0.7998 - accuracy: 0.5523 - val_loss: 0.2684 - val_accuracy: 0.8973\n",
      "Epoch 124/200\n",
      "5/5 [==============================] - 0s 62ms/step - loss: 0.5147 - accuracy: 0.6587 - val_loss: 0.4900 - val_accuracy: 0.6918\n",
      "Epoch 125/200\n",
      "5/5 [==============================] - 0s 62ms/step - loss: 0.3534 - accuracy: 0.8285 - val_loss: 0.4341 - val_accuracy: 0.8082\n",
      "Epoch 126/200\n",
      "5/5 [==============================] - 0s 62ms/step - loss: 0.4499 - accuracy: 0.7444 - val_loss: 0.7888 - val_accuracy: 0.4247\n",
      "Epoch 127/200\n",
      "5/5 [==============================] - 0s 62ms/step - loss: 0.5753 - accuracy: 0.6072 - val_loss: 0.3019 - val_accuracy: 0.8425\n",
      "Epoch 128/200\n",
      "5/5 [==============================] - 0s 63ms/step - loss: 0.4200 - accuracy: 0.8027 - val_loss: 0.2927 - val_accuracy: 0.8836\n",
      "Epoch 129/200\n",
      "5/5 [==============================] - 0s 66ms/step - loss: 0.3378 - accuracy: 0.8593 - val_loss: 0.3895 - val_accuracy: 0.8219\n",
      "Epoch 130/200\n",
      "5/5 [==============================] - 0s 68ms/step - loss: 0.3266 - accuracy: 0.8748 - val_loss: 0.2940 - val_accuracy: 0.8699\n",
      "Epoch 131/200\n",
      "5/5 [==============================] - 0s 63ms/step - loss: 0.3225 - accuracy: 0.8525 - val_loss: 0.2874 - val_accuracy: 0.8836\n",
      "Epoch 132/200\n",
      "5/5 [==============================] - 0s 63ms/step - loss: 0.2860 - accuracy: 0.8799 - val_loss: 0.3059 - val_accuracy: 0.8904\n",
      "Epoch 133/200\n",
      "5/5 [==============================] - 0s 63ms/step - loss: 0.3015 - accuracy: 0.8782 - val_loss: 0.2839 - val_accuracy: 0.8973\n",
      "Epoch 134/200\n",
      "5/5 [==============================] - 0s 63ms/step - loss: 0.2829 - accuracy: 0.8799 - val_loss: 0.2802 - val_accuracy: 0.8904\n",
      "Epoch 135/200\n",
      "5/5 [==============================] - 0s 62ms/step - loss: 0.2830 - accuracy: 0.8765 - val_loss: 0.2788 - val_accuracy: 0.8973\n",
      "Epoch 136/200\n",
      "5/5 [==============================] - 0s 63ms/step - loss: 0.2778 - accuracy: 0.8885 - val_loss: 0.2781 - val_accuracy: 0.8836\n",
      "Epoch 137/200\n",
      "5/5 [==============================] - 0s 65ms/step - loss: 0.2721 - accuracy: 0.8885 - val_loss: 0.2714 - val_accuracy: 0.8973\n",
      "Epoch 138/200\n",
      "5/5 [==============================] - 0s 63ms/step - loss: 0.2723 - accuracy: 0.8816 - val_loss: 0.2690 - val_accuracy: 0.8973\n",
      "Epoch 139/200\n",
      "5/5 [==============================] - 0s 63ms/step - loss: 0.2718 - accuracy: 0.8799 - val_loss: 0.2749 - val_accuracy: 0.9110\n",
      "Epoch 140/200\n",
      "5/5 [==============================] - 0s 62ms/step - loss: 0.2686 - accuracy: 0.8919 - val_loss: 0.2660 - val_accuracy: 0.9041\n",
      "Epoch 141/200\n",
      "5/5 [==============================] - 0s 63ms/step - loss: 0.2716 - accuracy: 0.8834 - val_loss: 0.2652 - val_accuracy: 0.8904\n",
      "Epoch 142/200\n",
      "5/5 [==============================] - 0s 63ms/step - loss: 0.2650 - accuracy: 0.8885 - val_loss: 0.2708 - val_accuracy: 0.9041\n",
      "Epoch 143/200\n",
      "5/5 [==============================] - 0s 63ms/step - loss: 0.2632 - accuracy: 0.8902 - val_loss: 0.2617 - val_accuracy: 0.8904\n",
      "Epoch 144/200\n",
      "5/5 [==============================] - 0s 62ms/step - loss: 0.2635 - accuracy: 0.8851 - val_loss: 0.2633 - val_accuracy: 0.9110\n",
      "Epoch 145/200\n",
      "5/5 [==============================] - 0s 62ms/step - loss: 0.2609 - accuracy: 0.8885 - val_loss: 0.2658 - val_accuracy: 0.8973\n",
      "Epoch 146/200\n",
      "5/5 [==============================] - 0s 63ms/step - loss: 0.2605 - accuracy: 0.8919 - val_loss: 0.2590 - val_accuracy: 0.8904\n",
      "Epoch 147/200\n",
      "5/5 [==============================] - 0s 63ms/step - loss: 0.2614 - accuracy: 0.8902 - val_loss: 0.2588 - val_accuracy: 0.9110\n",
      "Epoch 148/200\n",
      "5/5 [==============================] - 0s 62ms/step - loss: 0.2604 - accuracy: 0.8816 - val_loss: 0.2653 - val_accuracy: 0.9041\n",
      "Epoch 149/200\n",
      "5/5 [==============================] - 0s 64ms/step - loss: 0.2585 - accuracy: 0.8902 - val_loss: 0.2553 - val_accuracy: 0.8904\n",
      "Epoch 150/200\n",
      "5/5 [==============================] - 0s 62ms/step - loss: 0.2581 - accuracy: 0.8919 - val_loss: 0.2622 - val_accuracy: 0.9041\n",
      "Epoch 151/200\n",
      "5/5 [==============================] - 0s 63ms/step - loss: 0.2588 - accuracy: 0.8834 - val_loss: 0.2581 - val_accuracy: 0.9041\n",
      "Epoch 152/200\n",
      "5/5 [==============================] - 0s 62ms/step - loss: 0.2546 - accuracy: 0.8885 - val_loss: 0.2529 - val_accuracy: 0.9178\n",
      "Epoch 153/200\n",
      "5/5 [==============================] - 0s 62ms/step - loss: 0.2537 - accuracy: 0.8902 - val_loss: 0.2595 - val_accuracy: 0.9041\n",
      "Epoch 154/200\n",
      "5/5 [==============================] - 0s 64ms/step - loss: 0.2558 - accuracy: 0.8885 - val_loss: 0.2526 - val_accuracy: 0.9110\n"
     ]
    }
   ],
   "source": [
    "numberOfFeatures=1\n",
    "\n",
    "model = Sequential()\n",
    "model.add(LSTM(64, input_shape=(numberOfWindows,numberOfFeatures)))#,return_sequences=True))\n",
    "model.add(Dense(32, activation='relu'))\n",
    "model.add(Dropout(0.1))\n",
    "#model.add(Dense(32,activation='relu'))#, activation='relu'))\n",
    "#model.add(Dropout(0.1))\n",
    "model.add(Dense(1, activation='sigmoid'))\n",
    "model.summary()\n",
    "\n",
    "opt = tf.keras.optimizers.Adam(learning_rate=0.00045) #, decay=1e-3) #If validation is not following training in trend then the learning rate might be too high\n",
    "model.compile(loss='binary_crossentropy', optimizer=opt, metrics=['accuracy']) #focal_loss_custom(alpha=0.2, gamma=2) #'binary_crossentropy'#focal_loss_custom(alpha=0.25, gamma=2)\n",
    "\n",
    "scaler = preprocessing.Normalizer().fit(X_train2)\n",
    "X_train4 = scaler.transform(X_train2)\n",
    "X_test4 = scaler.transform(X_test)\n",
    "X_val4 = scaler.transform(X_val)\n",
    "\n",
    "Train_shape = X_train4.shape\n",
    "X_train4 = X_train4.reshape(int(Train_shape[0]),numberOfWindows,1)\n",
    "\n",
    "Train_shape = X_test4.shape\n",
    "X_test4 = X_test4.reshape(int(Train_shape[0]),numberOfWindows,1)\n",
    "\n",
    "Train_shape = X_val4.shape\n",
    "X_val4 = X_val4.reshape(int(Train_shape[0]),numberOfWindows,1)\n",
    "\n",
    "history = model.fit(X_train4,y_train2, epochs = ep,batch_size=128,validation_data=(X_val4, y_val), callbacks=[stop_early],shuffle=True)"
   ]
  },
  {
   "cell_type": "code",
   "execution_count": 506,
   "metadata": {},
   "outputs": [
    {
     "name": "stderr",
     "output_type": "stream",
     "text": [
      "2023-04-06 02:00:56.406932: I tensorflow/core/grappler/optimizers/custom_graph_optimizer_registry.cc:113] Plugin optimizer for device_type GPU is enabled.\n",
      "2023-04-06 02:00:56.459092: I tensorflow/core/grappler/optimizers/custom_graph_optimizer_registry.cc:113] Plugin optimizer for device_type GPU is enabled.\n"
     ]
    }
   ],
   "source": [
    "# Make predictions on test data\n",
    "y_pred_classes = model.predict(X_test4)\n",
    "y_pred_classes = y_pred_classes.flatten()\n",
    "y_pred_classes = list(map(lambda x: 0 if x<0.5 else 1, y_pred_classes))\n",
    "\n",
    "y_test_classes = y_test"
   ]
  },
  {
   "cell_type": "code",
   "execution_count": 507,
   "metadata": {},
   "outputs": [],
   "source": [
    "# Calculate F1 score macro and Precision macro\n",
    "f1_value = f1_score(y_test_classes, y_pred_classes, average='macro')\n",
    "precision = precision_score(y_test_classes, y_pred_classes, average='macro')\n",
    "sensitivity = recall_score(y_test_classes, y_pred_classes,average='macro')#,pos_label = 1, average='binary')\n",
    "accuracy = accuracy_score(y_test_classes, y_pred_classes)\n",
    "\n",
    "acc_score.append(accuracy)\n",
    "re_score.append(sensitivity)\n",
    "pre_score.append(precision)\n",
    "f_score.append(f1_value)\n",
    "\n",
    "k = 1 \n",
    "\n",
    "avg_acc_score = sum(acc_score)/k\n",
    "avg_recall_score = sum(re_score)/k\n",
    "avg_precision_score = sum(pre_score)/k\n",
    "avg_f1_score = sum(f_score)/k\n",
    "\n",
    "sensitivity = avg_recall_score\n",
    "precision = avg_precision_score\n",
    "accuracy = avg_acc_score\n",
    "f1_score = avg_f1_score"
   ]
  },
  {
   "cell_type": "code",
   "execution_count": 508,
   "metadata": {},
   "outputs": [
    {
     "name": "stdout",
     "output_type": "stream",
     "text": [
      "Avg accuracy : 0.905511811023622\n",
      "Avg Reccall : 0.9504132231404958\n",
      "Avg Precision : 0.6666666666666666\n",
      "Avg F1_score : 0.7239130434782609\n"
     ]
    }
   ],
   "source": [
    "#print('accuracy of each fold - {}'.format(acc_score))\n",
    "print('Avg accuracy : {}'.format(avg_acc_score))\n",
    "#print('Recall of each fold - {}'.format(re_score))\n",
    "print('Avg Reccall : {}'.format(avg_recall_score))\n",
    "#print('Precision of each fold - {}'.format(pre_score))\n",
    "print('Avg Precision : {}'.format(avg_precision_score))\n",
    "#print('F1_Score of each fold - {}'.format(f_score))\n",
    "print('Avg F1_score : {}'.format(avg_f1_score))"
   ]
  },
  {
   "cell_type": "code",
   "execution_count": 509,
   "metadata": {},
   "outputs": [
    {
     "data": {
      "image/png": "[encoded data removed]",
      "text/plain": [
       "<Figure size 432x288 with 2 Axes>"
      ]
     },
     "metadata": {
      "needs_background": "light"
     },
     "output_type": "display_data"
    },
    {
     "data": {
      "text/plain": [
       "array([1.        , 0.90082645])"
      ]
     },
     "execution_count": 509,
     "metadata": {},
     "output_type": "execute_result"
    }
   ],
   "source": [
    "from sklearn.metrics import confusion_matrix, ConfusionMatrixDisplay\n",
    "matrix = matrix2 = confusion_matrix(y_test_classes, y_pred_classes)\n",
    "cm_display = ConfusionMatrixDisplay(confusion_matrix = matrix2)\n",
    "cm_display.plot()\n",
    "plt.show()\n",
    "matrix.diagonal()/matrix.sum(axis=1)"
   ]
  },
  {
   "cell_type": "code",
   "execution_count": 510,
   "metadata": {},
   "outputs": [],
   "source": [
    "Accuracies = matrix.diagonal()/matrix.sum(axis=1)\n",
    "\n",
    "Less3 = Accuracies[0]\n",
    "Greater3 = Accuracies[1]"
   ]
  },
  {
   "cell_type": "code",
   "execution_count": 511,
   "metadata": {},
   "outputs": [
    {
     "data": {
      "image/png": "[encoded data removed]",
      "text/plain": [
       "<Figure size 432x288 with 1 Axes>"
      ]
     },
     "metadata": {
      "needs_background": "light"
     },
     "output_type": "display_data"
    }
   ],
   "source": [
    "# Plot the accuracy of the model during training\n",
    "\n",
    "#plt.plot()\n",
    "plt.plot(history.history['loss'])\n",
    "plt.plot(history.history['val_loss'])\n",
    "plt.title('Model Loss')\n",
    "plt.ylabel('Loss')\n",
    "plt.xlabel('Epoch')\n",
    "plt.legend(['Training', 'Validation'], loc='upper left')\n",
    "plt.show()"
   ]
  },
  {
   "cell_type": "code",
   "execution_count": 512,
   "metadata": {},
   "outputs": [
    {
     "data": {
      "image/png": "[encoded data removed]",
      "text/plain": [
       "<Figure size 432x288 with 1 Axes>"
      ]
     },
     "metadata": {
      "needs_background": "light"
     },
     "output_type": "display_data"
    }
   ],
   "source": [
    "# Plot the accuracy of the model during training\n",
    "\n",
    "#plt.plot()\n",
    "plt.plot(history.history['accuracy'])\n",
    "plt.plot(history.history['val_accuracy'])\n",
    "plt.title('Model Accuracy')\n",
    "plt.ylabel('Validation Accuracy')\n",
    "plt.xlabel('Epoch')\n",
    "plt.legend(['Training', 'Validation'], loc='upper left')\n",
    "plt.show()"
   ]
  },
  {
   "cell_type": "code",
   "execution_count": 513,
   "metadata": {},
   "outputs": [],
   "source": [
    "Accuracies = matrix.diagonal()/matrix.sum(axis=1)\n",
    "\n",
    "accuracy = (Greater3+Less3)/2"
   ]
  },
  {
   "cell_type": "code",
   "execution_count": 514,
   "metadata": {},
   "outputs": [],
   "source": [
    "import csv\n",
    "import os.path\n",
    "\n",
    "csv_columns = ['model-type','precision','sensitivity','f1-score','accuracy','NumberOfWindows','Epochs','Run_Time']\n",
    "dict_data = [{'model-type':'LSTM', 'precision': precision,'sensitivity': sensitivity,'f1-score': f1_score,'accuracy': accuracy,'NumberOfWindows':numberOfWindows,\"Epochs\":ep}]\n",
    "metric_file = \"Results_Apr3/ptdb_LSTM_1.csv\"\n",
    "\n",
    "file_exists = os.path.isfile(metric_file)\n",
    "try:\n",
    "    with open(metric_file, 'a') as csvfile:\n",
    "        writer = csv.DictWriter(csvfile, fieldnames=csv_columns)\n",
    "        if not file_exists:\n",
    "            writer.writeheader()\n",
    "        for data in dict_data:\n",
    "            writer.writerow(data)\n",
    "except IOError:\n",
    "    print(\"I/O error\")"
   ]
  }
 ],
 "metadata": {
  "kernelspec": {
   "display_name": "Python 3",
   "language": "python",
   "name": "python3"
  },
  "language_info": {
   "codemirror_mode": {
    "name": "ipython",
    "version": 3
   },
   "file_extension": ".py",
   "mimetype": "text/x-python",
   "name": "python",
   "nbconvert_exporter": "python",
   "pygments_lexer": "ipython3",
   "version": "3.9.10"
  },
  "orig_nbformat": 4,
  "vscode": {
   "interpreter": {
    "hash": "9f3ba9e726005c067fbc0eaab20e31f21cd7f7e132fec231b7dd4c5a2981fed5"
   }
  }
 },
 "nbformat": 4,
 "nbformat_minor": 2
}
