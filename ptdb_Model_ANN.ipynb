{
 "cells": [
  {
   "cell_type": "code",
   "execution_count": 118,
   "metadata": {},
   "outputs": [],
   "source": [
    "import pandas as pd\n",
    "from imblearn.over_sampling import RandomOverSampler\n",
    "from imblearn.under_sampling import RandomUnderSampler\n",
    "from sklearn.model_selection import cross_val_score\n",
    "from sklearn.model_selection import train_test_split\n",
    "from sklearn.ensemble import GradientBoostingClassifier\n",
    "from sklearn.linear_model import LogisticRegression\n",
    "import matplotlib.pyplot as plt\n",
    "from tslearn.clustering import KShape\n",
    "import numpy as np\n",
    "from sklearn import tree"
   ]
  },
  {
   "cell_type": "code",
   "execution_count": 119,
   "metadata": {},
   "outputs": [],
   "source": [
    "Restriction = '3-SD'\n",
    "numberOfFeatures2 = numberOfWindows = 187\n",
    "ep = 200\n",
    "ep_es = 35"
   ]
  },
  {
   "cell_type": "code",
   "execution_count": 120,
   "metadata": {},
   "outputs": [],
   "source": [
    "FeatureSetB1 = pd.read_csv('Windows/ptdb_187Ws.csv')\n",
    "FeatureSetB1.drop(\"Unnamed: 0\",axis=1,inplace = True)\n",
    "FeatureSetB1 = FeatureSetB1.drop('index', axis=1)\n",
    "tree = tree.DecisionTreeClassifier()\n",
    "gbc = GradientBoostingClassifier(random_state=0)"
   ]
  },
  {
   "cell_type": "code",
   "execution_count": 121,
   "metadata": {},
   "outputs": [],
   "source": [
    "FeatureSetB2 = FeatureSetB1.sample(frac=1)\n",
    "FeatureSetB3 = FeatureSetB2.iloc[:, :-2]"
   ]
  },
  {
   "cell_type": "code",
   "execution_count": 122,
   "metadata": {},
   "outputs": [],
   "source": [
    "import pandas as pd\n",
    "import numpy as np\n",
    "\n",
    "B_class_0 = FeatureSetB3[FeatureSetB2['Class'] == 0]\n",
    "B_class_1 = FeatureSetB3[FeatureSetB2['Class'] == 1]\n",
    "\n",
    "B_class_F0 = FeatureSetB2[FeatureSetB2['Class'] == 0]\n",
    "B_class_F1 = FeatureSetB2[FeatureSetB2['Class'] == 1]\n",
    "\n",
    "\n",
    "# Calculate the Z-scores for each feature\n",
    "z_score_0 = (B_class_0 - B_class_0.mean()) / B_class_0.std()\n",
    "z_score_1 = (B_class_1 - B_class_1.mean()) / B_class_1.std()\n",
    "\n",
    "# Set a threshold for the Z-score\n",
    "threshold_0 = 2.5\n",
    "threshold_1 = 2.5\n",
    "\n",
    "# Identify the outliers based on the threshold\n",
    "outliers_0 = np.abs(z_score_0) > threshold_0\n",
    "outliers_1 = np.abs(z_score_1) > threshold_1\n",
    "\n",
    "# Remove the outliers from the dataset\n",
    "B_class_F0 = B_class_F0[~outliers_0.any(axis=1)]\n",
    "B_class_F1 = B_class_F1[~outliers_1.any(axis=1)]\n",
    "\n",
    "# Split the dataset into two classes and perform clustering as described in the previous answer\n",
    "merged_df = pd.concat([B_class_F1, B_class_F0])\n",
    "merged_df = merged_df.sample(frac=1)"
   ]
  },
  {
   "cell_type": "code",
   "execution_count": 123,
   "metadata": {},
   "outputs": [],
   "source": [
    "X = merged_df.iloc[:, :-2]\n",
    "y = merged_df[['Class']]"
   ]
  },
  {
   "cell_type": "code",
   "execution_count": 124,
   "metadata": {},
   "outputs": [],
   "source": [
    "ros = RandomOverSampler(random_state=0,sampling_strategy=0.5)"
   ]
  },
  {
   "cell_type": "code",
   "execution_count": 125,
   "metadata": {},
   "outputs": [],
   "source": [
    "X_train1, X_test, y_train1, y_test = train_test_split(X,y, test_size=0.2, random_state=1, stratify=y, shuffle=True)\n",
    "\n",
    "x,y = ros.fit_resample(X_train1,y_train1)\n",
    "\n",
    "X_train2, X_val, y_train2, y_val = train_test_split(x,y, test_size=0.2, random_state=1, stratify=y, shuffle=True)"
   ]
  },
  {
   "attachments": {},
   "cell_type": "markdown",
   "metadata": {},
   "source": [
    "Rye - Artificial Neural Network "
   ]
  },
  {
   "cell_type": "code",
   "execution_count": 126,
   "metadata": {},
   "outputs": [],
   "source": [
    "import keras\n",
    "from keras.models import Sequential\n",
    "from keras.layers import Dense, Dropout,Flatten, Activation\n",
    "from sklearn import metrics\n",
    "from keras.layers import LSTM\n",
    "import tensorflow as tf\n",
    "import sys\n",
    "mod=sys.modules[__name__]"
   ]
  },
  {
   "cell_type": "code",
   "execution_count": 127,
   "metadata": {},
   "outputs": [],
   "source": [
    "import numpy as np\n",
    "from sklearn.metrics import f1_score\n",
    "from sklearn.metrics import precision_score\n",
    "from sklearn.metrics import recall_score\n",
    "from sklearn.preprocessing import OneHotEncoder\n",
    "from sklearn.metrics import accuracy_score\n",
    "from tensorflow.keras.utils import to_categorical\n",
    "from sklearn import tree\n",
    "\n",
    "import warnings\n",
    "warnings.filterwarnings(\"ignore\")\n",
    "\n",
    "from sklearn import preprocessing\n",
    "from sklearn.preprocessing import LabelEncoder\n",
    "from sklearn.utils import class_weight\n",
    "tree = tree.DecisionTreeClassifier()\n",
    "\n",
    "acc_score = []\n",
    "re_score = []\n",
    "pre_score = []\n",
    "history_1 = []\n",
    "f_score = []\n",
    "auroc_score = []\n",
    "auprc_score = []"
   ]
  },
  {
   "cell_type": "code",
   "execution_count": 128,
   "metadata": {},
   "outputs": [],
   "source": [
    "stop_early = tf.keras.callbacks.EarlyStopping(monitor='val_loss', patience = ep_es, mode='min',restore_best_weights=True)"
   ]
  },
  {
   "cell_type": "code",
   "execution_count": 129,
   "metadata": {},
   "outputs": [
    {
     "name": "stdout",
     "output_type": "stream",
     "text": [
      "Model: \"sequential_6\"\n",
      "_________________________________________________________________\n",
      " Layer (type)                Output Shape              Param #   \n",
      "=================================================================\n",
      " dense_18 (Dense)            (None, 128)               24064     \n",
      "                                                                 \n",
      " activation_12 (Activation)  (None, 128)               0         \n",
      "                                                                 \n",
      " dense_19 (Dense)            (None, 64)                8256      \n",
      "                                                                 \n",
      " activation_13 (Activation)  (None, 64)                0         \n",
      "                                                                 \n",
      " dense_20 (Dense)            (None, 1)                 65        \n",
      "                                                                 \n",
      "=================================================================\n",
      "Total params: 32,385\n",
      "Trainable params: 32,385\n",
      "Non-trainable params: 0\n",
      "_________________________________________________________________\n",
      "Epoch 1/200\n"
     ]
    },
    {
     "name": "stderr",
     "output_type": "stream",
     "text": [
      "2023-04-06 01:52:43.177041: I tensorflow/core/grappler/optimizers/custom_graph_optimizer_registry.cc:113] Plugin optimizer for device_type GPU is enabled.\n"
     ]
    },
    {
     "name": "stdout",
     "output_type": "stream",
     "text": [
      "1/1 [==============================] - 1s 584ms/step - loss: 0.6929 - accuracy: 0.6192 - val_loss: 0.9339 - val_accuracy: 0.6644\n",
      "Epoch 2/200\n",
      "1/1 [==============================] - 0s 37ms/step - loss: 0.9474 - accuracy: 0.6672 - val_loss: 0.6682 - val_accuracy: 0.4726\n",
      "Epoch 3/200\n",
      "1/1 [==============================] - 0s 37ms/step - loss: 0.6722 - accuracy: 0.4391 - val_loss: 0.4683 - val_accuracy: 0.9315\n",
      "Epoch 4/200\n",
      "1/1 [==============================] - ETA: 0s - loss: 0.4780 - accuracy: 0.9142"
     ]
    },
    {
     "name": "stderr",
     "output_type": "stream",
     "text": [
      "2023-04-06 01:52:43.498454: I tensorflow/core/grappler/optimizers/custom_graph_optimizer_registry.cc:113] Plugin optimizer for device_type GPU is enabled.\n"
     ]
    },
    {
     "name": "stdout",
     "output_type": "stream",
     "text": [
      "1/1 [==============================] - 0s 56ms/step - loss: 0.4780 - accuracy: 0.9142 - val_loss: 0.3200 - val_accuracy: 0.8767\n",
      "Epoch 5/200\n",
      "1/1 [==============================] - 0s 63ms/step - loss: 0.3375 - accuracy: 0.8628 - val_loss: 0.2163 - val_accuracy: 0.9315\n",
      "Epoch 6/200\n",
      "1/1 [==============================] - 0s 40ms/step - loss: 0.2338 - accuracy: 0.9057 - val_loss: 0.2046 - val_accuracy: 0.9315\n",
      "Epoch 7/200\n",
      "1/1 [==============================] - 0s 38ms/step - loss: 0.2060 - accuracy: 0.9262 - val_loss: 0.1514 - val_accuracy: 0.9384\n",
      "Epoch 8/200\n",
      "1/1 [==============================] - 0s 34ms/step - loss: 0.1563 - accuracy: 0.9331 - val_loss: 0.1441 - val_accuracy: 0.9384\n",
      "Epoch 9/200\n",
      "1/1 [==============================] - 0s 33ms/step - loss: 0.1698 - accuracy: 0.9280 - val_loss: 0.1245 - val_accuracy: 0.9521\n",
      "Epoch 10/200\n",
      "1/1 [==============================] - 0s 31ms/step - loss: 0.1275 - accuracy: 0.9520 - val_loss: 0.1226 - val_accuracy: 0.9521\n",
      "Epoch 11/200\n",
      "1/1 [==============================] - 0s 50ms/step - loss: 0.1263 - accuracy: 0.9503 - val_loss: 0.0684 - val_accuracy: 0.9589\n",
      "Epoch 12/200\n",
      "1/1 [==============================] - 0s 33ms/step - loss: 0.0953 - accuracy: 0.9485 - val_loss: 0.0711 - val_accuracy: 0.9726\n",
      "Epoch 13/200\n",
      "1/1 [==============================] - 0s 31ms/step - loss: 0.1034 - accuracy: 0.9605 - val_loss: 0.0470 - val_accuracy: 0.9932\n",
      "Epoch 14/200\n",
      "1/1 [==============================] - 0s 25ms/step - loss: 0.0808 - accuracy: 0.9726 - val_loss: 0.0511 - val_accuracy: 0.9863\n",
      "Epoch 15/200\n",
      "1/1 [==============================] - 0s 30ms/step - loss: 0.0873 - accuracy: 0.9674 - val_loss: 0.0435 - val_accuracy: 0.9863\n",
      "Epoch 16/200\n",
      "1/1 [==============================] - 0s 29ms/step - loss: 0.0698 - accuracy: 0.9726 - val_loss: 0.0612 - val_accuracy: 0.9863\n",
      "Epoch 17/200\n",
      "1/1 [==============================] - 0s 30ms/step - loss: 0.0811 - accuracy: 0.9777 - val_loss: 0.0422 - val_accuracy: 0.9932\n",
      "Epoch 18/200\n",
      "1/1 [==============================] - 0s 26ms/step - loss: 0.0676 - accuracy: 0.9777 - val_loss: 0.0467 - val_accuracy: 0.9863\n",
      "Epoch 19/200\n",
      "1/1 [==============================] - 0s 30ms/step - loss: 0.0700 - accuracy: 0.9743 - val_loss: 0.0394 - val_accuracy: 0.9863\n",
      "Epoch 20/200\n",
      "1/1 [==============================] - 0s 26ms/step - loss: 0.0548 - accuracy: 0.9760 - val_loss: 0.0503 - val_accuracy: 0.9863\n",
      "Epoch 21/200\n",
      "1/1 [==============================] - 0s 30ms/step - loss: 0.0622 - accuracy: 0.9811 - val_loss: 0.0367 - val_accuracy: 0.9932\n",
      "Epoch 22/200\n",
      "1/1 [==============================] - 0s 28ms/step - loss: 0.0490 - accuracy: 0.9846 - val_loss: 0.0440 - val_accuracy: 0.9863\n",
      "Epoch 23/200\n",
      "1/1 [==============================] - 0s 32ms/step - loss: 0.0537 - accuracy: 0.9811 - val_loss: 0.0317 - val_accuracy: 0.9932\n",
      "Epoch 24/200\n",
      "1/1 [==============================] - 0s 25ms/step - loss: 0.0401 - accuracy: 0.9897 - val_loss: 0.0375 - val_accuracy: 0.9863\n",
      "Epoch 25/200\n",
      "1/1 [==============================] - 0s 29ms/step - loss: 0.0464 - accuracy: 0.9846 - val_loss: 0.0268 - val_accuracy: 0.9932\n",
      "Epoch 26/200\n",
      "1/1 [==============================] - 0s 27ms/step - loss: 0.0338 - accuracy: 0.9931 - val_loss: 0.0318 - val_accuracy: 0.9863\n",
      "Epoch 27/200\n",
      "1/1 [==============================] - 0s 40ms/step - loss: 0.0350 - accuracy: 0.9897 - val_loss: 0.0290 - val_accuracy: 0.9863\n",
      "Epoch 28/200\n",
      "1/1 [==============================] - 0s 31ms/step - loss: 0.0311 - accuracy: 0.9914 - val_loss: 0.0209 - val_accuracy: 0.9932\n",
      "Epoch 29/200\n",
      "1/1 [==============================] - 0s 31ms/step - loss: 0.0255 - accuracy: 0.9931 - val_loss: 0.0227 - val_accuracy: 1.0000\n",
      "Epoch 30/200\n",
      "1/1 [==============================] - 0s 28ms/step - loss: 0.0287 - accuracy: 0.9983 - val_loss: 0.0195 - val_accuracy: 0.9863\n",
      "Epoch 31/200\n",
      "1/1 [==============================] - 0s 30ms/step - loss: 0.0211 - accuracy: 0.9949 - val_loss: 0.0256 - val_accuracy: 0.9863\n",
      "Epoch 32/200\n",
      "1/1 [==============================] - 0s 26ms/step - loss: 0.0225 - accuracy: 0.9914 - val_loss: 0.0235 - val_accuracy: 0.9863\n",
      "Epoch 33/200\n",
      "1/1 [==============================] - 0s 28ms/step - loss: 0.0200 - accuracy: 0.9931 - val_loss: 0.0164 - val_accuracy: 0.9932\n",
      "Epoch 34/200\n",
      "1/1 [==============================] - 0s 27ms/step - loss: 0.0162 - accuracy: 0.9983 - val_loss: 0.0161 - val_accuracy: 1.0000\n",
      "Epoch 35/200\n",
      "1/1 [==============================] - 0s 27ms/step - loss: 0.0176 - accuracy: 0.9983 - val_loss: 0.0143 - val_accuracy: 0.9932\n",
      "Epoch 36/200\n",
      "1/1 [==============================] - 0s 25ms/step - loss: 0.0140 - accuracy: 0.9983 - val_loss: 0.0164 - val_accuracy: 0.9932\n",
      "Epoch 37/200\n",
      "1/1 [==============================] - 0s 27ms/step - loss: 0.0128 - accuracy: 0.9983 - val_loss: 0.0183 - val_accuracy: 0.9932\n",
      "Epoch 38/200\n",
      "1/1 [==============================] - 0s 27ms/step - loss: 0.0127 - accuracy: 0.9966 - val_loss: 0.0155 - val_accuracy: 0.9932\n",
      "Epoch 39/200\n",
      "1/1 [==============================] - 0s 33ms/step - loss: 0.0102 - accuracy: 0.9983 - val_loss: 0.0142 - val_accuracy: 0.9932\n",
      "Epoch 40/200\n",
      "1/1 [==============================] - 0s 25ms/step - loss: 0.0089 - accuracy: 0.9983 - val_loss: 0.0156 - val_accuracy: 0.9932\n",
      "Epoch 41/200\n",
      "1/1 [==============================] - 0s 43ms/step - loss: 0.0091 - accuracy: 0.9983 - val_loss: 0.0158 - val_accuracy: 0.9932\n",
      "Epoch 42/200\n",
      "1/1 [==============================] - 0s 26ms/step - loss: 0.0066 - accuracy: 0.9983 - val_loss: 0.0190 - val_accuracy: 0.9932\n",
      "Epoch 43/200\n",
      "1/1 [==============================] - 0s 25ms/step - loss: 0.0065 - accuracy: 0.9983 - val_loss: 0.0206 - val_accuracy: 0.9932\n",
      "Epoch 44/200\n",
      "1/1 [==============================] - 0s 24ms/step - loss: 0.0059 - accuracy: 0.9983 - val_loss: 0.0197 - val_accuracy: 0.9932\n",
      "Epoch 45/200\n",
      "1/1 [==============================] - 0s 27ms/step - loss: 0.0044 - accuracy: 1.0000 - val_loss: 0.0196 - val_accuracy: 0.9932\n",
      "Epoch 46/200\n",
      "1/1 [==============================] - 0s 31ms/step - loss: 0.0045 - accuracy: 1.0000 - val_loss: 0.0202 - val_accuracy: 0.9932\n",
      "Epoch 47/200\n",
      "1/1 [==============================] - 0s 28ms/step - loss: 0.0038 - accuracy: 1.0000 - val_loss: 0.0222 - val_accuracy: 0.9932\n",
      "Epoch 48/200\n",
      "1/1 [==============================] - 0s 26ms/step - loss: 0.0030 - accuracy: 1.0000 - val_loss: 0.0245 - val_accuracy: 0.9932\n",
      "Epoch 49/200\n",
      "1/1 [==============================] - 0s 26ms/step - loss: 0.0031 - accuracy: 1.0000 - val_loss: 0.0247 - val_accuracy: 0.9932\n",
      "Epoch 50/200\n",
      "1/1 [==============================] - 0s 27ms/step - loss: 0.0027 - accuracy: 1.0000 - val_loss: 0.0232 - val_accuracy: 0.9932\n",
      "Epoch 51/200\n",
      "1/1 [==============================] - 0s 30ms/step - loss: 0.0021 - accuracy: 1.0000 - val_loss: 0.0217 - val_accuracy: 0.9932\n",
      "Epoch 52/200\n",
      "1/1 [==============================] - 0s 29ms/step - loss: 0.0021 - accuracy: 1.0000 - val_loss: 0.0213 - val_accuracy: 0.9932\n",
      "Epoch 53/200\n",
      "1/1 [==============================] - 0s 27ms/step - loss: 0.0020 - accuracy: 1.0000 - val_loss: 0.0220 - val_accuracy: 0.9932\n",
      "Epoch 54/200\n",
      "1/1 [==============================] - 0s 25ms/step - loss: 0.0017 - accuracy: 1.0000 - val_loss: 0.0235 - val_accuracy: 0.9932\n",
      "Epoch 55/200\n",
      "1/1 [==============================] - 0s 24ms/step - loss: 0.0015 - accuracy: 1.0000 - val_loss: 0.0248 - val_accuracy: 0.9932\n",
      "Epoch 56/200\n",
      "1/1 [==============================] - 0s 30ms/step - loss: 0.0015 - accuracy: 1.0000 - val_loss: 0.0249 - val_accuracy: 0.9932\n",
      "Epoch 57/200\n",
      "1/1 [==============================] - 0s 26ms/step - loss: 0.0014 - accuracy: 1.0000 - val_loss: 0.0239 - val_accuracy: 0.9932\n",
      "Epoch 58/200\n",
      "1/1 [==============================] - 0s 26ms/step - loss: 0.0011 - accuracy: 1.0000 - val_loss: 0.0226 - val_accuracy: 0.9932\n",
      "Epoch 59/200\n",
      "1/1 [==============================] - 0s 24ms/step - loss: 9.5918e-04 - accuracy: 1.0000 - val_loss: 0.0216 - val_accuracy: 0.9932\n",
      "Epoch 60/200\n",
      "1/1 [==============================] - 0s 25ms/step - loss: 9.2989e-04 - accuracy: 1.0000 - val_loss: 0.0214 - val_accuracy: 0.9932\n",
      "Epoch 61/200\n",
      "1/1 [==============================] - 0s 25ms/step - loss: 8.7625e-04 - accuracy: 1.0000 - val_loss: 0.0220 - val_accuracy: 0.9932\n",
      "Epoch 62/200\n",
      "1/1 [==============================] - 0s 26ms/step - loss: 7.4937e-04 - accuracy: 1.0000 - val_loss: 0.0231 - val_accuracy: 0.9932\n",
      "Epoch 63/200\n",
      "1/1 [==============================] - 0s 25ms/step - loss: 6.3923e-04 - accuracy: 1.0000 - val_loss: 0.0244 - val_accuracy: 0.9932\n",
      "Epoch 64/200\n",
      "1/1 [==============================] - 0s 24ms/step - loss: 5.9507e-04 - accuracy: 1.0000 - val_loss: 0.0254 - val_accuracy: 0.9932\n",
      "Epoch 65/200\n",
      "1/1 [==============================] - 0s 25ms/step - loss: 5.8318e-04 - accuracy: 1.0000 - val_loss: 0.0260 - val_accuracy: 0.9932\n",
      "Epoch 66/200\n",
      "1/1 [==============================] - 0s 24ms/step - loss: 5.5172e-04 - accuracy: 1.0000 - val_loss: 0.0259 - val_accuracy: 0.9932\n",
      "Epoch 67/200\n",
      "1/1 [==============================] - 0s 25ms/step - loss: 4.9273e-04 - accuracy: 1.0000 - val_loss: 0.0256 - val_accuracy: 0.9932\n",
      "Epoch 68/200\n",
      "1/1 [==============================] - 0s 26ms/step - loss: 4.3577e-04 - accuracy: 1.0000 - val_loss: 0.0251 - val_accuracy: 0.9932\n",
      "Epoch 69/200\n",
      "1/1 [==============================] - 0s 25ms/step - loss: 4.0334e-04 - accuracy: 1.0000 - val_loss: 0.0248 - val_accuracy: 0.9932\n",
      "Epoch 70/200\n",
      "1/1 [==============================] - 0s 24ms/step - loss: 3.9165e-04 - accuracy: 1.0000 - val_loss: 0.0248 - val_accuracy: 0.9932\n",
      "Epoch 71/200\n",
      "1/1 [==============================] - 0s 25ms/step - loss: 3.8204e-04 - accuracy: 1.0000 - val_loss: 0.0252 - val_accuracy: 0.9932\n",
      "Epoch 72/200\n",
      "1/1 [==============================] - 0s 25ms/step - loss: 3.6104e-04 - accuracy: 1.0000 - val_loss: 0.0259 - val_accuracy: 0.9932\n",
      "Epoch 73/200\n",
      "1/1 [==============================] - 0s 25ms/step - loss: 3.3121e-04 - accuracy: 1.0000 - val_loss: 0.0268 - val_accuracy: 0.9932\n",
      "Epoch 74/200\n",
      "1/1 [==============================] - 0s 87ms/step - loss: 3.0396e-04 - accuracy: 1.0000 - val_loss: 0.0278 - val_accuracy: 0.9932\n"
     ]
    }
   ],
   "source": [
    "model = Sequential()\n",
    "model.add(tf.keras.Input(shape=(numberOfFeatures2,))) #(numberOfFeatures,)\n",
    "\n",
    "model.add(Dense(128))\n",
    "#model.add(Dropout(0.8))\n",
    "model.add(Activation('relu'))\n",
    "\n",
    "model.add(Dense(64))\n",
    "#model.add(Dropout(0.5))\n",
    "model.add(Activation('relu'))\n",
    "\n",
    "# model.add(Dense(16))\n",
    "# #model.add(Dropout(0.5))\n",
    "# model.add(Activation('relu'))\n",
    "\n",
    "model.add(Dense(1, activation='sigmoid'))\n",
    "model.summary()\n",
    "\n",
    "opt = tf.keras.optimizers.Adam(learning_rate=0.045) #, decay=1e-3) #If validation is not following training in trend then the learning rate might be too high\n",
    "model.compile(loss='binary_crossentropy', optimizer=opt, metrics=['accuracy']) #focal_loss_custom(alpha=0.2, gamma=2) #'binary_crossentropy'#focal_loss_custom(alpha=0.25, gamma=2)\n",
    "\n",
    "scaler = preprocessing.Normalizer().fit(X_train2)\n",
    "X_train4 = scaler.transform(X_train2)\n",
    "X_test4 = scaler.transform(X_test)\n",
    "X_val4 = scaler.transform(X_val)\n",
    "\n",
    "history = model.fit(X_train4,y_train2, epochs = ep,batch_size=1024,validation_data=(X_val4, y_val), callbacks=[stop_early],shuffle=True)"
   ]
  },
  {
   "cell_type": "code",
   "execution_count": 130,
   "metadata": {},
   "outputs": [
    {
     "name": "stderr",
     "output_type": "stream",
     "text": [
      "2023-04-06 01:52:46.034045: I tensorflow/core/grappler/optimizers/custom_graph_optimizer_registry.cc:113] Plugin optimizer for device_type GPU is enabled.\n"
     ]
    }
   ],
   "source": [
    "# Make predictions on test data\n",
    "y_pred_classes = model.predict(X_test4)\n",
    "\n",
    "y_preds_classes = model.predict(X_test4)\n",
    "y_preds_classes = y_preds_classes.flatten()\n",
    "y_pred_classes = list(map(lambda x: 0 if x<0.5 else 1, y_preds_classes))\n",
    "\n",
    "y_test_classes = y_test"
   ]
  },
  {
   "cell_type": "code",
   "execution_count": 131,
   "metadata": {},
   "outputs": [],
   "source": [
    "# Calculate F1 score macro and Precision macro\n",
    "f1_value = f1_score(y_test_classes, y_pred_classes, average='macro')\n",
    "precision = precision_score(y_test_classes, y_pred_classes, average='macro')\n",
    "sensitivity = recall_score(y_test_classes, y_pred_classes,average='macro')#,pos_label = 1, average='binary')\n",
    "accuracy = accuracy_score(y_test_classes, y_pred_classes)\n",
    "\n",
    "acc_score.append(accuracy)\n",
    "re_score.append(sensitivity)\n",
    "pre_score.append(precision)\n",
    "f_score.append(f1_value)\n",
    "\n",
    "k = 1 \n",
    "\n",
    "avg_acc_score = sum(acc_score)/k\n",
    "avg_recall_score = sum(re_score)/k\n",
    "avg_precision_score = sum(pre_score)/k\n",
    "avg_f1_score = sum(f_score)/k\n",
    "\n",
    "sensitivity = avg_recall_score\n",
    "precision = avg_precision_score\n",
    "accuracy = avg_acc_score\n",
    "f1_score = avg_f1_score"
   ]
  },
  {
   "cell_type": "code",
   "execution_count": 132,
   "metadata": {},
   "outputs": [
    {
     "name": "stdout",
     "output_type": "stream",
     "text": [
      "Avg accuracy : 0.952755905511811\n",
      "Avg Reccall : 0.8960055096418733\n",
      "Avg Precision : 0.7457264957264957\n",
      "Avg F1_score : 0.7998949579831933\n"
     ]
    }
   ],
   "source": [
    "#print('accuracy of each fold - {}'.format(acc_score))\n",
    "print('Avg accuracy : {}'.format(avg_acc_score))\n",
    "#print('Recall of each fold - {}'.format(re_score))\n",
    "print('Avg Reccall : {}'.format(avg_recall_score))\n",
    "#print('Precision of each fold - {}'.format(pre_score))\n",
    "print('Avg Precision : {}'.format(avg_precision_score))\n",
    "#print('F1_Score of each fold - {}'.format(f_score))\n",
    "print('Avg F1_score : {}'.format(avg_f1_score))"
   ]
  },
  {
   "cell_type": "code",
   "execution_count": 133,
   "metadata": {},
   "outputs": [
    {
     "data": {
      "image/png": "[encoded data removed]",
      "text/plain": [
       "<Figure size 432x288 with 2 Axes>"
      ]
     },
     "metadata": {
      "needs_background": "light"
     },
     "output_type": "display_data"
    },
    {
     "data": {
      "text/plain": [
       "array([0.83333333, 0.95867769])"
      ]
     },
     "execution_count": 133,
     "metadata": {},
     "output_type": "execute_result"
    }
   ],
   "source": [
    "from sklearn.metrics import confusion_matrix, ConfusionMatrixDisplay\n",
    "matrix = matrix2 = confusion_matrix(y_test_classes, y_pred_classes)\n",
    "cm_display = ConfusionMatrixDisplay(confusion_matrix = matrix2)\n",
    "cm_display.plot()\n",
    "plt.show()\n",
    "matrix.diagonal()/matrix.sum(axis=1)"
   ]
  },
  {
   "cell_type": "code",
   "execution_count": 134,
   "metadata": {},
   "outputs": [],
   "source": [
    "Accuracies = matrix.diagonal()/matrix.sum(axis=1)\n",
    "\n",
    "Less3 = Accuracies[0]\n",
    "Greater3 = Accuracies[1]"
   ]
  },
  {
   "cell_type": "code",
   "execution_count": 135,
   "metadata": {},
   "outputs": [
    {
     "data": {
      "image/png": "[encoded data removed]",
      "text/plain": [
       "<Figure size 432x288 with 1 Axes>"
      ]
     },
     "metadata": {
      "needs_background": "light"
     },
     "output_type": "display_data"
    }
   ],
   "source": [
    "# Plot the accuracy of the model during training\n",
    "\n",
    "#plt.plot()\n",
    "plt.plot(history.history['loss'])\n",
    "plt.plot(history.history['val_loss'])\n",
    "plt.title('Model Loss')\n",
    "plt.ylabel('Loss')\n",
    "plt.xlabel('Epoch')\n",
    "plt.legend(['Training', 'Validation'], loc='upper left')\n",
    "plt.show()"
   ]
  },
  {
   "cell_type": "code",
   "execution_count": 136,
   "metadata": {},
   "outputs": [
    {
     "data": {
      "image/png": "[encoded data removed]",
      "text/plain": [
       "<Figure size 432x288 with 1 Axes>"
      ]
     },
     "metadata": {
      "needs_background": "light"
     },
     "output_type": "display_data"
    }
   ],
   "source": [
    "# Plot the accuracy of the model during training\n",
    "\n",
    "#plt.plot()\n",
    "plt.plot(history.history['accuracy'])\n",
    "plt.plot(history.history['val_accuracy'])\n",
    "plt.title('Model Accuracy')\n",
    "plt.ylabel('Validation Accuracy')\n",
    "plt.xlabel('Epoch')\n",
    "plt.legend(['Training', 'Validation'], loc='upper left')\n",
    "plt.show()"
   ]
  },
  {
   "cell_type": "code",
   "execution_count": 137,
   "metadata": {},
   "outputs": [],
   "source": [
    "Accuracies = matrix.diagonal()/matrix.sum(axis=1)\n",
    "\n",
    "accuracy = (Greater3+Less3)/2"
   ]
  },
  {
   "cell_type": "code",
   "execution_count": 138,
   "metadata": {},
   "outputs": [],
   "source": [
    "import csv\n",
    "import os.path\n",
    "\n",
    "csv_columns = ['model-type','precision','sensitivity','f1-score','accuracy','NumberOfWindows','Epochs','Run_Time']\n",
    "dict_data = [{'model-type':'ANN', 'precision': precision,'sensitivity': sensitivity,'f1-score': f1_score,'accuracy': accuracy,'NumberOfWindows':numberOfWindows,\"Epochs\":ep}]\n",
    "metric_file = \"Results_Apr3/ptdb_ANN_1.csv\"\n",
    "\n",
    "file_exists = os.path.isfile(metric_file)\n",
    "try:\n",
    "    with open(metric_file, 'a') as csvfile:\n",
    "        writer = csv.DictWriter(csvfile, fieldnames=csv_columns)\n",
    "        if not file_exists:\n",
    "            writer.writeheader()\n",
    "        for data in dict_data:\n",
    "            writer.writerow(data)\n",
    "except IOError:\n",
    "    print(\"I/O error\")"
   ]
  }
 ],
 "metadata": {
  "kernelspec": {
   "display_name": "Python 3",
   "language": "python",
   "name": "python3"
  },
  "language_info": {
   "codemirror_mode": {
    "name": "ipython",
    "version": 3
   },
   "file_extension": ".py",
   "mimetype": "text/x-python",
   "name": "python",
   "nbconvert_exporter": "python",
   "pygments_lexer": "ipython3",
   "version": "3.9.10"
  },
  "orig_nbformat": 4,
  "vscode": {
   "interpreter": {
    "hash": "9f3ba9e726005c067fbc0eaab20e31f21cd7f7e132fec231b7dd4c5a2981fed5"
   }
  }
 },
 "nbformat": 4,
 "nbformat_minor": 2
}
